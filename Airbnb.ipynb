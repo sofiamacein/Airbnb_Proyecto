{
 "cells": [
  {
   "cell_type": "markdown",
   "id": "d7419b51",
   "metadata": {},
   "source": [
    "<h1><center>Práctica Aprendizaje: Airbnb.</center></h1>"
   ]
  },
  {
   "cell_type": "markdown",
   "id": "b130932d",
   "metadata": {},
   "source": [
    "<h1><center>Análisis Exploratorio de los datos</center></h1>"
   ]
  },
  {
   "cell_type": "markdown",
   "id": "75aaba2d",
   "metadata": {},
   "source": [
    "# Introducción"
   ]
  },
  {
   "cell_type": "markdown",
   "id": "89dd17e5",
   "metadata": {},
   "source": [
    "- Conjunto de datos: El conjunto de datos escogido es éste, extraído de Airbnb mediante técnicas de scraping. Dentro de las opciones recomiendo utilizar el extract (“Only the 14780 selected records”), ya que minimiza el tiempo de ejecución y evita problemas de memoria en equipos con menos prestaciones. airbnb-listing-extract.csv\n",
    "- Se busca crear un evaluador automático de precios a partir de las carácterísticas de los alojamientos. "
   ]
  },
  {
   "cell_type": "markdown",
   "id": "807a66b7",
   "metadata": {},
   "source": [
    "# 0. Librerías"
   ]
  },
  {
   "cell_type": "code",
   "execution_count": 1,
   "id": "32dcaecc",
   "metadata": {},
   "outputs": [],
   "source": [
    "# Paquetes y librerias\n",
    "import numpy as np\n",
    "import pandas as pd\n",
    "import seaborn as sns\n",
    "import matplotlib.pyplot as plt  \n",
    "\n",
    "%matplotlib inline"
   ]
  },
  {
   "cell_type": "code",
   "execution_count": 2,
   "id": "cae36579",
   "metadata": {},
   "outputs": [],
   "source": [
    "import warnings\n",
    "warnings.filterwarnings('ignore')"
   ]
  },
  {
   "cell_type": "markdown",
   "id": "84a6bffb",
   "metadata": {},
   "source": [
    "# 1. Análisis exploratorio de los datos"
   ]
  },
  {
   "cell_type": "markdown",
   "id": "cefc1628",
   "metadata": {},
   "source": [
    "## Selección de variables"
   ]
  },
  {
   "cell_type": "markdown",
   "id": "777ba48c",
   "metadata": {},
   "source": [
    "Vamos a comenzar con una exploración previa de los datos por si fuera necesario realizar cambios o transformaciones en los mismos."
   ]
  },
  {
   "cell_type": "markdown",
   "id": "076cb2a6",
   "metadata": {},
   "source": [
    "En primer lugar, cargamos los datos y miramos la dimensión y la estructura."
   ]
  },
  {
   "cell_type": "code",
   "execution_count": 3,
   "id": "32133af0",
   "metadata": {},
   "outputs": [
    {
     "data": {
      "text/html": [
       "<div>\n",
       "<style scoped>\n",
       "    .dataframe tbody tr th:only-of-type {\n",
       "        vertical-align: middle;\n",
       "    }\n",
       "\n",
       "    .dataframe tbody tr th {\n",
       "        vertical-align: top;\n",
       "    }\n",
       "\n",
       "    .dataframe thead th {\n",
       "        text-align: right;\n",
       "    }\n",
       "</style>\n",
       "<table border=\"1\" class=\"dataframe\">\n",
       "  <thead>\n",
       "    <tr style=\"text-align: right;\">\n",
       "      <th></th>\n",
       "      <th>id</th>\n",
       "      <th>experiences_offered</th>\n",
       "      <th>host_id</th>\n",
       "      <th>host_name</th>\n",
       "      <th>host_since</th>\n",
       "      <th>host_location</th>\n",
       "      <th>host_response_time</th>\n",
       "      <th>host_response_rate</th>\n",
       "      <th>host_acceptance_rate</th>\n",
       "      <th>host_is_superhost</th>\n",
       "      <th>...</th>\n",
       "      <th>instant_bookable</th>\n",
       "      <th>is_business_travel_ready</th>\n",
       "      <th>cancellation_policy</th>\n",
       "      <th>require_guest_profile_picture</th>\n",
       "      <th>require_guest_phone_verification</th>\n",
       "      <th>calculated_host_listings_count</th>\n",
       "      <th>calculated_host_listings_count_entire_homes</th>\n",
       "      <th>calculated_host_listings_count_private_rooms</th>\n",
       "      <th>calculated_host_listings_count_shared_rooms</th>\n",
       "      <th>reviews_per_month</th>\n",
       "    </tr>\n",
       "  </thead>\n",
       "  <tbody>\n",
       "    <tr>\n",
       "      <th>0</th>\n",
       "      <td>10080</td>\n",
       "      <td>none</td>\n",
       "      <td>30899</td>\n",
       "      <td>Rami</td>\n",
       "      <td>2009-08-10</td>\n",
       "      <td>Vancouver, British Columbia, Canada</td>\n",
       "      <td>within a few hours</td>\n",
       "      <td>85%</td>\n",
       "      <td>NaN</td>\n",
       "      <td>f</td>\n",
       "      <td>...</td>\n",
       "      <td>f</td>\n",
       "      <td>f</td>\n",
       "      <td>strict_14_with_grace_period</td>\n",
       "      <td>f</td>\n",
       "      <td>f</td>\n",
       "      <td>31</td>\n",
       "      <td>31</td>\n",
       "      <td>0</td>\n",
       "      <td>0</td>\n",
       "      <td>0.18</td>\n",
       "    </tr>\n",
       "    <tr>\n",
       "      <th>1</th>\n",
       "      <td>11400</td>\n",
       "      <td>none</td>\n",
       "      <td>42305</td>\n",
       "      <td>Jaynne</td>\n",
       "      <td>2009-09-30</td>\n",
       "      <td>Vancouver, British Columbia, Canada</td>\n",
       "      <td>NaN</td>\n",
       "      <td>NaN</td>\n",
       "      <td>NaN</td>\n",
       "      <td>f</td>\n",
       "      <td>...</td>\n",
       "      <td>f</td>\n",
       "      <td>f</td>\n",
       "      <td>strict_14_with_grace_period</td>\n",
       "      <td>t</td>\n",
       "      <td>t</td>\n",
       "      <td>1</td>\n",
       "      <td>0</td>\n",
       "      <td>1</td>\n",
       "      <td>0</td>\n",
       "      <td>0.64</td>\n",
       "    </tr>\n",
       "    <tr>\n",
       "      <th>2</th>\n",
       "      <td>13188</td>\n",
       "      <td>none</td>\n",
       "      <td>51466</td>\n",
       "      <td>Family Guns</td>\n",
       "      <td>2009-11-04</td>\n",
       "      <td>Vancouver, British Columbia, Canada</td>\n",
       "      <td>within an hour</td>\n",
       "      <td>100%</td>\n",
       "      <td>NaN</td>\n",
       "      <td>t</td>\n",
       "      <td>...</td>\n",
       "      <td>t</td>\n",
       "      <td>f</td>\n",
       "      <td>moderate</td>\n",
       "      <td>f</td>\n",
       "      <td>f</td>\n",
       "      <td>1</td>\n",
       "      <td>1</td>\n",
       "      <td>0</td>\n",
       "      <td>0</td>\n",
       "      <td>1.51</td>\n",
       "    </tr>\n",
       "    <tr>\n",
       "      <th>3</th>\n",
       "      <td>13357</td>\n",
       "      <td>none</td>\n",
       "      <td>52118</td>\n",
       "      <td>Liliana</td>\n",
       "      <td>2009-11-07</td>\n",
       "      <td>Vancouver, British Columbia, Canada</td>\n",
       "      <td>within an hour</td>\n",
       "      <td>100%</td>\n",
       "      <td>NaN</td>\n",
       "      <td>f</td>\n",
       "      <td>...</td>\n",
       "      <td>f</td>\n",
       "      <td>f</td>\n",
       "      <td>strict_14_with_grace_period</td>\n",
       "      <td>t</td>\n",
       "      <td>t</td>\n",
       "      <td>2</td>\n",
       "      <td>2</td>\n",
       "      <td>0</td>\n",
       "      <td>0</td>\n",
       "      <td>0.51</td>\n",
       "    </tr>\n",
       "    <tr>\n",
       "      <th>4</th>\n",
       "      <td>13358</td>\n",
       "      <td>none</td>\n",
       "      <td>52116</td>\n",
       "      <td>Lynn</td>\n",
       "      <td>2009-11-07</td>\n",
       "      <td>Vancouver, British Columbia, Canada</td>\n",
       "      <td>NaN</td>\n",
       "      <td>NaN</td>\n",
       "      <td>NaN</td>\n",
       "      <td>f</td>\n",
       "      <td>...</td>\n",
       "      <td>f</td>\n",
       "      <td>f</td>\n",
       "      <td>strict_14_with_grace_period</td>\n",
       "      <td>f</td>\n",
       "      <td>t</td>\n",
       "      <td>1</td>\n",
       "      <td>1</td>\n",
       "      <td>0</td>\n",
       "      <td>0</td>\n",
       "      <td>3.65</td>\n",
       "    </tr>\n",
       "  </tbody>\n",
       "</table>\n",
       "<p>5 rows × 82 columns</p>\n",
       "</div>"
      ],
      "text/plain": [
       "      id experiences_offered  host_id    host_name  host_since  \\\n",
       "0  10080                none    30899         Rami  2009-08-10   \n",
       "1  11400                none    42305       Jaynne  2009-09-30   \n",
       "2  13188                none    51466  Family Guns  2009-11-04   \n",
       "3  13357                none    52118      Liliana  2009-11-07   \n",
       "4  13358                none    52116         Lynn  2009-11-07   \n",
       "\n",
       "                         host_location  host_response_time host_response_rate  \\\n",
       "0  Vancouver, British Columbia, Canada  within a few hours                85%   \n",
       "1  Vancouver, British Columbia, Canada                 NaN                NaN   \n",
       "2  Vancouver, British Columbia, Canada      within an hour               100%   \n",
       "3  Vancouver, British Columbia, Canada      within an hour               100%   \n",
       "4  Vancouver, British Columbia, Canada                 NaN                NaN   \n",
       "\n",
       "   host_acceptance_rate host_is_superhost  ... instant_bookable  \\\n",
       "0                   NaN                 f  ...                f   \n",
       "1                   NaN                 f  ...                f   \n",
       "2                   NaN                 t  ...                t   \n",
       "3                   NaN                 f  ...                f   \n",
       "4                   NaN                 f  ...                f   \n",
       "\n",
       "   is_business_travel_ready          cancellation_policy  \\\n",
       "0                         f  strict_14_with_grace_period   \n",
       "1                         f  strict_14_with_grace_period   \n",
       "2                         f                     moderate   \n",
       "3                         f  strict_14_with_grace_period   \n",
       "4                         f  strict_14_with_grace_period   \n",
       "\n",
       "  require_guest_profile_picture require_guest_phone_verification  \\\n",
       "0                             f                                f   \n",
       "1                             t                                t   \n",
       "2                             f                                f   \n",
       "3                             t                                t   \n",
       "4                             f                                t   \n",
       "\n",
       "  calculated_host_listings_count calculated_host_listings_count_entire_homes  \\\n",
       "0                             31                                          31   \n",
       "1                              1                                           0   \n",
       "2                              1                                           1   \n",
       "3                              2                                           2   \n",
       "4                              1                                           1   \n",
       "\n",
       "  calculated_host_listings_count_private_rooms  \\\n",
       "0                                            0   \n",
       "1                                            1   \n",
       "2                                            0   \n",
       "3                                            0   \n",
       "4                                            0   \n",
       "\n",
       "   calculated_host_listings_count_shared_rooms reviews_per_month  \n",
       "0                                            0              0.18  \n",
       "1                                            0              0.64  \n",
       "2                                            0              1.51  \n",
       "3                                            0              0.51  \n",
       "4                                            0              3.65  \n",
       "\n",
       "[5 rows x 82 columns]"
      ]
     },
     "execution_count": 3,
     "metadata": {},
     "output_type": "execute_result"
    }
   ],
   "source": [
    "# Cargamos los datos\n",
    "dt = pd.read_csv(\"airbnb-listings-cleaned.csv\")\n",
    "dt.head(5)"
   ]
  },
  {
   "cell_type": "code",
   "execution_count": 4,
   "id": "db10c842",
   "metadata": {},
   "outputs": [
    {
     "data": {
      "text/plain": [
       "(4837, 82)"
      ]
     },
     "execution_count": 4,
     "metadata": {},
     "output_type": "execute_result"
    }
   ],
   "source": [
    "# Dimension de los datos\n",
    "dt.shape"
   ]
  },
  {
   "cell_type": "markdown",
   "id": "d141d5f8",
   "metadata": {},
   "source": [
    "Tenemos 4837 registros de 82 variables.\n",
    "\n",
    "**Nota:** Agregar un README en github con descripción de las variables del dataframe y poner enlace"
   ]
  },
  {
   "cell_type": "markdown",
   "id": "688dcaa6",
   "metadata": {},
   "source": [
    "Vemos el tipo de las variables y si existen valores nulos."
   ]
  },
  {
   "cell_type": "code",
   "execution_count": 5,
   "id": "773e43da",
   "metadata": {
    "scrolled": false
   },
   "outputs": [
    {
     "name": "stdout",
     "output_type": "stream",
     "text": [
      "<class 'pandas.core.frame.DataFrame'>\n",
      "RangeIndex: 4837 entries, 0 to 4836\n",
      "Data columns (total 82 columns):\n",
      " #   Column                                        Non-Null Count  Dtype  \n",
      "---  ------                                        --------------  -----  \n",
      " 0   id                                            4837 non-null   int64  \n",
      " 1   experiences_offered                           4837 non-null   object \n",
      " 2   host_id                                       4837 non-null   int64  \n",
      " 3   host_name                                     4836 non-null   object \n",
      " 4   host_since                                    4836 non-null   object \n",
      " 5   host_location                                 4830 non-null   object \n",
      " 6   host_response_time                            2731 non-null   object \n",
      " 7   host_response_rate                            2731 non-null   object \n",
      " 8   host_acceptance_rate                          0 non-null      float64\n",
      " 9   host_is_superhost                             4836 non-null   object \n",
      " 10  host_neighbourhood                            4252 non-null   object \n",
      " 11  host_listings_count                           4836 non-null   float64\n",
      " 12  host_total_listings_count                     4836 non-null   float64\n",
      " 13  host_has_profile_pic                          4836 non-null   object \n",
      " 14  host_identity_verified                        4836 non-null   object \n",
      " 15  street                                        4837 non-null   object \n",
      " 16  neighbourhood                                 4551 non-null   object \n",
      " 17  neighbourhood_cleansed                        4837 non-null   object \n",
      " 18  neighbourhood_group_cleansed                  0 non-null      float64\n",
      " 19  city                                          4832 non-null   object \n",
      " 20  state                                         4826 non-null   object \n",
      " 21  zipcode                                       4730 non-null   object \n",
      " 22  market                                        4831 non-null   object \n",
      " 23  smart_location                                4837 non-null   object \n",
      " 24  country_code                                  4837 non-null   object \n",
      " 25  country                                       4837 non-null   object \n",
      " 26  latitude                                      4837 non-null   float64\n",
      " 27  longitude                                     4837 non-null   float64\n",
      " 28  is_location_exact                             4837 non-null   object \n",
      " 29  property_type                                 4837 non-null   object \n",
      " 30  room_type                                     4837 non-null   object \n",
      " 31  accommodates                                  4837 non-null   int64  \n",
      " 32  bathrooms                                     4837 non-null   float64\n",
      " 33  bedrooms                                      4835 non-null   float64\n",
      " 34  beds                                          4831 non-null   float64\n",
      " 35  bed_type                                      4837 non-null   object \n",
      " 36  square_feet                                   78 non-null     float64\n",
      " 37  price                                         4837 non-null   float64\n",
      " 38  weekly_price                                  557 non-null    float64\n",
      " 39  monthly_price                                 592 non-null    float64\n",
      " 40  security_deposit                              4052 non-null   float64\n",
      " 41  cleaning_fee                                  4423 non-null   float64\n",
      " 42  guests_included                               4837 non-null   int64  \n",
      " 43  extra_people                                  4837 non-null   object \n",
      " 44  minimum_nights                                4837 non-null   int64  \n",
      " 45  maximum_nights                                4837 non-null   int64  \n",
      " 46  minimum_minimum_nights                        4837 non-null   int64  \n",
      " 47  maximum_minimum_nights                        4837 non-null   int64  \n",
      " 48  minimum_maximum_nights                        4837 non-null   int64  \n",
      " 49  maximum_maximum_nights                        4837 non-null   int64  \n",
      " 50  minimum_nights_avg_ntm                        4837 non-null   float64\n",
      " 51  maximum_nights_avg_ntm                        4837 non-null   float64\n",
      " 52  calendar_updated                              4837 non-null   object \n",
      " 53  has_availability                              4837 non-null   object \n",
      " 54  availability_30                               4837 non-null   int64  \n",
      " 55  availability_60                               4837 non-null   int64  \n",
      " 56  availability_90                               4837 non-null   int64  \n",
      " 57  availability_365                              4837 non-null   int64  \n",
      " 58  calendar_last_scraped                         4837 non-null   object \n",
      " 59  number_of_reviews                             4837 non-null   int64  \n",
      " 60  number_of_reviews_ltm                         4837 non-null   int64  \n",
      " 61  first_review                                  4155 non-null   object \n",
      " 62  last_review                                   4155 non-null   object \n",
      " 63  review_scores_rating                          4132 non-null   float64\n",
      " 64  review_scores_accuracy                        4131 non-null   float64\n",
      " 65  review_scores_cleanliness                     4132 non-null   float64\n",
      " 66  review_scores_checkin                         4129 non-null   float64\n",
      " 67  review_scores_communication                   4130 non-null   float64\n",
      " 68  review_scores_location                        4129 non-null   float64\n",
      " 69  review_scores_value                           4129 non-null   float64\n",
      " 70  requires_license                              4837 non-null   object \n",
      " 71  license                                       3770 non-null   object \n",
      " 72  instant_bookable                              4837 non-null   object \n",
      " 73  is_business_travel_ready                      4837 non-null   object \n",
      " 74  cancellation_policy                           4837 non-null   object \n",
      " 75  require_guest_profile_picture                 4837 non-null   object \n",
      " 76  require_guest_phone_verification              4837 non-null   object \n",
      " 77  calculated_host_listings_count                4837 non-null   int64  \n",
      " 78  calculated_host_listings_count_entire_homes   4837 non-null   int64  \n",
      " 79  calculated_host_listings_count_private_rooms  4837 non-null   int64  \n",
      " 80  calculated_host_listings_count_shared_rooms   4837 non-null   int64  \n",
      " 81  reviews_per_month                             4155 non-null   float64\n",
      "dtypes: float64(25), int64(20), object(37)\n",
      "memory usage: 3.0+ MB\n"
     ]
    }
   ],
   "source": [
    "# Tipo de las variables y valores nulos\n",
    "dt.info()"
   ]
  },
  {
   "cell_type": "markdown",
   "id": "0114afad",
   "metadata": {},
   "source": [
    "**Variables**"
   ]
  },
  {
   "cell_type": "markdown",
   "id": "9b11f7da",
   "metadata": {},
   "source": [
    "Variables que consideramos para el estudio cualitativo del host\n",
    "- host_id\n",
    "- host_since\n",
    "- host_is_superhost\n",
    "- host_verified\n",
    "\n",
    "Selección de variables para el modelo:\n",
    "- latitude\n",
    "- longitude\n",
    "- room_type: tipo de habitación (privada o apartamento)\n",
    "- accommodates: número de huéspedes\n",
    "- bathrooms: número de baños\n",
    "- bedrooms: número de habitaciones\n",
    "- beds: número de camas\n",
    "- security_deposit: depósito de seguro\n",
    "- celaning_fee: \n",
    "- guests_inclueded\n",
    "- extra_people\n",
    "- minimum_nights\n",
    "- maximum_nights\n",
    "- availability_90\n",
    "- number_of_reviews\n",
    "- review_scores_rating \n",
    "- review_scores_accuracy                  \n",
    "- review_scores_cleanliness                   \n",
    "- review_scores_checkin                  \n",
    "- review_scores_communication        \n",
    "- review_scores_location         \n",
    "- review_scores_value \n",
    "- reviews_per_month\n",
    "- **price**: Esta es la variable target"
   ]
  },
  {
   "cell_type": "code",
   "execution_count": 6,
   "id": "d7a52f94",
   "metadata": {
    "scrolled": true
   },
   "outputs": [
    {
     "data": {
      "text/plain": [
       "Index(['id', 'host_id', 'host_since', 'host_is_superhost',\n",
       "       'host_identity_verified', 'latitude', 'longitude', 'is_location_exact',\n",
       "       'room_type', 'accommodates', 'bathrooms', 'bedrooms', 'beds', 'price',\n",
       "       'security_deposit', 'cleaning_fee', 'guests_included', 'extra_people',\n",
       "       'minimum_nights', 'maximum_nights', 'availability_30',\n",
       "       'number_of_reviews', 'review_scores_rating', 'review_scores_accuracy',\n",
       "       'review_scores_cleanliness', 'review_scores_checkin',\n",
       "       'review_scores_communication', 'review_scores_location',\n",
       "       'review_scores_value'],\n",
       "      dtype='object')"
      ]
     },
     "execution_count": 6,
     "metadata": {},
     "output_type": "execute_result"
    }
   ],
   "source": [
    "cols = [1,3,5,6,7,8,10,11,12,13,15,16,17,18,19,20,21,22,23,24,25,29,35,36,38,39,46,47,48,49,50,51,52,53,55,56,57,58,\n",
    "        60,61,62,70,71,72,73,74,75,76,77,78,79,80,81]\n",
    "\n",
    "# Eliminamos las variables\n",
    "df = dt.drop(dt.columns[cols],axis = 1)\n",
    "df.columns"
   ]
  },
  {
   "cell_type": "code",
   "execution_count": 7,
   "id": "6e2f2246",
   "metadata": {},
   "outputs": [],
   "source": [
    "# Comprobamos que el indice es valido\n",
    "df['id'].isnull().sum()\n",
    "df['id'].duplicated().sum()\n",
    "\n",
    "# Cambiamos el indice\n",
    "df = df.set_index('id')"
   ]
  },
  {
   "cell_type": "code",
   "execution_count": 8,
   "id": "ea03695e",
   "metadata": {},
   "outputs": [
    {
     "data": {
      "text/html": [
       "<div>\n",
       "<style scoped>\n",
       "    .dataframe tbody tr th:only-of-type {\n",
       "        vertical-align: middle;\n",
       "    }\n",
       "\n",
       "    .dataframe tbody tr th {\n",
       "        vertical-align: top;\n",
       "    }\n",
       "\n",
       "    .dataframe thead th {\n",
       "        text-align: right;\n",
       "    }\n",
       "</style>\n",
       "<table border=\"1\" class=\"dataframe\">\n",
       "  <thead>\n",
       "    <tr style=\"text-align: right;\">\n",
       "      <th></th>\n",
       "      <th>host_id</th>\n",
       "      <th>host_since</th>\n",
       "      <th>host_is_superhost</th>\n",
       "      <th>host_identity_verified</th>\n",
       "      <th>latitude</th>\n",
       "      <th>longitude</th>\n",
       "      <th>is_location_exact</th>\n",
       "      <th>room_type</th>\n",
       "      <th>accommodates</th>\n",
       "      <th>bathrooms</th>\n",
       "      <th>...</th>\n",
       "      <th>maximum_nights</th>\n",
       "      <th>availability_30</th>\n",
       "      <th>number_of_reviews</th>\n",
       "      <th>review_scores_rating</th>\n",
       "      <th>review_scores_accuracy</th>\n",
       "      <th>review_scores_cleanliness</th>\n",
       "      <th>review_scores_checkin</th>\n",
       "      <th>review_scores_communication</th>\n",
       "      <th>review_scores_location</th>\n",
       "      <th>review_scores_value</th>\n",
       "    </tr>\n",
       "    <tr>\n",
       "      <th>id</th>\n",
       "      <th></th>\n",
       "      <th></th>\n",
       "      <th></th>\n",
       "      <th></th>\n",
       "      <th></th>\n",
       "      <th></th>\n",
       "      <th></th>\n",
       "      <th></th>\n",
       "      <th></th>\n",
       "      <th></th>\n",
       "      <th></th>\n",
       "      <th></th>\n",
       "      <th></th>\n",
       "      <th></th>\n",
       "      <th></th>\n",
       "      <th></th>\n",
       "      <th></th>\n",
       "      <th></th>\n",
       "      <th></th>\n",
       "      <th></th>\n",
       "      <th></th>\n",
       "    </tr>\n",
       "  </thead>\n",
       "  <tbody>\n",
       "    <tr>\n",
       "      <th>10080</th>\n",
       "      <td>30899</td>\n",
       "      <td>2009-08-10</td>\n",
       "      <td>f</td>\n",
       "      <td>t</td>\n",
       "      <td>49.287716</td>\n",
       "      <td>-123.121103</td>\n",
       "      <td>t</td>\n",
       "      <td>Entire home/apt</td>\n",
       "      <td>6</td>\n",
       "      <td>2.0</td>\n",
       "      <td>...</td>\n",
       "      <td>1124</td>\n",
       "      <td>0</td>\n",
       "      <td>16</td>\n",
       "      <td>93.0</td>\n",
       "      <td>9.0</td>\n",
       "      <td>9.0</td>\n",
       "      <td>10.0</td>\n",
       "      <td>9.0</td>\n",
       "      <td>10.0</td>\n",
       "      <td>9.0</td>\n",
       "    </tr>\n",
       "    <tr>\n",
       "      <th>11400</th>\n",
       "      <td>42305</td>\n",
       "      <td>2009-09-30</td>\n",
       "      <td>f</td>\n",
       "      <td>t</td>\n",
       "      <td>49.253756</td>\n",
       "      <td>-123.112659</td>\n",
       "      <td>t</td>\n",
       "      <td>Private room</td>\n",
       "      <td>1</td>\n",
       "      <td>1.0</td>\n",
       "      <td>...</td>\n",
       "      <td>364</td>\n",
       "      <td>30</td>\n",
       "      <td>70</td>\n",
       "      <td>92.0</td>\n",
       "      <td>9.0</td>\n",
       "      <td>10.0</td>\n",
       "      <td>10.0</td>\n",
       "      <td>10.0</td>\n",
       "      <td>10.0</td>\n",
       "      <td>9.0</td>\n",
       "    </tr>\n",
       "    <tr>\n",
       "      <th>13188</th>\n",
       "      <td>51466</td>\n",
       "      <td>2009-11-04</td>\n",
       "      <td>t</td>\n",
       "      <td>t</td>\n",
       "      <td>49.245770</td>\n",
       "      <td>-123.105158</td>\n",
       "      <td>t</td>\n",
       "      <td>Entire home/apt</td>\n",
       "      <td>4</td>\n",
       "      <td>1.0</td>\n",
       "      <td>...</td>\n",
       "      <td>1125</td>\n",
       "      <td>23</td>\n",
       "      <td>165</td>\n",
       "      <td>96.0</td>\n",
       "      <td>10.0</td>\n",
       "      <td>10.0</td>\n",
       "      <td>10.0</td>\n",
       "      <td>10.0</td>\n",
       "      <td>10.0</td>\n",
       "      <td>10.0</td>\n",
       "    </tr>\n",
       "    <tr>\n",
       "      <th>13357</th>\n",
       "      <td>52118</td>\n",
       "      <td>2009-11-07</td>\n",
       "      <td>f</td>\n",
       "      <td>t</td>\n",
       "      <td>49.279548</td>\n",
       "      <td>-123.105457</td>\n",
       "      <td>t</td>\n",
       "      <td>Entire home/apt</td>\n",
       "      <td>4</td>\n",
       "      <td>2.0</td>\n",
       "      <td>...</td>\n",
       "      <td>30</td>\n",
       "      <td>27</td>\n",
       "      <td>56</td>\n",
       "      <td>84.0</td>\n",
       "      <td>8.0</td>\n",
       "      <td>9.0</td>\n",
       "      <td>8.0</td>\n",
       "      <td>8.0</td>\n",
       "      <td>8.0</td>\n",
       "      <td>8.0</td>\n",
       "    </tr>\n",
       "    <tr>\n",
       "      <th>13358</th>\n",
       "      <td>52116</td>\n",
       "      <td>2009-11-07</td>\n",
       "      <td>f</td>\n",
       "      <td>f</td>\n",
       "      <td>49.282090</td>\n",
       "      <td>-123.125150</td>\n",
       "      <td>t</td>\n",
       "      <td>Entire home/apt</td>\n",
       "      <td>2</td>\n",
       "      <td>1.0</td>\n",
       "      <td>...</td>\n",
       "      <td>60</td>\n",
       "      <td>5</td>\n",
       "      <td>384</td>\n",
       "      <td>94.0</td>\n",
       "      <td>10.0</td>\n",
       "      <td>10.0</td>\n",
       "      <td>10.0</td>\n",
       "      <td>10.0</td>\n",
       "      <td>10.0</td>\n",
       "      <td>9.0</td>\n",
       "    </tr>\n",
       "  </tbody>\n",
       "</table>\n",
       "<p>5 rows × 28 columns</p>\n",
       "</div>"
      ],
      "text/plain": [
       "       host_id  host_since host_is_superhost host_identity_verified  \\\n",
       "id                                                                    \n",
       "10080    30899  2009-08-10                 f                      t   \n",
       "11400    42305  2009-09-30                 f                      t   \n",
       "13188    51466  2009-11-04                 t                      t   \n",
       "13357    52118  2009-11-07                 f                      t   \n",
       "13358    52116  2009-11-07                 f                      f   \n",
       "\n",
       "        latitude   longitude is_location_exact        room_type  accommodates  \\\n",
       "id                                                                              \n",
       "10080  49.287716 -123.121103                 t  Entire home/apt             6   \n",
       "11400  49.253756 -123.112659                 t     Private room             1   \n",
       "13188  49.245770 -123.105158                 t  Entire home/apt             4   \n",
       "13357  49.279548 -123.105457                 t  Entire home/apt             4   \n",
       "13358  49.282090 -123.125150                 t  Entire home/apt             2   \n",
       "\n",
       "       bathrooms  ...  maximum_nights  availability_30  number_of_reviews  \\\n",
       "id                ...                                                       \n",
       "10080        2.0  ...            1124                0                 16   \n",
       "11400        1.0  ...             364               30                 70   \n",
       "13188        1.0  ...            1125               23                165   \n",
       "13357        2.0  ...              30               27                 56   \n",
       "13358        1.0  ...              60                5                384   \n",
       "\n",
       "       review_scores_rating  review_scores_accuracy  \\\n",
       "id                                                    \n",
       "10080                  93.0                     9.0   \n",
       "11400                  92.0                     9.0   \n",
       "13188                  96.0                    10.0   \n",
       "13357                  84.0                     8.0   \n",
       "13358                  94.0                    10.0   \n",
       "\n",
       "       review_scores_cleanliness review_scores_checkin  \\\n",
       "id                                                       \n",
       "10080                        9.0                  10.0   \n",
       "11400                       10.0                  10.0   \n",
       "13188                       10.0                  10.0   \n",
       "13357                        9.0                   8.0   \n",
       "13358                       10.0                  10.0   \n",
       "\n",
       "       review_scores_communication  review_scores_location  \\\n",
       "id                                                           \n",
       "10080                          9.0                    10.0   \n",
       "11400                         10.0                    10.0   \n",
       "13188                         10.0                    10.0   \n",
       "13357                          8.0                     8.0   \n",
       "13358                         10.0                    10.0   \n",
       "\n",
       "       review_scores_value  \n",
       "id                          \n",
       "10080                  9.0  \n",
       "11400                  9.0  \n",
       "13188                 10.0  \n",
       "13357                  8.0  \n",
       "13358                  9.0  \n",
       "\n",
       "[5 rows x 28 columns]"
      ]
     },
     "execution_count": 8,
     "metadata": {},
     "output_type": "execute_result"
    }
   ],
   "source": [
    "df.head(5)"
   ]
  },
  {
   "cell_type": "markdown",
   "id": "a4e622c1",
   "metadata": {},
   "source": [
    "Realizamos algunas modificaciones sobre las varibles:"
   ]
  },
  {
   "cell_type": "code",
   "execution_count": 9,
   "id": "0cce08ff",
   "metadata": {},
   "outputs": [],
   "source": [
    "# Nos quedamos solo con el año de host_since \n",
    "df['host_since'] = pd.to_datetime(df['host_since'], errors='coerce')\n",
    "df['host_since'] = df['host_since'].dt.year\n",
    "df['host_since'] = 2019 - df['host_since'].values\n",
    "df = df.rename(columns={'host_since': 'host_for'})"
   ]
  },
  {
   "cell_type": "code",
   "execution_count": 10,
   "id": "9776e08a",
   "metadata": {},
   "outputs": [],
   "source": [
    "# Pasamos is host_is_superhost y host_identity_verified a binario 1:t 0:f\n",
    "df['host_is_superhost'] = np.where(df['host_is_superhost'] == \"t\", 1,0)\n",
    "df['host_identity_verified'] = np.where(df['host_identity_verified'] == \"t\", 1,0)"
   ]
  },
  {
   "cell_type": "code",
   "execution_count": 11,
   "id": "916688ed",
   "metadata": {
    "scrolled": true
   },
   "outputs": [],
   "source": [
    "# Si la localizacion no esta verificada ponemos NaN\n",
    "df.loc[df['is_location_exact'] != 't', ['latitude', 'longitude']] = np.nan\n",
    "df = df.dropna(subset=['latitude', 'longitude'])\n",
    "df.drop(['is_location_exact'], axis = 1, inplace = True)"
   ]
  },
  {
   "cell_type": "code",
   "execution_count": 12,
   "id": "e2784b24",
   "metadata": {},
   "outputs": [],
   "source": [
    "# Cambiamos la variable room_type a dummies segun las 3 categorias\n",
    "df['room_type'].value_counts()\n",
    "df_rooms = pd.get_dummies(df[['room_type']], prefix = \"\", prefix_sep = \"\")\n",
    "df = pd.concat([df,df_rooms], axis=1)\n",
    "df.drop(['room_type'], axis = 1, inplace = True)"
   ]
  },
  {
   "cell_type": "code",
   "execution_count": 13,
   "id": "d3e3ad5c",
   "metadata": {},
   "outputs": [],
   "source": [
    "# Cambiamos extra_people a dtype=float64\n",
    "df['extra_people'] = df['extra_people'].str.replace('$','').astype('float64')"
   ]
  },
  {
   "cell_type": "code",
   "execution_count": 14,
   "id": "90971de8",
   "metadata": {
    "scrolled": true
   },
   "outputs": [
    {
     "data": {
      "text/html": [
       "<div>\n",
       "<style scoped>\n",
       "    .dataframe tbody tr th:only-of-type {\n",
       "        vertical-align: middle;\n",
       "    }\n",
       "\n",
       "    .dataframe tbody tr th {\n",
       "        vertical-align: top;\n",
       "    }\n",
       "\n",
       "    .dataframe thead th {\n",
       "        text-align: right;\n",
       "    }\n",
       "</style>\n",
       "<table border=\"1\" class=\"dataframe\">\n",
       "  <thead>\n",
       "    <tr style=\"text-align: right;\">\n",
       "      <th></th>\n",
       "      <th>host_id</th>\n",
       "      <th>host_for</th>\n",
       "      <th>host_is_superhost</th>\n",
       "      <th>host_identity_verified</th>\n",
       "      <th>latitude</th>\n",
       "      <th>longitude</th>\n",
       "      <th>accommodates</th>\n",
       "      <th>bathrooms</th>\n",
       "      <th>bedrooms</th>\n",
       "      <th>beds</th>\n",
       "      <th>...</th>\n",
       "      <th>review_scores_rating</th>\n",
       "      <th>review_scores_accuracy</th>\n",
       "      <th>review_scores_cleanliness</th>\n",
       "      <th>review_scores_checkin</th>\n",
       "      <th>review_scores_communication</th>\n",
       "      <th>review_scores_location</th>\n",
       "      <th>review_scores_value</th>\n",
       "      <th>Entire home/apt</th>\n",
       "      <th>Private room</th>\n",
       "      <th>Shared room</th>\n",
       "    </tr>\n",
       "    <tr>\n",
       "      <th>id</th>\n",
       "      <th></th>\n",
       "      <th></th>\n",
       "      <th></th>\n",
       "      <th></th>\n",
       "      <th></th>\n",
       "      <th></th>\n",
       "      <th></th>\n",
       "      <th></th>\n",
       "      <th></th>\n",
       "      <th></th>\n",
       "      <th></th>\n",
       "      <th></th>\n",
       "      <th></th>\n",
       "      <th></th>\n",
       "      <th></th>\n",
       "      <th></th>\n",
       "      <th></th>\n",
       "      <th></th>\n",
       "      <th></th>\n",
       "      <th></th>\n",
       "      <th></th>\n",
       "    </tr>\n",
       "  </thead>\n",
       "  <tbody>\n",
       "    <tr>\n",
       "      <th>10080</th>\n",
       "      <td>30899</td>\n",
       "      <td>10.0</td>\n",
       "      <td>0</td>\n",
       "      <td>1</td>\n",
       "      <td>49.287716</td>\n",
       "      <td>-123.121103</td>\n",
       "      <td>6</td>\n",
       "      <td>2.0</td>\n",
       "      <td>2.0</td>\n",
       "      <td>4.0</td>\n",
       "      <td>...</td>\n",
       "      <td>93.0</td>\n",
       "      <td>9.0</td>\n",
       "      <td>9.0</td>\n",
       "      <td>10.0</td>\n",
       "      <td>9.0</td>\n",
       "      <td>10.0</td>\n",
       "      <td>9.0</td>\n",
       "      <td>1</td>\n",
       "      <td>0</td>\n",
       "      <td>0</td>\n",
       "    </tr>\n",
       "    <tr>\n",
       "      <th>11400</th>\n",
       "      <td>42305</td>\n",
       "      <td>10.0</td>\n",
       "      <td>0</td>\n",
       "      <td>1</td>\n",
       "      <td>49.253756</td>\n",
       "      <td>-123.112659</td>\n",
       "      <td>1</td>\n",
       "      <td>1.0</td>\n",
       "      <td>1.0</td>\n",
       "      <td>1.0</td>\n",
       "      <td>...</td>\n",
       "      <td>92.0</td>\n",
       "      <td>9.0</td>\n",
       "      <td>10.0</td>\n",
       "      <td>10.0</td>\n",
       "      <td>10.0</td>\n",
       "      <td>10.0</td>\n",
       "      <td>9.0</td>\n",
       "      <td>0</td>\n",
       "      <td>1</td>\n",
       "      <td>0</td>\n",
       "    </tr>\n",
       "    <tr>\n",
       "      <th>13188</th>\n",
       "      <td>51466</td>\n",
       "      <td>10.0</td>\n",
       "      <td>1</td>\n",
       "      <td>1</td>\n",
       "      <td>49.245770</td>\n",
       "      <td>-123.105158</td>\n",
       "      <td>4</td>\n",
       "      <td>1.0</td>\n",
       "      <td>0.0</td>\n",
       "      <td>2.0</td>\n",
       "      <td>...</td>\n",
       "      <td>96.0</td>\n",
       "      <td>10.0</td>\n",
       "      <td>10.0</td>\n",
       "      <td>10.0</td>\n",
       "      <td>10.0</td>\n",
       "      <td>10.0</td>\n",
       "      <td>10.0</td>\n",
       "      <td>1</td>\n",
       "      <td>0</td>\n",
       "      <td>0</td>\n",
       "    </tr>\n",
       "    <tr>\n",
       "      <th>13357</th>\n",
       "      <td>52118</td>\n",
       "      <td>10.0</td>\n",
       "      <td>0</td>\n",
       "      <td>1</td>\n",
       "      <td>49.279548</td>\n",
       "      <td>-123.105457</td>\n",
       "      <td>4</td>\n",
       "      <td>2.0</td>\n",
       "      <td>2.0</td>\n",
       "      <td>2.0</td>\n",
       "      <td>...</td>\n",
       "      <td>84.0</td>\n",
       "      <td>8.0</td>\n",
       "      <td>9.0</td>\n",
       "      <td>8.0</td>\n",
       "      <td>8.0</td>\n",
       "      <td>8.0</td>\n",
       "      <td>8.0</td>\n",
       "      <td>1</td>\n",
       "      <td>0</td>\n",
       "      <td>0</td>\n",
       "    </tr>\n",
       "    <tr>\n",
       "      <th>13358</th>\n",
       "      <td>52116</td>\n",
       "      <td>10.0</td>\n",
       "      <td>0</td>\n",
       "      <td>0</td>\n",
       "      <td>49.282090</td>\n",
       "      <td>-123.125150</td>\n",
       "      <td>2</td>\n",
       "      <td>1.0</td>\n",
       "      <td>1.0</td>\n",
       "      <td>1.0</td>\n",
       "      <td>...</td>\n",
       "      <td>94.0</td>\n",
       "      <td>10.0</td>\n",
       "      <td>10.0</td>\n",
       "      <td>10.0</td>\n",
       "      <td>10.0</td>\n",
       "      <td>10.0</td>\n",
       "      <td>9.0</td>\n",
       "      <td>1</td>\n",
       "      <td>0</td>\n",
       "      <td>0</td>\n",
       "    </tr>\n",
       "  </tbody>\n",
       "</table>\n",
       "<p>5 rows × 29 columns</p>\n",
       "</div>"
      ],
      "text/plain": [
       "       host_id  host_for  host_is_superhost  host_identity_verified  \\\n",
       "id                                                                    \n",
       "10080    30899      10.0                  0                       1   \n",
       "11400    42305      10.0                  0                       1   \n",
       "13188    51466      10.0                  1                       1   \n",
       "13357    52118      10.0                  0                       1   \n",
       "13358    52116      10.0                  0                       0   \n",
       "\n",
       "        latitude   longitude  accommodates  bathrooms  bedrooms  beds  ...  \\\n",
       "id                                                                     ...   \n",
       "10080  49.287716 -123.121103             6        2.0       2.0   4.0  ...   \n",
       "11400  49.253756 -123.112659             1        1.0       1.0   1.0  ...   \n",
       "13188  49.245770 -123.105158             4        1.0       0.0   2.0  ...   \n",
       "13357  49.279548 -123.105457             4        2.0       2.0   2.0  ...   \n",
       "13358  49.282090 -123.125150             2        1.0       1.0   1.0  ...   \n",
       "\n",
       "       review_scores_rating  review_scores_accuracy  \\\n",
       "id                                                    \n",
       "10080                  93.0                     9.0   \n",
       "11400                  92.0                     9.0   \n",
       "13188                  96.0                    10.0   \n",
       "13357                  84.0                     8.0   \n",
       "13358                  94.0                    10.0   \n",
       "\n",
       "       review_scores_cleanliness  review_scores_checkin  \\\n",
       "id                                                        \n",
       "10080                        9.0                   10.0   \n",
       "11400                       10.0                   10.0   \n",
       "13188                       10.0                   10.0   \n",
       "13357                        9.0                    8.0   \n",
       "13358                       10.0                   10.0   \n",
       "\n",
       "       review_scores_communication  review_scores_location  \\\n",
       "id                                                           \n",
       "10080                          9.0                    10.0   \n",
       "11400                         10.0                    10.0   \n",
       "13188                         10.0                    10.0   \n",
       "13357                          8.0                     8.0   \n",
       "13358                         10.0                    10.0   \n",
       "\n",
       "       review_scores_value  Entire home/apt  Private room  Shared room  \n",
       "id                                                                      \n",
       "10080                  9.0                1             0            0  \n",
       "11400                  9.0                0             1            0  \n",
       "13188                 10.0                1             0            0  \n",
       "13357                  8.0                1             0            0  \n",
       "13358                  9.0                1             0            0  \n",
       "\n",
       "[5 rows x 29 columns]"
      ]
     },
     "execution_count": 14,
     "metadata": {},
     "output_type": "execute_result"
    }
   ],
   "source": [
    "df.head()"
   ]
  },
  {
   "cell_type": "markdown",
   "id": "89dcbdce",
   "metadata": {},
   "source": [
    "## Comprobaciones lógicas"
   ]
  },
  {
   "cell_type": "markdown",
   "id": "8fb2dd95",
   "metadata": {},
   "source": [
    "En esta sección haría ciertas comprobaciones en cuestion a las relaciones que hay entre variables. Por ejemplo:\n",
    "- Es raro que haya mas camas de las posibles acomodaciones\n",
    "- maximo de noches siempre por encima o igual al minimo de noches\n",
    "- Entire home/apt ver como se relaciona con private room y shared room"
   ]
  },
  {
   "cell_type": "markdown",
   "id": "ea66a610",
   "metadata": {},
   "source": [
    "**Camas y acomodaciones**"
   ]
  },
  {
   "cell_type": "code",
   "execution_count": 16,
   "id": "5da226a9",
   "metadata": {
    "scrolled": false
   },
   "outputs": [
    {
     "data": {
      "text/html": [
       "<div>\n",
       "<style scoped>\n",
       "    .dataframe tbody tr th:only-of-type {\n",
       "        vertical-align: middle;\n",
       "    }\n",
       "\n",
       "    .dataframe tbody tr th {\n",
       "        vertical-align: top;\n",
       "    }\n",
       "\n",
       "    .dataframe thead th {\n",
       "        text-align: right;\n",
       "    }\n",
       "</style>\n",
       "<table border=\"1\" class=\"dataframe\">\n",
       "  <thead>\n",
       "    <tr style=\"text-align: right;\">\n",
       "      <th></th>\n",
       "      <th>beds</th>\n",
       "      <th>accommodates</th>\n",
       "      <th>Private room</th>\n",
       "      <th>Shared room</th>\n",
       "    </tr>\n",
       "    <tr>\n",
       "      <th>id</th>\n",
       "      <th></th>\n",
       "      <th></th>\n",
       "      <th></th>\n",
       "      <th></th>\n",
       "    </tr>\n",
       "  </thead>\n",
       "  <tbody>\n",
       "    <tr>\n",
       "      <th>3290628</th>\n",
       "      <td>3.0</td>\n",
       "      <td>2</td>\n",
       "      <td>0</td>\n",
       "      <td>0</td>\n",
       "    </tr>\n",
       "    <tr>\n",
       "      <th>7109101</th>\n",
       "      <td>5.0</td>\n",
       "      <td>3</td>\n",
       "      <td>0</td>\n",
       "      <td>0</td>\n",
       "    </tr>\n",
       "    <tr>\n",
       "      <th>12391067</th>\n",
       "      <td>5.0</td>\n",
       "      <td>2</td>\n",
       "      <td>0</td>\n",
       "      <td>0</td>\n",
       "    </tr>\n",
       "    <tr>\n",
       "      <th>13456176</th>\n",
       "      <td>5.0</td>\n",
       "      <td>2</td>\n",
       "      <td>0</td>\n",
       "      <td>0</td>\n",
       "    </tr>\n",
       "    <tr>\n",
       "      <th>14202073</th>\n",
       "      <td>5.0</td>\n",
       "      <td>2</td>\n",
       "      <td>1</td>\n",
       "      <td>0</td>\n",
       "    </tr>\n",
       "    <tr>\n",
       "      <th>15508214</th>\n",
       "      <td>6.0</td>\n",
       "      <td>4</td>\n",
       "      <td>0</td>\n",
       "      <td>0</td>\n",
       "    </tr>\n",
       "    <tr>\n",
       "      <th>15984597</th>\n",
       "      <td>5.0</td>\n",
       "      <td>4</td>\n",
       "      <td>0</td>\n",
       "      <td>0</td>\n",
       "    </tr>\n",
       "    <tr>\n",
       "      <th>16219066</th>\n",
       "      <td>5.0</td>\n",
       "      <td>2</td>\n",
       "      <td>1</td>\n",
       "      <td>0</td>\n",
       "    </tr>\n",
       "    <tr>\n",
       "      <th>19469445</th>\n",
       "      <td>5.0</td>\n",
       "      <td>2</td>\n",
       "      <td>0</td>\n",
       "      <td>1</td>\n",
       "    </tr>\n",
       "    <tr>\n",
       "      <th>19589647</th>\n",
       "      <td>25.0</td>\n",
       "      <td>10</td>\n",
       "      <td>0</td>\n",
       "      <td>0</td>\n",
       "    </tr>\n",
       "    <tr>\n",
       "      <th>20235568</th>\n",
       "      <td>5.0</td>\n",
       "      <td>2</td>\n",
       "      <td>0</td>\n",
       "      <td>0</td>\n",
       "    </tr>\n",
       "    <tr>\n",
       "      <th>21363777</th>\n",
       "      <td>3.0</td>\n",
       "      <td>2</td>\n",
       "      <td>0</td>\n",
       "      <td>0</td>\n",
       "    </tr>\n",
       "    <tr>\n",
       "      <th>21455497</th>\n",
       "      <td>6.0</td>\n",
       "      <td>5</td>\n",
       "      <td>0</td>\n",
       "      <td>0</td>\n",
       "    </tr>\n",
       "    <tr>\n",
       "      <th>22167160</th>\n",
       "      <td>3.0</td>\n",
       "      <td>2</td>\n",
       "      <td>1</td>\n",
       "      <td>0</td>\n",
       "    </tr>\n",
       "    <tr>\n",
       "      <th>23340054</th>\n",
       "      <td>5.0</td>\n",
       "      <td>2</td>\n",
       "      <td>0</td>\n",
       "      <td>0</td>\n",
       "    </tr>\n",
       "    <tr>\n",
       "      <th>23373637</th>\n",
       "      <td>4.0</td>\n",
       "      <td>3</td>\n",
       "      <td>0</td>\n",
       "      <td>0</td>\n",
       "    </tr>\n",
       "    <tr>\n",
       "      <th>24475638</th>\n",
       "      <td>2.0</td>\n",
       "      <td>1</td>\n",
       "      <td>1</td>\n",
       "      <td>0</td>\n",
       "    </tr>\n",
       "    <tr>\n",
       "      <th>24923160</th>\n",
       "      <td>3.0</td>\n",
       "      <td>2</td>\n",
       "      <td>1</td>\n",
       "      <td>0</td>\n",
       "    </tr>\n",
       "    <tr>\n",
       "      <th>24968566</th>\n",
       "      <td>5.0</td>\n",
       "      <td>2</td>\n",
       "      <td>1</td>\n",
       "      <td>0</td>\n",
       "    </tr>\n",
       "    <tr>\n",
       "      <th>27343609</th>\n",
       "      <td>2.0</td>\n",
       "      <td>1</td>\n",
       "      <td>1</td>\n",
       "      <td>0</td>\n",
       "    </tr>\n",
       "    <tr>\n",
       "      <th>27504588</th>\n",
       "      <td>4.0</td>\n",
       "      <td>1</td>\n",
       "      <td>0</td>\n",
       "      <td>1</td>\n",
       "    </tr>\n",
       "    <tr>\n",
       "      <th>27709015</th>\n",
       "      <td>4.0</td>\n",
       "      <td>1</td>\n",
       "      <td>0</td>\n",
       "      <td>1</td>\n",
       "    </tr>\n",
       "    <tr>\n",
       "      <th>27834315</th>\n",
       "      <td>4.0</td>\n",
       "      <td>1</td>\n",
       "      <td>0</td>\n",
       "      <td>1</td>\n",
       "    </tr>\n",
       "    <tr>\n",
       "      <th>30440418</th>\n",
       "      <td>5.0</td>\n",
       "      <td>4</td>\n",
       "      <td>0</td>\n",
       "      <td>0</td>\n",
       "    </tr>\n",
       "    <tr>\n",
       "      <th>31262072</th>\n",
       "      <td>3.0</td>\n",
       "      <td>2</td>\n",
       "      <td>1</td>\n",
       "      <td>0</td>\n",
       "    </tr>\n",
       "  </tbody>\n",
       "</table>\n",
       "</div>"
      ],
      "text/plain": [
       "          beds  accommodates  Private room  Shared room\n",
       "id                                                     \n",
       "3290628    3.0             2             0            0\n",
       "7109101    5.0             3             0            0\n",
       "12391067   5.0             2             0            0\n",
       "13456176   5.0             2             0            0\n",
       "14202073   5.0             2             1            0\n",
       "15508214   6.0             4             0            0\n",
       "15984597   5.0             4             0            0\n",
       "16219066   5.0             2             1            0\n",
       "19469445   5.0             2             0            1\n",
       "19589647  25.0            10             0            0\n",
       "20235568   5.0             2             0            0\n",
       "21363777   3.0             2             0            0\n",
       "21455497   6.0             5             0            0\n",
       "22167160   3.0             2             1            0\n",
       "23340054   5.0             2             0            0\n",
       "23373637   4.0             3             0            0\n",
       "24475638   2.0             1             1            0\n",
       "24923160   3.0             2             1            0\n",
       "24968566   5.0             2             1            0\n",
       "27343609   2.0             1             1            0\n",
       "27504588   4.0             1             0            1\n",
       "27709015   4.0             1             0            1\n",
       "27834315   4.0             1             0            1\n",
       "30440418   5.0             4             0            0\n",
       "31262072   3.0             2             1            0"
      ]
     },
     "execution_count": 16,
     "metadata": {},
     "output_type": "execute_result"
    }
   ],
   "source": [
    "raro_ca = df[df['beds']>df['accommodates']]\n",
    "raro_ca[['beds','accommodates','Private room','Shared room']]"
   ]
  },
  {
   "cell_type": "markdown",
   "id": "efb3a39a",
   "metadata": {},
   "source": [
    "PREGUNTA: que significa que 'Private room','Shared room' esten ambas a cero"
   ]
  },
  {
   "cell_type": "code",
   "execution_count": 17,
   "id": "9037f13a",
   "metadata": {},
   "outputs": [
    {
     "data": {
      "text/plain": [
       "2858"
      ]
     },
     "execution_count": 17,
     "metadata": {},
     "output_type": "execute_result"
    }
   ],
   "source": [
    "((df['Private room']==0)&(df['Shared room']==0)).sum()"
   ]
  },
  {
   "cell_type": "markdown",
   "id": "f0e8ddea",
   "metadata": {},
   "source": [
    "**Numero de noches**"
   ]
  },
  {
   "cell_type": "code",
   "execution_count": 24,
   "id": "a04a96d0",
   "metadata": {},
   "outputs": [
    {
     "data": {
      "text/plain": [
       "0"
      ]
     },
     "execution_count": 24,
     "metadata": {},
     "output_type": "execute_result"
    }
   ],
   "source": [
    "(df['minimum_nights']>df['maximum_nights']).sum()"
   ]
  },
  {
   "cell_type": "markdown",
   "id": "07ae889a",
   "metadata": {},
   "source": [
    "Chupi guay"
   ]
  },
  {
   "cell_type": "markdown",
   "id": "e3b1a690",
   "metadata": {},
   "source": [
    "## Análisis descriptivo: nuria haria despues de missing y outlier porque vamos a tocar muchas cosas"
   ]
  },
  {
   "cell_type": "markdown",
   "id": "9dbd83a5",
   "metadata": {},
   "source": [
    "Vemos algunos estadísticos de los datos y estudiamos la distribución de las variables."
   ]
  },
  {
   "cell_type": "code",
   "execution_count": null,
   "id": "f65e0711",
   "metadata": {
    "scrolled": true
   },
   "outputs": [],
   "source": [
    "# Estadisticos descriptivos\n",
    "df.drop(columns=['host_id', 'latitude', 'longitude']).iloc[:,0:13].describe()"
   ]
  },
  {
   "cell_type": "code",
   "execution_count": null,
   "id": "ac268954",
   "metadata": {},
   "outputs": [],
   "source": [
    "# Estadisticos descriptivos\n",
    "df.drop(columns=['host_id', 'latitude', 'longitude']).iloc[:,13:].describe()"
   ]
  },
  {
   "cell_type": "code",
   "execution_count": null,
   "id": "153fb468",
   "metadata": {
    "scrolled": true
   },
   "outputs": [],
   "source": [
    "# Histograma de las variables\n",
    "df.drop(columns=['host_id', 'latitude', 'longitude']).hist(figsize=(20,15))\n",
    "plt.show()"
   ]
  },
  {
   "cell_type": "markdown",
   "id": "c200e8ce",
   "metadata": {},
   "source": [
    "## Imputación de missings"
   ]
  },
  {
   "cell_type": "code",
   "execution_count": 25,
   "id": "1ab590f1",
   "metadata": {
    "scrolled": true
   },
   "outputs": [
    {
     "data": {
      "text/plain": [
       "host_id                          0\n",
       "host_for                         1\n",
       "host_is_superhost                0\n",
       "host_identity_verified           0\n",
       "latitude                         0\n",
       "longitude                        0\n",
       "accommodates                     0\n",
       "bathrooms                        0\n",
       "bedrooms                         2\n",
       "beds                             3\n",
       "price                            0\n",
       "security_deposit               597\n",
       "cleaning_fee                   332\n",
       "guests_included                  0\n",
       "extra_people                     0\n",
       "minimum_nights                   0\n",
       "maximum_nights                   0\n",
       "availability_30                  0\n",
       "number_of_reviews                0\n",
       "review_scores_rating           574\n",
       "review_scores_accuracy         575\n",
       "review_scores_cleanliness      574\n",
       "review_scores_checkin          576\n",
       "review_scores_communication    576\n",
       "review_scores_location         576\n",
       "review_scores_value            576\n",
       "Entire home/apt                  0\n",
       "Private room                     0\n",
       "Shared room                      0\n",
       "dtype: int64"
      ]
     },
     "execution_count": 25,
     "metadata": {},
     "output_type": "execute_result"
    }
   ],
   "source": [
    "# Valores missing\n",
    "df.isnull().sum()"
   ]
  },
  {
   "cell_type": "markdown",
   "id": "39783304",
   "metadata": {},
   "source": [
    "**NOTA:** ver si los missing de review son de las mismas observciones"
   ]
  },
  {
   "cell_type": "markdown",
   "id": "a1887b2a",
   "metadata": {},
   "source": [
    "**Imputación de bedrooms y beds en base a una regresion lineal de accomodates y bathrooms**"
   ]
  },
  {
   "cell_type": "code",
   "execution_count": 26,
   "id": "8485a8c7",
   "metadata": {},
   "outputs": [],
   "source": [
    "# Librerias\n",
    "from sklearn.linear_model import LinearRegression"
   ]
  },
  {
   "cell_type": "code",
   "execution_count": 27,
   "id": "43484c9a",
   "metadata": {},
   "outputs": [],
   "source": [
    "# Separamos las variables\n",
    "target1 = 'bedrooms'\n",
    "features = ['accommodates', 'bathrooms']\n",
    "\n",
    "# Creating a copy of the DataFrame with only the selected features and the target variable\n",
    "df_selected1 = df[[target1] + features].copy()\n",
    "\n",
    "# Splitting the data into two subsets: one with missing values and one without\n",
    "df_missing = df_selected1[df_selected1.isnull().any(axis=1)]\n",
    "df_not_missing = df_selected1.dropna()\n",
    "\n",
    "# Imputacion de bedrooms\n",
    "# Linear regression imputation\n",
    "regression_model = LinearRegression()\n",
    "\n",
    "# Training the model using non-missing data\n",
    "regression_model.fit(df_not_missing[features], df_not_missing[target1])\n",
    "\n",
    "missing_predictions1 = regression_model.predict(df_missing[features])\n",
    "\n",
    "# Imputing missing values with the predicted values\n",
    "df_selected1.loc[df_selected1[target1].isnull(), target1]= missing_predictions1"
   ]
  },
  {
   "cell_type": "code",
   "execution_count": 28,
   "id": "d985348c",
   "metadata": {},
   "outputs": [],
   "source": [
    "# Separamos las variables\n",
    "target2 = 'beds'\n",
    "features = ['accommodates', 'bathrooms']\n",
    "\n",
    "# Creating a copy of the DataFrame with only the selected features and the target variable\n",
    "df_selected2 = df[[target2] + features].copy()\n",
    "\n",
    "# Splitting the data into two subsets: one with missing values and one without\n",
    "df_missing = df_selected2[df_selected2.isnull().any(axis=1)]\n",
    "df_not_missing = df_selected2.dropna()\n",
    "\n",
    "# Imputacion de beds\n",
    "# Linear regression imputation\n",
    "regression_model = LinearRegression()\n",
    "\n",
    "# Training the model using non-missing data\n",
    "regression_model.fit(df_not_missing[features], df_not_missing[target2])\n",
    "\n",
    "missing_predictions2 = regression_model.predict(df_missing[features])\n",
    "\n",
    "# Imputing missing values with the predicted values\n",
    "df_selected2.loc[df_selected2[target2].isnull(), target2] = missing_predictions2"
   ]
  },
  {
   "cell_type": "code",
   "execution_count": 29,
   "id": "7b4764cd",
   "metadata": {},
   "outputs": [],
   "source": [
    "df['bedrooms'] = df_selected1['bedrooms']\n",
    "df['beds'] = df_selected2['beds']"
   ]
  },
  {
   "cell_type": "markdown",
   "id": "2d5d9f14",
   "metadata": {},
   "source": [
    "**Imputacion de las review**"
   ]
  },
  {
   "cell_type": "code",
   "execution_count": 31,
   "id": "849721dd",
   "metadata": {},
   "outputs": [],
   "source": [
    "rating = df[df['review_scores_rating'].isna()].index\n",
    "accuracy = df[df['review_scores_accuracy'].isna()].index\n",
    "cleanliness = df[df['review_scores_cleanliness'].isna()].index\n",
    "checkin = df[df['review_scores_checkin'].isna()].index\n",
    "communication = df[df['review_scores_communication'].isna()].index\n",
    "location = df[df['review_scores_location'].isna()].index\n",
    "value = df[df['review_scores_value'].isna()].index"
   ]
  },
  {
   "cell_type": "code",
   "execution_count": 32,
   "id": "1e217a4b",
   "metadata": {},
   "outputs": [
    {
     "data": {
      "text/plain": [
       "574"
      ]
     },
     "execution_count": 32,
     "metadata": {},
     "output_type": "execute_result"
    }
   ],
   "source": [
    "(rating==cleanliness).sum()"
   ]
  },
  {
   "cell_type": "code",
   "execution_count": 33,
   "id": "e566988b",
   "metadata": {
    "scrolled": true
   },
   "outputs": [
    {
     "data": {
      "text/plain": [
       "576"
      ]
     },
     "execution_count": 33,
     "metadata": {},
     "output_type": "execute_result"
    }
   ],
   "source": [
    "((checkin==communication)&(communication==location)&(location==value)).sum()"
   ]
  },
  {
   "cell_type": "markdown",
   "id": "a9d053bf",
   "metadata": {},
   "source": [
    "De esto se deduce que todos son nulos en las mismas observaciones, por tanto no se puede predecir una en base a las otras."
   ]
  },
  {
   "cell_type": "code",
   "execution_count": 37,
   "id": "83463428",
   "metadata": {},
   "outputs": [],
   "source": [
    "df = df.drop(checkin)\n",
    "# tras quitar estas observaciones se me han ido bastantes outliers, creo que es bueno?"
   ]
  },
  {
   "cell_type": "markdown",
   "id": "58d2204c",
   "metadata": {},
   "source": [
    "**Imputacion host_for**"
   ]
  },
  {
   "cell_type": "code",
   "execution_count": 39,
   "id": "da1b2a43",
   "metadata": {
    "scrolled": false
   },
   "outputs": [
    {
     "data": {
      "text/html": [
       "<div>\n",
       "<style scoped>\n",
       "    .dataframe tbody tr th:only-of-type {\n",
       "        vertical-align: middle;\n",
       "    }\n",
       "\n",
       "    .dataframe tbody tr th {\n",
       "        vertical-align: top;\n",
       "    }\n",
       "\n",
       "    .dataframe thead th {\n",
       "        text-align: right;\n",
       "    }\n",
       "</style>\n",
       "<table border=\"1\" class=\"dataframe\">\n",
       "  <thead>\n",
       "    <tr style=\"text-align: right;\">\n",
       "      <th></th>\n",
       "      <th>host_id</th>\n",
       "      <th>host_for</th>\n",
       "      <th>host_is_superhost</th>\n",
       "      <th>host_identity_verified</th>\n",
       "      <th>latitude</th>\n",
       "      <th>longitude</th>\n",
       "      <th>accommodates</th>\n",
       "      <th>bathrooms</th>\n",
       "      <th>bedrooms</th>\n",
       "      <th>beds</th>\n",
       "      <th>...</th>\n",
       "      <th>review_scores_rating</th>\n",
       "      <th>review_scores_accuracy</th>\n",
       "      <th>review_scores_cleanliness</th>\n",
       "      <th>review_scores_checkin</th>\n",
       "      <th>review_scores_communication</th>\n",
       "      <th>review_scores_location</th>\n",
       "      <th>review_scores_value</th>\n",
       "      <th>Entire home/apt</th>\n",
       "      <th>Private room</th>\n",
       "      <th>Shared room</th>\n",
       "    </tr>\n",
       "    <tr>\n",
       "      <th>id</th>\n",
       "      <th></th>\n",
       "      <th></th>\n",
       "      <th></th>\n",
       "      <th></th>\n",
       "      <th></th>\n",
       "      <th></th>\n",
       "      <th></th>\n",
       "      <th></th>\n",
       "      <th></th>\n",
       "      <th></th>\n",
       "      <th></th>\n",
       "      <th></th>\n",
       "      <th></th>\n",
       "      <th></th>\n",
       "      <th></th>\n",
       "      <th></th>\n",
       "      <th></th>\n",
       "      <th></th>\n",
       "      <th></th>\n",
       "      <th></th>\n",
       "      <th></th>\n",
       "    </tr>\n",
       "  </thead>\n",
       "  <tbody>\n",
       "    <tr>\n",
       "      <th>31590235</th>\n",
       "      <td>232567624</td>\n",
       "      <td>NaN</td>\n",
       "      <td>0</td>\n",
       "      <td>0</td>\n",
       "      <td>49.277911</td>\n",
       "      <td>-123.129207</td>\n",
       "      <td>3</td>\n",
       "      <td>1.0</td>\n",
       "      <td>1.0</td>\n",
       "      <td>1.0</td>\n",
       "      <td>...</td>\n",
       "      <td>75.0</td>\n",
       "      <td>8.0</td>\n",
       "      <td>8.0</td>\n",
       "      <td>9.0</td>\n",
       "      <td>8.0</td>\n",
       "      <td>9.0</td>\n",
       "      <td>8.0</td>\n",
       "      <td>1</td>\n",
       "      <td>0</td>\n",
       "      <td>0</td>\n",
       "    </tr>\n",
       "  </tbody>\n",
       "</table>\n",
       "<p>1 rows × 29 columns</p>\n",
       "</div>"
      ],
      "text/plain": [
       "            host_id  host_for  host_is_superhost  host_identity_verified  \\\n",
       "id                                                                         \n",
       "31590235  232567624       NaN                  0                       0   \n",
       "\n",
       "           latitude   longitude  accommodates  bathrooms  bedrooms  beds  ...  \\\n",
       "id                                                                        ...   \n",
       "31590235  49.277911 -123.129207             3        1.0       1.0   1.0  ...   \n",
       "\n",
       "          review_scores_rating  review_scores_accuracy  \\\n",
       "id                                                       \n",
       "31590235                  75.0                     8.0   \n",
       "\n",
       "          review_scores_cleanliness  review_scores_checkin  \\\n",
       "id                                                           \n",
       "31590235                        8.0                    9.0   \n",
       "\n",
       "          review_scores_communication  review_scores_location  \\\n",
       "id                                                              \n",
       "31590235                          8.0                     9.0   \n",
       "\n",
       "          review_scores_value  Entire home/apt  Private room  Shared room  \n",
       "id                                                                         \n",
       "31590235                  8.0                1             0            0  \n",
       "\n",
       "[1 rows x 29 columns]"
      ]
     },
     "execution_count": 39,
     "metadata": {},
     "output_type": "execute_result"
    }
   ],
   "source": [
    "df[df['host_for'].isna()]"
   ]
  },
  {
   "cell_type": "markdown",
   "id": "c94bc52c",
   "metadata": {},
   "source": [
    "Vemos si ese host tiene algun otro registro en el que si aparezca desde cuando es host"
   ]
  },
  {
   "cell_type": "code",
   "execution_count": 40,
   "id": "afeb98ea",
   "metadata": {
    "scrolled": false
   },
   "outputs": [
    {
     "data": {
      "text/html": [
       "<div>\n",
       "<style scoped>\n",
       "    .dataframe tbody tr th:only-of-type {\n",
       "        vertical-align: middle;\n",
       "    }\n",
       "\n",
       "    .dataframe tbody tr th {\n",
       "        vertical-align: top;\n",
       "    }\n",
       "\n",
       "    .dataframe thead th {\n",
       "        text-align: right;\n",
       "    }\n",
       "</style>\n",
       "<table border=\"1\" class=\"dataframe\">\n",
       "  <thead>\n",
       "    <tr style=\"text-align: right;\">\n",
       "      <th></th>\n",
       "      <th>host_id</th>\n",
       "      <th>host_for</th>\n",
       "      <th>host_is_superhost</th>\n",
       "      <th>host_identity_verified</th>\n",
       "      <th>latitude</th>\n",
       "      <th>longitude</th>\n",
       "      <th>accommodates</th>\n",
       "      <th>bathrooms</th>\n",
       "      <th>bedrooms</th>\n",
       "      <th>beds</th>\n",
       "      <th>...</th>\n",
       "      <th>review_scores_rating</th>\n",
       "      <th>review_scores_accuracy</th>\n",
       "      <th>review_scores_cleanliness</th>\n",
       "      <th>review_scores_checkin</th>\n",
       "      <th>review_scores_communication</th>\n",
       "      <th>review_scores_location</th>\n",
       "      <th>review_scores_value</th>\n",
       "      <th>Entire home/apt</th>\n",
       "      <th>Private room</th>\n",
       "      <th>Shared room</th>\n",
       "    </tr>\n",
       "    <tr>\n",
       "      <th>id</th>\n",
       "      <th></th>\n",
       "      <th></th>\n",
       "      <th></th>\n",
       "      <th></th>\n",
       "      <th></th>\n",
       "      <th></th>\n",
       "      <th></th>\n",
       "      <th></th>\n",
       "      <th></th>\n",
       "      <th></th>\n",
       "      <th></th>\n",
       "      <th></th>\n",
       "      <th></th>\n",
       "      <th></th>\n",
       "      <th></th>\n",
       "      <th></th>\n",
       "      <th></th>\n",
       "      <th></th>\n",
       "      <th></th>\n",
       "      <th></th>\n",
       "      <th></th>\n",
       "    </tr>\n",
       "  </thead>\n",
       "  <tbody>\n",
       "    <tr>\n",
       "      <th>31590235</th>\n",
       "      <td>232567624</td>\n",
       "      <td>NaN</td>\n",
       "      <td>0</td>\n",
       "      <td>0</td>\n",
       "      <td>49.277911</td>\n",
       "      <td>-123.129207</td>\n",
       "      <td>3</td>\n",
       "      <td>1.0</td>\n",
       "      <td>1.0</td>\n",
       "      <td>1.0</td>\n",
       "      <td>...</td>\n",
       "      <td>75.0</td>\n",
       "      <td>8.0</td>\n",
       "      <td>8.0</td>\n",
       "      <td>9.0</td>\n",
       "      <td>8.0</td>\n",
       "      <td>9.0</td>\n",
       "      <td>8.0</td>\n",
       "      <td>1</td>\n",
       "      <td>0</td>\n",
       "      <td>0</td>\n",
       "    </tr>\n",
       "  </tbody>\n",
       "</table>\n",
       "<p>1 rows × 29 columns</p>\n",
       "</div>"
      ],
      "text/plain": [
       "            host_id  host_for  host_is_superhost  host_identity_verified  \\\n",
       "id                                                                         \n",
       "31590235  232567624       NaN                  0                       0   \n",
       "\n",
       "           latitude   longitude  accommodates  bathrooms  bedrooms  beds  ...  \\\n",
       "id                                                                        ...   \n",
       "31590235  49.277911 -123.129207             3        1.0       1.0   1.0  ...   \n",
       "\n",
       "          review_scores_rating  review_scores_accuracy  \\\n",
       "id                                                       \n",
       "31590235                  75.0                     8.0   \n",
       "\n",
       "          review_scores_cleanliness  review_scores_checkin  \\\n",
       "id                                                           \n",
       "31590235                        8.0                    9.0   \n",
       "\n",
       "          review_scores_communication  review_scores_location  \\\n",
       "id                                                              \n",
       "31590235                          8.0                     9.0   \n",
       "\n",
       "          review_scores_value  Entire home/apt  Private room  Shared room  \n",
       "id                                                                         \n",
       "31590235                  8.0                1             0            0  \n",
       "\n",
       "[1 rows x 29 columns]"
      ]
     },
     "execution_count": 40,
     "metadata": {},
     "output_type": "execute_result"
    }
   ],
   "source": [
    "df[df['host_id']==232567624]"
   ]
  },
  {
   "cell_type": "markdown",
   "id": "199db1a8",
   "metadata": {},
   "source": [
    "Como no es asi, usamos la base de datos original para censurar esta fecha a día de la primera review\n"
   ]
  },
  {
   "cell_type": "code",
   "execution_count": 41,
   "id": "8e371dca",
   "metadata": {},
   "outputs": [
    {
     "data": {
      "text/plain": [
       "4656    2019-01-18\n",
       "Name: first_review, dtype: object"
      ]
     },
     "execution_count": 41,
     "metadata": {},
     "output_type": "execute_result"
    }
   ],
   "source": [
    "dt[dt['host_id']==232567624].first_review"
   ]
  },
  {
   "cell_type": "markdown",
   "id": "7463667f",
   "metadata": {},
   "source": [
    "De esto podemos concluir que, al menos, es host desde el 18 de enero de 2019."
   ]
  },
  {
   "cell_type": "code",
   "execution_count": 42,
   "id": "7076d184",
   "metadata": {},
   "outputs": [],
   "source": [
    "df.loc[df['host_id']==232567624, 'host_for'] = 0"
   ]
  },
  {
   "cell_type": "markdown",
   "id": "559d082f",
   "metadata": {},
   "source": [
    "**Imputacion para security_deposit y cleaning_fee**"
   ]
  },
  {
   "cell_type": "markdown",
   "id": "24648633",
   "metadata": {},
   "source": [
    "Se entiende que los Na es como si el host no pidiera fianza y/o tasa de limppieza, se imputa a cero.\n"
   ]
  },
  {
   "cell_type": "code",
   "execution_count": 43,
   "id": "49b704b0",
   "metadata": {},
   "outputs": [],
   "source": [
    "df['security_deposit'] = df['security_deposit'].replace(np.nan, 0)\n",
    "df['cleaning_fee'] = df['cleaning_fee'].replace(np.nan, 0)"
   ]
  },
  {
   "cell_type": "markdown",
   "id": "691e252f",
   "metadata": {},
   "source": [
    "**Comprobacion final**"
   ]
  },
  {
   "cell_type": "code",
   "execution_count": 44,
   "id": "282c8876",
   "metadata": {},
   "outputs": [
    {
     "data": {
      "text/plain": [
       "host_id                        0\n",
       "host_for                       0\n",
       "host_is_superhost              0\n",
       "host_identity_verified         0\n",
       "latitude                       0\n",
       "longitude                      0\n",
       "accommodates                   0\n",
       "bathrooms                      0\n",
       "bedrooms                       0\n",
       "beds                           0\n",
       "price                          0\n",
       "security_deposit               0\n",
       "cleaning_fee                   0\n",
       "guests_included                0\n",
       "extra_people                   0\n",
       "minimum_nights                 0\n",
       "maximum_nights                 0\n",
       "availability_30                0\n",
       "number_of_reviews              0\n",
       "review_scores_rating           0\n",
       "review_scores_accuracy         0\n",
       "review_scores_cleanliness      0\n",
       "review_scores_checkin          0\n",
       "review_scores_communication    0\n",
       "review_scores_location         0\n",
       "review_scores_value            0\n",
       "Entire home/apt                0\n",
       "Private room                   0\n",
       "Shared room                    0\n",
       "dtype: int64"
      ]
     },
     "execution_count": 44,
     "metadata": {},
     "output_type": "execute_result"
    }
   ],
   "source": [
    "df.isnull().sum()"
   ]
  },
  {
   "cell_type": "markdown",
   "id": "1b489bea",
   "metadata": {},
   "source": [
    "## Outliers"
   ]
  },
  {
   "cell_type": "markdown",
   "id": "4c905783",
   "metadata": {},
   "source": [
    "Vemmos los outliers de cada variable de forma independiente"
   ]
  },
  {
   "cell_type": "code",
   "execution_count": 45,
   "id": "cece338e",
   "metadata": {
    "scrolled": false
   },
   "outputs": [],
   "source": [
    "var = ['host_for','accommodates', 'bathrooms', 'bedrooms',\n",
    "       'beds', 'price', 'security_deposit', 'cleaning_fee', 'guests_included',\n",
    "       'extra_people', 'minimum_nights', 'maximum_nights', 'availability_30',\n",
    "       'number_of_reviews', 'review_scores_rating', 'review_scores_accuracy',\n",
    "       'review_scores_cleanliness', 'review_scores_checkin',\n",
    "       'review_scores_communication', 'review_scores_location',\n",
    "       'review_scores_value']"
   ]
  },
  {
   "cell_type": "code",
   "execution_count": 46,
   "id": "c00d1bbb",
   "metadata": {},
   "outputs": [
    {
     "data": {
      "image/png": "[encoded data removed]",
      "text/plain": [
       "<Figure size 720x720 with 21 Axes>"
      ]
     },
     "metadata": {
      "needs_background": "light"
     },
     "output_type": "display_data"
    }
   ],
   "source": [
    "# Numero de filas y columnas necesarios para dibujar todos los boxplots\n",
    "n_rows = 7\n",
    "n_cols = 3\n",
    "\n",
    "# Matriz de subgraficos\n",
    "fig, axs = plt.subplots(nrows=n_rows, ncols=n_cols, figsize=(10, 10))\n",
    "\n",
    "# Boxplot de cada variable\n",
    "for i, columna in enumerate(var):\n",
    "    ax = axs[i // n_cols][i % n_cols]\n",
    "    ax.boxplot(df[columna],vert=False,patch_artist=True) # boxplot de la variable\n",
    "    ax.set_title(columna)\n",
    "\n",
    "# Ajuste de espacios entre subgraficos\n",
    "fig.tight_layout()\n",
    "\n",
    "# Mostrar la figura\n",
    "plt.show()"
   ]
  },
  {
   "cell_type": "markdown",
   "id": "0fb85224",
   "metadata": {},
   "source": [
    "**NOTA:** a vista de estos outliers, yo miraria de forma individual el caso de las observaciones:\n",
    "- mas de 10 beds -> comprobar que estan en sitios con mas de \n",
    "- maximo de mas de 10000 noches -> pondria un tope por arriba, tipo si el max es de 1000 noches se entiende que el host no quiere poner un tope por arriba a si que censuraria todo al tpe\n"
   ]
  },
  {
   "cell_type": "code",
   "execution_count": 50,
   "id": "fc34adbf",
   "metadata": {
    "scrolled": false
   },
   "outputs": [
    {
     "data": {
      "text/html": [
       "<div>\n",
       "<style scoped>\n",
       "    .dataframe tbody tr th:only-of-type {\n",
       "        vertical-align: middle;\n",
       "    }\n",
       "\n",
       "    .dataframe tbody tr th {\n",
       "        vertical-align: top;\n",
       "    }\n",
       "\n",
       "    .dataframe thead th {\n",
       "        text-align: right;\n",
       "    }\n",
       "</style>\n",
       "<table border=\"1\" class=\"dataframe\">\n",
       "  <thead>\n",
       "    <tr style=\"text-align: right;\">\n",
       "      <th></th>\n",
       "      <th>bedrooms</th>\n",
       "      <th>beds</th>\n",
       "      <th>Private room</th>\n",
       "      <th>Shared room</th>\n",
       "    </tr>\n",
       "    <tr>\n",
       "      <th>id</th>\n",
       "      <th></th>\n",
       "      <th></th>\n",
       "      <th></th>\n",
       "      <th></th>\n",
       "    </tr>\n",
       "  </thead>\n",
       "  <tbody>\n",
       "    <tr>\n",
       "      <th>19589647</th>\n",
       "      <td>5.0</td>\n",
       "      <td>25.0</td>\n",
       "      <td>0</td>\n",
       "      <td>0</td>\n",
       "    </tr>\n",
       "    <tr>\n",
       "      <th>20002260</th>\n",
       "      <td>2.0</td>\n",
       "      <td>12.0</td>\n",
       "      <td>0</td>\n",
       "      <td>0</td>\n",
       "    </tr>\n",
       "    <tr>\n",
       "      <th>20873261</th>\n",
       "      <td>5.0</td>\n",
       "      <td>11.0</td>\n",
       "      <td>0</td>\n",
       "      <td>0</td>\n",
       "    </tr>\n",
       "    <tr>\n",
       "      <th>31523939</th>\n",
       "      <td>6.0</td>\n",
       "      <td>13.0</td>\n",
       "      <td>0</td>\n",
       "      <td>0</td>\n",
       "    </tr>\n",
       "  </tbody>\n",
       "</table>\n",
       "</div>"
      ],
      "text/plain": [
       "          bedrooms  beds  Private room  Shared room\n",
       "id                                                 \n",
       "19589647       5.0  25.0             0            0\n",
       "20002260       2.0  12.0             0            0\n",
       "20873261       5.0  11.0             0            0\n",
       "31523939       6.0  13.0             0            0"
      ]
     },
     "execution_count": 50,
     "metadata": {},
     "output_type": "execute_result"
    }
   ],
   "source": [
    "camas = df[df['beds']>10] # \n",
    "camas[['bedrooms','beds','Private room','Shared room']]"
   ]
  },
  {
   "cell_type": "markdown",
   "id": "7b52a2a4",
   "metadata": {},
   "source": [
    "Estudiamos los outliers en conjunto. Para ello empleamos la librería *PyOD* que posee estrategias para detectar outliers. En este caso, empleamos el algoritmo de KNN"
   ]
  },
  {
   "cell_type": "code",
   "execution_count": null,
   "id": "c799defe",
   "metadata": {},
   "outputs": [],
   "source": [
    "#!pip install pyod --user"
   ]
  },
  {
   "cell_type": "code",
   "execution_count": null,
   "id": "d07030e2",
   "metadata": {},
   "outputs": [],
   "source": [
    "# Librerias\n",
    "from pyod.models.knn import KNN"
   ]
  },
  {
   "cell_type": "code",
   "execution_count": null,
   "id": "854bd3c3",
   "metadata": {},
   "outputs": [],
   "source": [
    "df.head(1)"
   ]
  },
  {
   "cell_type": "code",
   "execution_count": null,
   "id": "f419f3cd",
   "metadata": {
    "scrolled": true
   },
   "outputs": [],
   "source": [
    "# Deteccion de outliers\n",
    "A = df[var]\n",
    "clf = KNN(contamination=0.1) #se espera que el 10% deos datos sean outliers\n",
    "clf.fit(A) #se evaluea si es outlier o no\n",
    "y_pred = clf.predict(A)\n",
    "A[clf.predict(A) == 1]"
   ]
  },
  {
   "cell_type": "markdown",
   "id": "b152771d",
   "metadata": {},
   "source": [
    "Así, eliminamos los outliers del dataframe original"
   ]
  },
  {
   "cell_type": "code",
   "execution_count": null,
   "id": "93946611",
   "metadata": {},
   "outputs": [],
   "source": [
    "# Sin outliers\n",
    "non_outliers = A[y_pred ==0]\n",
    "df = df.loc[non_outliers.index]\n",
    "\n",
    "# Dimension del dataframe sin outliers\n",
    "df.shape"
   ]
  },
  {
   "cell_type": "markdown",
   "id": "8420f541",
   "metadata": {},
   "source": [
    "Como habíamos comentado antes, las variables como *price*, *sqft_living* y *sqft_lot* presentan mucha asimetría. Por ello, realizamos una transformación logarítmica.\n",
    "\n",
    "Además, vamos a estudiar si las variables *sqft_living* y *sqft_living15* son parecidas (y lo mismo con *sqft_lot* y *sqft_lot15*), en cuyo caso eliminaremos las dos últimas."
   ]
  },
  {
   "cell_type": "code",
   "execution_count": null,
   "id": "64b9317e",
   "metadata": {},
   "outputs": [],
   "source": [
    "# sqft_living y sqft_living15\n",
    "fig, ax = plt.subplots(1, 1, figsize=(10, 5))\n",
    "\n",
    "sns.kdeplot(df['sqft_living'], shade=True, color='blue', label='sqft_living', ax=ax)\n",
    "sns.kdeplot(df['sqft_living15'], shade=True, color='red', label='sqft_living15', ax=ax)\n",
    "\n",
    "ax.set_xlabel('Square footage')\n",
    "ax.set_ylabel('Densidad')\n",
    "ax.set_title('Comparacion sqft_living & sqft_living15')\n",
    "ax.legend(loc='best')\n",
    "\n",
    "plt.show()"
   ]
  },
  {
   "cell_type": "code",
   "execution_count": null,
   "id": "08261721",
   "metadata": {
    "scrolled": true
   },
   "outputs": [],
   "source": [
    "# sqft_lot y sqft_lot15\n",
    "fig, ax = plt.subplots(1, 1, figsize=(10, 5))\n",
    "\n",
    "sns.kdeplot(df['sqft_lot'], shade=True, color='blue', label='sqft_living', ax=ax)\n",
    "sns.kdeplot(df['sqft_lot15'], shade=True, color='red', label='sqft_living15', ax=ax)\n",
    "\n",
    "ax.set_xlabel('Square footage')\n",
    "ax.set_ylabel('Densidad')\n",
    "ax.set_title('Comparacion sqft_lot & sqft_lot15')\n",
    "ax.legend(loc='best')\n",
    "\n",
    "plt.show()"
   ]
  },
  {
   "cell_type": "markdown",
   "id": "84f57b2d",
   "metadata": {},
   "source": [
    "Como se distribuyen de la misma manera y nos aportaran la misma infromación, sólo utilizaremos las variables referentes a la casa. \n",
    "\n",
    "Procedemos a realizar la transformación logarítmica para obtener simetría."
   ]
  },
  {
   "cell_type": "code",
   "execution_count": null,
   "id": "721e5fe3",
   "metadata": {},
   "outputs": [],
   "source": [
    "# Transfomacion\n",
    "cols = ['price','sqft_living', 'sqft_lot', 'sqft_above', 'sqft_basement']\n",
    "for col in cols:\n",
    "    df[col] = np.log(df[col])"
   ]
  },
  {
   "cell_type": "code",
   "execution_count": null,
   "id": "df81306e",
   "metadata": {
    "scrolled": true
   },
   "outputs": [],
   "source": [
    "# Histograma de las variables transformadas\n",
    "fig, axs = plt.subplots(1, 5, figsize=(10, 5))\n",
    "\n",
    "axs[0].hist(df['price'], bins=30, alpha= 0.5,color='red')\n",
    "axs[1].hist(df['sqft_living'], bins=30, alpha=0.5, color='blue')\n",
    "axs[2].hist(df['sqft_lot'], bins=30, alpha=0.5, color='green')\n",
    "axs[3].hist(df['sqft_above'], bins=30, alpha=0.5, color='purple')\n",
    "axs[4].hist(df['sqft_above'], bins=30, alpha=0.5, color='yellow')\n",
    "\n",
    "axs[0].set_title('Log-Price')\n",
    "axs[1].set_title('Log-Sqft_living')\n",
    "axs[2].set_title('Log-Sqft_lot')\n",
    "axs[3].set_title('Log-Sqft_above')\n",
    "axs[4].set_title('Log-Sqft_basement')\n",
    "\n",
    "plt.show()"
   ]
  },
  {
   "cell_type": "markdown",
   "id": "72e98109",
   "metadata": {},
   "source": [
    "Mediante los histogramas podemos observar que las variables presentan asimetría, lo cual no es favorable para los modelos de regresión. Podemos estudiar esto mediante el coeficiente de asimetria de Fisher, que mida la centralidad de los datos. Si el coeficiente es 0, los datos están centrados entrorno a la media, si es postivo presentan asimetría por la derecha, y si es negativo asimetría por la izquierda."
   ]
  },
  {
   "cell_type": "code",
   "execution_count": null,
   "id": "e4267d2f",
   "metadata": {},
   "outputs": [],
   "source": [
    "# Simetria\n",
    "df.skew(axis=0, skipna = True) # Solo nos interesa para variables continuas "
   ]
  },
  {
   "cell_type": "markdown",
   "id": "2893040a",
   "metadata": {},
   "source": [
    "## Algunos gráficos interesantes"
   ]
  },
  {
   "cell_type": "markdown",
   "id": "9c054f39",
   "metadata": {},
   "source": [
    "Ahora vamos a estudiar algunas relaciones existentes entre las variables y *price*"
   ]
  },
  {
   "cell_type": "markdown",
   "id": "06c7be10",
   "metadata": {},
   "source": [
    "En primer lugar, podemos ver cómo influye el número de habitaciones y baños en el precio de la casa mediante un boxplot."
   ]
  },
  {
   "cell_type": "code",
   "execution_count": 51,
   "id": "51414a2f",
   "metadata": {
    "scrolled": false
   },
   "outputs": [
    {
     "data": {
      "image/png": "[encoded data removed]",
      "text/plain": [
       "<Figure size 720x360 with 1 Axes>"
      ]
     },
     "metadata": {
      "needs_background": "light"
     },
     "output_type": "display_data"
    }
   ],
   "source": [
    "# Boxplot entre bedrooms y log-price\n",
    "fig, ax = plt.subplots(figsize=(10,5))\n",
    "\n",
    "sns.boxplot(x=df['bedrooms'], y=df['price'], data = df, ax = ax)\n",
    "\n",
    "plt.xlabel('Bedrooms')\n",
    "plt.ylabel('log Price')\n",
    "plt.title('Boxplot bedrooms vs price')\n",
    "\n",
    "plt.show()"
   ]
  },
  {
   "cell_type": "code",
   "execution_count": 52,
   "id": "2049a40d",
   "metadata": {
    "scrolled": false
   },
   "outputs": [
    {
     "data": {
      "image/png": "[encoded data removed]",
      "text/plain": [
       "<Figure size 720x360 with 1 Axes>"
      ]
     },
     "metadata": {
      "needs_background": "light"
     },
     "output_type": "display_data"
    }
   ],
   "source": [
    "# Boxplot entre bathrooms y logprice\n",
    "fig, ax = plt.subplots(figsize=(10,5))\n",
    "\n",
    "sns.boxplot(x=df['bathrooms'], y=df['price'], data = df, ax = ax)\n",
    "\n",
    "plt.xlabel('Bathrooms')\n",
    "plt.ylabel('log Price')\n",
    "plt.title('Boxplot bathrooms vs price')\n",
    "\n",
    "plt.show()"
   ]
  },
  {
   "cell_type": "markdown",
   "id": "40c1d80b",
   "metadata": {},
   "source": [
    "Además, también puede ser interesante estudiar si existe alguna relación entre las componentes de geolocalización y el precio de las casas."
   ]
  },
  {
   "cell_type": "markdown",
   "id": "fd4972c7",
   "metadata": {},
   "source": [
    "Podemos comenzar estudiando las variables longitud y latitud de la casa por separado."
   ]
  },
  {
   "cell_type": "code",
   "execution_count": 55,
   "id": "7e7dde66",
   "metadata": {},
   "outputs": [
    {
     "data": {
      "text/plain": [
       "Index(['host_id', 'host_for', 'host_is_superhost', 'host_identity_verified',\n",
       "       'latitude', 'longitude', 'accommodates', 'bathrooms', 'bedrooms',\n",
       "       'beds', 'price', 'security_deposit', 'cleaning_fee', 'guests_included',\n",
       "       'extra_people', 'minimum_nights', 'maximum_nights', 'availability_30',\n",
       "       'number_of_reviews', 'review_scores_rating', 'review_scores_accuracy',\n",
       "       'review_scores_cleanliness', 'review_scores_checkin',\n",
       "       'review_scores_communication', 'review_scores_location',\n",
       "       'review_scores_value', 'Entire home/apt', 'Private room',\n",
       "       'Shared room'],\n",
       "      dtype='object')"
      ]
     },
     "execution_count": 55,
     "metadata": {},
     "output_type": "execute_result"
    }
   ],
   "source": [
    "df.columns"
   ]
  },
  {
   "cell_type": "code",
   "execution_count": 56,
   "id": "acc91f53",
   "metadata": {
    "scrolled": false
   },
   "outputs": [
    {
     "data": {
      "image/png": "[encoded data removed]",
      "text/plain": [
       "<Figure size 720x360 with 2 Axes>"
      ]
     },
     "metadata": {
      "needs_background": "light"
     },
     "output_type": "display_data"
    }
   ],
   "source": [
    "# Grafico de dispersion long /lat vs. price\n",
    "fig,ax = plt.subplots(2, figsize=(10,5))\n",
    "\n",
    "ax[0].scatter(x=df['longitude'].values, y = df['price'].values)\n",
    "ax[1].scatter(x=df['latitude'].values, y = df['price'].values)\n",
    "\n",
    "ax[0].set_xlabel('Long')\n",
    "ax[0].set_ylabel('log Price')\n",
    "ax[1].set_xlabel('Lat')\n",
    "ax[1].set_ylabel('log Price')\n",
    "\n",
    "plt.suptitle('Long / Lat vs Price')\n",
    "\n",
    "plt.show()"
   ]
  },
  {
   "cell_type": "markdown",
   "id": "0cab60d3",
   "metadata": {},
   "source": [
    "También, podemos tratar la latitud y longitud conjutamente creando puntos en el espacio."
   ]
  },
  {
   "cell_type": "code",
   "execution_count": 57,
   "id": "e8cbe45e",
   "metadata": {},
   "outputs": [
    {
     "name": "stdout",
     "output_type": "stream",
     "text": [
      "Requirement already satisfied: geopandas in c:\\users\\manza\\anaconda3\\lib\\site-packages (0.12.2)\n",
      "Requirement already satisfied: pandas>=1.0.0 in c:\\users\\manza\\anaconda3\\lib\\site-packages (from geopandas) (1.4.2)\n",
      "Requirement already satisfied: packaging in c:\\users\\manza\\anaconda3\\lib\\site-packages (from geopandas) (21.3)\n",
      "Requirement already satisfied: fiona>=1.8 in c:\\users\\manza\\anaconda3\\lib\\site-packages (from geopandas) (1.9.3)\n",
      "Requirement already satisfied: pyproj>=2.6.1.post1 in c:\\users\\manza\\anaconda3\\lib\\site-packages (from geopandas) (3.5.0)\n",
      "Requirement already satisfied: shapely>=1.7 in c:\\users\\manza\\anaconda3\\lib\\site-packages (from geopandas) (2.0.1)\n",
      "Requirement already satisfied: attrs>=19.2.0 in c:\\users\\manza\\anaconda3\\lib\\site-packages (from fiona>=1.8->geopandas) (21.4.0)\n",
      "Requirement already satisfied: click~=8.0 in c:\\users\\manza\\anaconda3\\lib\\site-packages (from fiona>=1.8->geopandas) (8.0.4)\n",
      "Requirement already satisfied: click-plugins>=1.0 in c:\\users\\manza\\anaconda3\\lib\\site-packages (from fiona>=1.8->geopandas) (1.1.1)\n",
      "Requirement already satisfied: certifi in c:\\users\\manza\\anaconda3\\lib\\site-packages (from fiona>=1.8->geopandas) (2021.10.8)\n",
      "Requirement already satisfied: importlib-metadata in c:\\users\\manza\\anaconda3\\lib\\site-packages (from fiona>=1.8->geopandas) (4.11.3)\n",
      "Requirement already satisfied: munch>=2.3.2 in c:\\users\\manza\\anaconda3\\lib\\site-packages (from fiona>=1.8->geopandas) (2.5.0)\n",
      "Requirement already satisfied: cligj>=0.5 in c:\\users\\manza\\anaconda3\\lib\\site-packages (from fiona>=1.8->geopandas) (0.7.2)\n",
      "Requirement already satisfied: colorama in c:\\users\\manza\\anaconda3\\lib\\site-packages (from click~=8.0->fiona>=1.8->geopandas) (0.4.4)\n",
      "Requirement already satisfied: six in c:\\users\\manza\\anaconda3\\lib\\site-packages (from munch>=2.3.2->fiona>=1.8->geopandas) (1.16.0)\n",
      "Requirement already satisfied: python-dateutil>=2.8.1 in c:\\users\\manza\\anaconda3\\lib\\site-packages (from pandas>=1.0.0->geopandas) (2.8.2)\n",
      "Requirement already satisfied: pytz>=2020.1 in c:\\users\\manza\\anaconda3\\lib\\site-packages (from pandas>=1.0.0->geopandas) (2021.3)\n",
      "Requirement already satisfied: numpy>=1.18.5 in c:\\users\\manza\\anaconda3\\lib\\site-packages (from pandas>=1.0.0->geopandas) (1.21.5)\n",
      "Requirement already satisfied: zipp>=0.5 in c:\\users\\manza\\anaconda3\\lib\\site-packages (from importlib-metadata->fiona>=1.8->geopandas) (3.7.0)\n",
      "Requirement already satisfied: pyparsing!=3.0.5,>=2.0.2 in c:\\users\\manza\\anaconda3\\lib\\site-packages (from packaging->geopandas) (3.0.4)\n"
     ]
    }
   ],
   "source": [
    "# !pip install geopandas"
   ]
  },
  {
   "cell_type": "code",
   "execution_count": 58,
   "id": "a08220c2",
   "metadata": {},
   "outputs": [],
   "source": [
    "# Librerias\n",
    "import geopandas as gpd\n",
    "from shapely.geometry import Point, Polygon"
   ]
  },
  {
   "cell_type": "code",
   "execution_count": 59,
   "id": "1c285218",
   "metadata": {},
   "outputs": [
    {
     "ename": "DriverError",
     "evalue": "./Incorporated_Areas_of_King_County/Incorporated_Areas_of_King_County___citydst_area.shp: No such file or directory",
     "output_type": "error",
     "traceback": [
      "\u001b[1;31m---------------------------------------------------------------------------\u001b[0m",
      "\u001b[1;31mCPLE_OpenFailedError\u001b[0m                      Traceback (most recent call last)",
      "File \u001b[1;32mfiona\\ogrext.pyx:136\u001b[0m, in \u001b[0;36mfiona.ogrext.gdal_open_vector\u001b[1;34m()\u001b[0m\n",
      "File \u001b[1;32mfiona\\_err.pyx:291\u001b[0m, in \u001b[0;36mfiona._err.exc_wrap_pointer\u001b[1;34m()\u001b[0m\n",
      "\u001b[1;31mCPLE_OpenFailedError\u001b[0m: ./Incorporated_Areas_of_King_County/Incorporated_Areas_of_King_County___citydst_area.shp: No such file or directory",
      "\nDuring handling of the above exception, another exception occurred:\n",
      "\u001b[1;31mDriverError\u001b[0m                               Traceback (most recent call last)",
      "Input \u001b[1;32mIn [59]\u001b[0m, in \u001b[0;36m<cell line: 2>\u001b[1;34m()\u001b[0m\n\u001b[0;32m      1\u001b[0m \u001b[38;5;66;03m# Mapa de King County, Washington\u001b[39;00m\n\u001b[1;32m----> 2\u001b[0m street_map \u001b[38;5;241m=\u001b[39m \u001b[43mgpd\u001b[49m\u001b[38;5;241;43m.\u001b[39;49m\u001b[43mread_file\u001b[49m\u001b[43m(\u001b[49m\u001b[38;5;124;43m'\u001b[39;49m\u001b[38;5;124;43m./Incorporated_Areas_of_King_County/Incorporated_Areas_of_King_County___citydst_area.shp\u001b[39;49m\u001b[38;5;124;43m'\u001b[39;49m\u001b[43m)\u001b[49m\n\u001b[0;32m      3\u001b[0m \u001b[38;5;66;03m# Creamos GeoPandas Data Frame\u001b[39;00m\n\u001b[0;32m      4\u001b[0m \u001b[38;5;66;03m# Sistema de coordenadas \u001b[39;00m\n\u001b[0;32m      5\u001b[0m crs \u001b[38;5;241m=\u001b[39m {\u001b[38;5;124m'\u001b[39m\u001b[38;5;124minit\u001b[39m\u001b[38;5;124m'\u001b[39m:\u001b[38;5;124m'\u001b[39m\u001b[38;5;124mepsg:4326\u001b[39m\u001b[38;5;124m'\u001b[39m}\n",
      "File \u001b[1;32m~\\anaconda3\\lib\\site-packages\\geopandas\\io\\file.py:259\u001b[0m, in \u001b[0;36m_read_file\u001b[1;34m(filename, bbox, mask, rows, engine, **kwargs)\u001b[0m\n\u001b[0;32m    256\u001b[0m     path_or_bytes \u001b[38;5;241m=\u001b[39m filename\n\u001b[0;32m    258\u001b[0m \u001b[38;5;28;01mif\u001b[39;00m engine \u001b[38;5;241m==\u001b[39m \u001b[38;5;124m\"\u001b[39m\u001b[38;5;124mfiona\u001b[39m\u001b[38;5;124m\"\u001b[39m:\n\u001b[1;32m--> 259\u001b[0m     \u001b[38;5;28;01mreturn\u001b[39;00m _read_file_fiona(\n\u001b[0;32m    260\u001b[0m         path_or_bytes, from_bytes, bbox\u001b[38;5;241m=\u001b[39mbbox, mask\u001b[38;5;241m=\u001b[39mmask, rows\u001b[38;5;241m=\u001b[39mrows, \u001b[38;5;241m*\u001b[39m\u001b[38;5;241m*\u001b[39mkwargs\n\u001b[0;32m    261\u001b[0m     )\n\u001b[0;32m    262\u001b[0m \u001b[38;5;28;01melif\u001b[39;00m engine \u001b[38;5;241m==\u001b[39m \u001b[38;5;124m\"\u001b[39m\u001b[38;5;124mpyogrio\u001b[39m\u001b[38;5;124m\"\u001b[39m:\n\u001b[0;32m    263\u001b[0m     \u001b[38;5;28;01mreturn\u001b[39;00m _read_file_pyogrio(\n\u001b[0;32m    264\u001b[0m         path_or_bytes, bbox\u001b[38;5;241m=\u001b[39mbbox, mask\u001b[38;5;241m=\u001b[39mmask, rows\u001b[38;5;241m=\u001b[39mrows, \u001b[38;5;241m*\u001b[39m\u001b[38;5;241m*\u001b[39mkwargs\n\u001b[0;32m    265\u001b[0m     )\n",
      "File \u001b[1;32m~\\anaconda3\\lib\\site-packages\\geopandas\\io\\file.py:303\u001b[0m, in \u001b[0;36m_read_file_fiona\u001b[1;34m(path_or_bytes, from_bytes, bbox, mask, rows, where, **kwargs)\u001b[0m\n\u001b[0;32m    300\u001b[0m     reader \u001b[38;5;241m=\u001b[39m fiona\u001b[38;5;241m.\u001b[39mopen\n\u001b[0;32m    302\u001b[0m \u001b[38;5;28;01mwith\u001b[39;00m fiona_env():\n\u001b[1;32m--> 303\u001b[0m     \u001b[38;5;28;01mwith\u001b[39;00m reader(path_or_bytes, \u001b[38;5;241m*\u001b[39m\u001b[38;5;241m*\u001b[39mkwargs) \u001b[38;5;28;01mas\u001b[39;00m features:\n\u001b[0;32m    304\u001b[0m         crs \u001b[38;5;241m=\u001b[39m features\u001b[38;5;241m.\u001b[39mcrs_wkt\n\u001b[0;32m    305\u001b[0m         \u001b[38;5;66;03m# attempt to get EPSG code\u001b[39;00m\n",
      "File \u001b[1;32m~\\anaconda3\\lib\\site-packages\\fiona\\env.py:457\u001b[0m, in \u001b[0;36mensure_env_with_credentials.<locals>.wrapper\u001b[1;34m(*args, **kwds)\u001b[0m\n\u001b[0;32m    454\u001b[0m     session \u001b[38;5;241m=\u001b[39m DummySession()\n\u001b[0;32m    456\u001b[0m \u001b[38;5;28;01mwith\u001b[39;00m env_ctor(session\u001b[38;5;241m=\u001b[39msession):\n\u001b[1;32m--> 457\u001b[0m     \u001b[38;5;28;01mreturn\u001b[39;00m f(\u001b[38;5;241m*\u001b[39margs, \u001b[38;5;241m*\u001b[39m\u001b[38;5;241m*\u001b[39mkwds)\n",
      "File \u001b[1;32m~\\anaconda3\\lib\\site-packages\\fiona\\__init__.py:366\u001b[0m, in \u001b[0;36mopen\u001b[1;34m(fp, mode, driver, schema, crs, encoding, layer, vfs, enabled_drivers, crs_wkt, allow_unsupported_drivers, **kwargs)\u001b[0m\n\u001b[0;32m    363\u001b[0m     path \u001b[38;5;241m=\u001b[39m parse_path(fp)\n\u001b[0;32m    365\u001b[0m \u001b[38;5;28;01mif\u001b[39;00m mode \u001b[38;5;129;01min\u001b[39;00m (\u001b[38;5;124m\"\u001b[39m\u001b[38;5;124ma\u001b[39m\u001b[38;5;124m\"\u001b[39m, \u001b[38;5;124m\"\u001b[39m\u001b[38;5;124mr\u001b[39m\u001b[38;5;124m\"\u001b[39m):\n\u001b[1;32m--> 366\u001b[0m     colxn \u001b[38;5;241m=\u001b[39m Collection(\n\u001b[0;32m    367\u001b[0m         path,\n\u001b[0;32m    368\u001b[0m         mode,\n\u001b[0;32m    369\u001b[0m         driver\u001b[38;5;241m=\u001b[39mdriver,\n\u001b[0;32m    370\u001b[0m         encoding\u001b[38;5;241m=\u001b[39mencoding,\n\u001b[0;32m    371\u001b[0m         layer\u001b[38;5;241m=\u001b[39mlayer,\n\u001b[0;32m    372\u001b[0m         enabled_drivers\u001b[38;5;241m=\u001b[39menabled_drivers,\n\u001b[0;32m    373\u001b[0m         allow_unsupported_drivers\u001b[38;5;241m=\u001b[39mallow_unsupported_drivers,\n\u001b[0;32m    374\u001b[0m         \u001b[38;5;241m*\u001b[39m\u001b[38;5;241m*\u001b[39mkwargs\n\u001b[0;32m    375\u001b[0m     )\n\u001b[0;32m    376\u001b[0m \u001b[38;5;28;01melif\u001b[39;00m mode \u001b[38;5;241m==\u001b[39m \u001b[38;5;124m\"\u001b[39m\u001b[38;5;124mw\u001b[39m\u001b[38;5;124m\"\u001b[39m:\n\u001b[0;32m    377\u001b[0m     colxn \u001b[38;5;241m=\u001b[39m Collection(\n\u001b[0;32m    378\u001b[0m         path,\n\u001b[0;32m    379\u001b[0m         mode,\n\u001b[1;32m   (...)\u001b[0m\n\u001b[0;32m    388\u001b[0m         \u001b[38;5;241m*\u001b[39m\u001b[38;5;241m*\u001b[39mkwargs\n\u001b[0;32m    389\u001b[0m     )\n",
      "File \u001b[1;32m~\\anaconda3\\lib\\site-packages\\fiona\\collection.py:243\u001b[0m, in \u001b[0;36mCollection.__init__\u001b[1;34m(self, path, mode, driver, schema, crs, encoding, layer, vsi, archive, enabled_drivers, crs_wkt, ignore_fields, ignore_geometry, include_fields, wkt_version, allow_unsupported_drivers, **kwargs)\u001b[0m\n\u001b[0;32m    241\u001b[0m \u001b[38;5;28;01mif\u001b[39;00m \u001b[38;5;28mself\u001b[39m\u001b[38;5;241m.\u001b[39mmode \u001b[38;5;241m==\u001b[39m \u001b[38;5;124m\"\u001b[39m\u001b[38;5;124mr\u001b[39m\u001b[38;5;124m\"\u001b[39m:\n\u001b[0;32m    242\u001b[0m     \u001b[38;5;28mself\u001b[39m\u001b[38;5;241m.\u001b[39msession \u001b[38;5;241m=\u001b[39m Session()\n\u001b[1;32m--> 243\u001b[0m     \u001b[38;5;28mself\u001b[39m\u001b[38;5;241m.\u001b[39msession\u001b[38;5;241m.\u001b[39mstart(\u001b[38;5;28mself\u001b[39m, \u001b[38;5;241m*\u001b[39m\u001b[38;5;241m*\u001b[39mkwargs)\n\u001b[0;32m    244\u001b[0m \u001b[38;5;28;01melif\u001b[39;00m \u001b[38;5;28mself\u001b[39m\u001b[38;5;241m.\u001b[39mmode \u001b[38;5;129;01min\u001b[39;00m (\u001b[38;5;124m\"\u001b[39m\u001b[38;5;124ma\u001b[39m\u001b[38;5;124m\"\u001b[39m, \u001b[38;5;124m\"\u001b[39m\u001b[38;5;124mw\u001b[39m\u001b[38;5;124m\"\u001b[39m):\n\u001b[0;32m    245\u001b[0m     \u001b[38;5;28mself\u001b[39m\u001b[38;5;241m.\u001b[39msession \u001b[38;5;241m=\u001b[39m WritingSession()\n",
      "File \u001b[1;32mfiona\\ogrext.pyx:588\u001b[0m, in \u001b[0;36mfiona.ogrext.Session.start\u001b[1;34m()\u001b[0m\n",
      "File \u001b[1;32mfiona\\ogrext.pyx:143\u001b[0m, in \u001b[0;36mfiona.ogrext.gdal_open_vector\u001b[1;34m()\u001b[0m\n",
      "\u001b[1;31mDriverError\u001b[0m: ./Incorporated_Areas_of_King_County/Incorporated_Areas_of_King_County___citydst_area.shp: No such file or directory"
     ]
    }
   ],
   "source": [
    "# Mapa de King County, Washington\n",
    "street_map = gpd.read_file('./Incorporated_Areas_of_King_County/Incorporated_Areas_of_King_County___citydst_area.shp')\n",
    "# Creamos GeoPandas Data Frame\n",
    "# Sistema de coordenadas \n",
    "crs = {'init':'epsg:4326'}\n",
    "# Puntos de coordenadas\n",
    "geometry = [Point(xy) for xy in zip(df['longitude'], df['latitude'])]\n",
    "# DataFrame geoPandas\n",
    "geo_df = gpd.GeoDataFrame(df, crs=crs, geometry = geometry)"
   ]
  },
  {
   "cell_type": "code",
   "execution_count": null,
   "id": "1a6d879e",
   "metadata": {
    "scrolled": false
   },
   "outputs": [],
   "source": [
    "# Grafico de long/lat vs price\n",
    "fig,ax = plt.subplots(figsize=(10,10))\n",
    "\n",
    "street_map.plot(ax=ax, alpha=0.4,color='grey') \n",
    "geo_df.plot(column='price',ax=ax, alpha=1,legend=True,markersize=10)\n",
    "\n",
    "plt.title('Airbnb Canada', fontsize=15)\n",
    "plt.xlim(-122.6,-121.0)\n",
    "plt.ylim(47.1,47.8)\n",
    "\n",
    "plt.show()"
   ]
  },
  {
   "cell_type": "markdown",
   "id": "ce438978",
   "metadata": {},
   "source": [
    "Podemos observar que las viviendas situadas al norte tienen un mayor precio."
   ]
  },
  {
   "cell_type": "markdown",
   "id": "a4b1e25a",
   "metadata": {},
   "source": [
    "## Análisis de correlaciones"
   ]
  },
  {
   "cell_type": "markdown",
   "id": "2447a4d0",
   "metadata": {},
   "source": [
    "Para finalizar, estudiamos las correlaciones entre las variables. Así, podemos decidir qué variables usar para el modelo y estudiar posibles relaciones existentes entre ellas."
   ]
  },
  {
   "cell_type": "code",
   "execution_count": null,
   "id": "97a76304",
   "metadata": {
    "scrolled": false
   },
   "outputs": [],
   "source": [
    "plt.figure(figsize=(20,10))\n",
    "correlaciones= df.corr()\n",
    "sns.heatmap(correlaciones,cmap=\"GnBu\",annot=True) \n",
    "correlaciones"
   ]
  },
  {
   "cell_type": "markdown",
   "id": "4b2d893f",
   "metadata": {},
   "source": [
    "Así, seleccionamos las siguientes variables para el modelo:\n",
    "Las variables de modelización:\n",
    "* _bedrooms_ \n",
    "* _bathrooms_ \n",
    "* _sqft_living_\n",
    "* _sqft_lot_\n",
    "* _view_\n",
    "* _condition_\n",
    "* _grade_\n",
    "* _lat_\n",
    "* _long_\n",
    "\n",
    "Además, podemos considerar crear dos variables. Por un lado, *bed&bath*, que incluya en una única variable el número de baños y habitaciones de la casa (pues tienen una alta correlación). Por otro lado, podría ser más interesante trabajar con una variable que definimos como *total_yrs* = *current_year* (2023) - *yr_built*\n",
    "\n",
    "Y la varibale de etiqueta:\n",
    "* _logPrice_"
   ]
  },
  {
   "cell_type": "markdown",
   "id": "ebcde6d4",
   "metadata": {},
   "source": [
    "Así, nos queda el siguiente DataFrame"
   ]
  },
  {
   "cell_type": "code",
   "execution_count": null,
   "id": "9ea43860",
   "metadata": {},
   "outputs": [],
   "source": [
    "# Creamos las nuevas variables\n",
    "bed_and_bath = df['bedrooms'] + df['bathrooms']\n",
    "total_yrs = 2023 - df['yr_built']"
   ]
  },
  {
   "cell_type": "code",
   "execution_count": null,
   "id": "f0875e06",
   "metadata": {
    "scrolled": true
   },
   "outputs": [],
   "source": [
    "# DataFrame final \n",
    "df = df.drop(columns=['date','bedrooms','bathrooms','floors','waterfront','grade','sqft_above','sqft_basement','yr_built','zipcode','sqft_living15','sqft_lot15','geometry'], axis = 1)\n",
    "df['bed_and_bath'] = bed_and_bath\n",
    "df['total_yrs'] = total_yrs\n",
    "df.head()"
   ]
  },
  {
   "cell_type": "markdown",
   "id": "24209aea",
   "metadata": {},
   "source": [
    "# 2. División de los datos"
   ]
  },
  {
   "cell_type": "code",
   "execution_count": null,
   "id": "52360406",
   "metadata": {},
   "outputs": [],
   "source": [
    "# Paquetes y liberias\n",
    "from sklearn.preprocessing import StandardScaler\n",
    "from sklearn.model_selection import train_test_split"
   ]
  },
  {
   "cell_type": "markdown",
   "id": "c43898cf",
   "metadata": {},
   "source": [
    "En primer lugar, creamos la matriz de observaciones y el vector etiqueta con los que trabajaremos para ajustar el modelo de regresión lineal."
   ]
  },
  {
   "cell_type": "code",
   "execution_count": null,
   "id": "6edbe087",
   "metadata": {},
   "outputs": [],
   "source": [
    "# Vector etiqueta\n",
    "y = df['price']\n",
    "\n",
    "# Matriz de observaciones\n",
    "X = df.drop('price',axis=1)"
   ]
  },
  {
   "cell_type": "code",
   "execution_count": null,
   "id": "254b1fa4",
   "metadata": {
    "scrolled": false
   },
   "outputs": [],
   "source": [
    "# Variables dummy para view y condition (son categoricas)\n",
    "X = pd.get_dummies(X, columns=['view', 'condition'], drop_first=True)"
   ]
  },
  {
   "cell_type": "code",
   "execution_count": null,
   "id": "ceb4eb4b",
   "metadata": {},
   "outputs": [],
   "source": [
    "# Estandarizamos los datos\n",
    "objeto = StandardScaler()\n",
    "X_ss = pd.DataFrame(objeto.fit_transform(X.iloc[:,0:6]), columns=list(X.iloc[:,0:6].columns))\n",
    "# Concatenamos los datos\n",
    "X = pd.concat([X_ss, X.loc[:,'view_1':'condition_5'].reset_index()], axis=1)\n",
    "X.head(5)"
   ]
  },
  {
   "cell_type": "markdown",
   "id": "ea9e2160",
   "metadata": {},
   "source": [
    "Para ajustar los distintos modelos tenemos 2 opciones:\n",
    "1. Plantear un problema de regresión donde la variable *y* es de tipo continuo\n",
    "2. Plantear un problema de clasificación donde agrupamos en diferentes cluster los valores de la variable *y*"
   ]
  },
  {
   "cell_type": "code",
   "execution_count": null,
   "id": "40242720",
   "metadata": {
    "scrolled": false
   },
   "outputs": [],
   "source": [
    "# Realizamos un describe para saber como separar los datos\n",
    "y.describe()"
   ]
  },
  {
   "cell_type": "code",
   "execution_count": null,
   "id": "6ec0867b",
   "metadata": {
    "scrolled": true
   },
   "outputs": [],
   "source": [
    "# Problema de clasificacion\n",
    "y_clas = pd.qcut(y, 3, labels=False)\n",
    "\n",
    "# Hallamos los rangos de valores para las diferentes categorias\n",
    "quantiles = pd.qcut(y, 3).unique().sort_values()\n",
    "print(quantiles)"
   ]
  },
  {
   "cell_type": "markdown",
   "id": "b9572789",
   "metadata": {},
   "source": [
    "Donde las clases serían:\n",
    "$0:\\text{Barato} \\in (11.224, 12.78]$;\n",
    "$1:\\text{Medio} \\in (12.78, 13.218]$;\n",
    "$2:\\text{Caro} \\in (13.218, 14.897]$"
   ]
  },
  {
   "cell_type": "markdown",
   "id": "d8ce272e",
   "metadata": {},
   "source": [
    "Separamos los datos en train y test"
   ]
  },
  {
   "cell_type": "code",
   "execution_count": null,
   "id": "eff933ce",
   "metadata": {
    "scrolled": true
   },
   "outputs": [],
   "source": [
    "X_train, X_test, y_train, y_test, y_train_clas, y_test_clas = train_test_split(X, y, y_clas, test_size=0.3, random_state=0)"
   ]
  },
  {
   "cell_type": "code",
   "execution_count": null,
   "id": "e019fe4c",
   "metadata": {},
   "outputs": [],
   "source": [
    "# Librerias\n",
    "import os\n",
    "\n",
    "# Carpeta con datos\n",
    "if not os.path.exists('Datos'):\n",
    "    os.makedirs('Datos')\n",
    "    \n",
    "# Guardamos los datos\n",
    "X_train.to_csv('Datos/X_train.csv', index=False)\n",
    "X_test.to_csv('Datos/X_test.csv', index=False)\n",
    "y_train.to_csv('Datos/y_train.csv', index=False)\n",
    "y_test.to_csv('Datos/y_test.csv', index=False)\n",
    "y_train_clas.to_csv('Datos/y_train_clas.csv', index=False)\n",
    "y_test_clas.to_csv('Datos/y_test_clas.csv', index=False)"
   ]
  }
 ],
 "metadata": {
  "kernelspec": {
   "display_name": "Python 3 (ipykernel)",
   "language": "python",
   "name": "python3"
  },
  "language_info": {
   "codemirror_mode": {
    "name": "ipython",
    "version": 3
   },
   "file_extension": ".py",
   "mimetype": "text/x-python",
   "name": "python",
   "nbconvert_exporter": "python",
   "pygments_lexer": "ipython3",
   "version": "3.9.12"
  }
 },
 "nbformat": 4,
 "nbformat_minor": 5
}
