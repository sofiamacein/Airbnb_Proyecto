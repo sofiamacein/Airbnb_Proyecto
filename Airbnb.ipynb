{
 "cells": [
  {
   "cell_type": "markdown",
   "id": "d7419b51",
   "metadata": {},
   "source": [
    "<h1><center>Práctica Aprendizaje: Airbnb.</center></h1>"
   ]
  },
  {
   "cell_type": "markdown",
   "id": "b130932d",
   "metadata": {},
   "source": [
    "<h1><center>Análisis Exploratorio de los datos</center></h1>"
   ]
  },
  {
   "cell_type": "markdown",
   "id": "75aaba2d",
   "metadata": {},
   "source": [
    "# Introducción"
   ]
  },
  {
   "cell_type": "markdown",
   "id": "89dd17e5",
   "metadata": {},
   "source": [
    "- Conjunto de datos: El conjunto de datos escogido es éste, extraído de Airbnb mediante técnicas de scraping. Dentro de las opciones recomiendo utilizar el extract (“Only the 14780 selected records”), ya que minimiza el tiempo de ejecución y evita problemas de memoria en equipos con menos prestaciones. airbnb-listing-extract.csv\n",
    "- Se busca crear un evaluador automático de precios a partir de las carácterísticas de los alojamientos. "
   ]
  },
  {
   "cell_type": "markdown",
   "id": "807a66b7",
   "metadata": {},
   "source": [
    "# 0. Librerías"
   ]
  },
  {
   "cell_type": "code",
   "execution_count": 1,
   "id": "32dcaecc",
   "metadata": {},
   "outputs": [],
   "source": [
    "# Paquetes y librerias\n",
    "import numpy as np\n",
    "import pandas as pd\n",
    "\n",
    "import seaborn as sns\n",
    "import matplotlib.pyplot as plt  \n",
    "\n",
    "%matplotlib inline"
   ]
  },
  {
   "cell_type": "code",
   "execution_count": 2,
   "id": "cae36579",
   "metadata": {},
   "outputs": [],
   "source": [
    "import warnings\n",
    "warnings.filterwarnings('ignore')"
   ]
  },
  {
   "cell_type": "markdown",
   "id": "84a6bffb",
   "metadata": {},
   "source": [
    "# 1. Análisis exploratorio de los datos"
   ]
  },
  {
   "cell_type": "markdown",
   "id": "5eaf98fe",
   "metadata": {},
   "source": [
    "## Selección de variables"
   ]
  },
  {
   "cell_type": "markdown",
   "id": "777ba48c",
   "metadata": {},
   "source": [
    "Vamos a comenzar con una exploración previa de los datos por si fuera necesario realizar cambios o transformaciones en los mismos."
   ]
  },
  {
   "cell_type": "markdown",
   "id": "076cb2a6",
   "metadata": {},
   "source": [
    "En primer lugar, cargamos los datos y miramos la dimensión y la estructura."
   ]
  },
  {
   "cell_type": "code",
   "execution_count": 3,
   "id": "32133af0",
   "metadata": {},
   "outputs": [
    {
     "data": {
      "text/html": [
       "<div>\n",
       "<style scoped>\n",
       "    .dataframe tbody tr th:only-of-type {\n",
       "        vertical-align: middle;\n",
       "    }\n",
       "\n",
       "    .dataframe tbody tr th {\n",
       "        vertical-align: top;\n",
       "    }\n",
       "\n",
       "    .dataframe thead th {\n",
       "        text-align: right;\n",
       "    }\n",
       "</style>\n",
       "<table border=\"1\" class=\"dataframe\">\n",
       "  <thead>\n",
       "    <tr style=\"text-align: right;\">\n",
       "      <th></th>\n",
       "      <th>id</th>\n",
       "      <th>experiences_offered</th>\n",
       "      <th>host_id</th>\n",
       "      <th>host_name</th>\n",
       "      <th>host_since</th>\n",
       "      <th>host_location</th>\n",
       "      <th>host_response_time</th>\n",
       "      <th>host_response_rate</th>\n",
       "      <th>host_acceptance_rate</th>\n",
       "      <th>host_is_superhost</th>\n",
       "      <th>...</th>\n",
       "      <th>instant_bookable</th>\n",
       "      <th>is_business_travel_ready</th>\n",
       "      <th>cancellation_policy</th>\n",
       "      <th>require_guest_profile_picture</th>\n",
       "      <th>require_guest_phone_verification</th>\n",
       "      <th>calculated_host_listings_count</th>\n",
       "      <th>calculated_host_listings_count_entire_homes</th>\n",
       "      <th>calculated_host_listings_count_private_rooms</th>\n",
       "      <th>calculated_host_listings_count_shared_rooms</th>\n",
       "      <th>reviews_per_month</th>\n",
       "    </tr>\n",
       "  </thead>\n",
       "  <tbody>\n",
       "    <tr>\n",
       "      <th>0</th>\n",
       "      <td>10080</td>\n",
       "      <td>none</td>\n",
       "      <td>30899</td>\n",
       "      <td>Rami</td>\n",
       "      <td>2009-08-10</td>\n",
       "      <td>Vancouver, British Columbia, Canada</td>\n",
       "      <td>within a few hours</td>\n",
       "      <td>85%</td>\n",
       "      <td>NaN</td>\n",
       "      <td>f</td>\n",
       "      <td>...</td>\n",
       "      <td>f</td>\n",
       "      <td>f</td>\n",
       "      <td>strict_14_with_grace_period</td>\n",
       "      <td>f</td>\n",
       "      <td>f</td>\n",
       "      <td>31</td>\n",
       "      <td>31</td>\n",
       "      <td>0</td>\n",
       "      <td>0</td>\n",
       "      <td>0.18</td>\n",
       "    </tr>\n",
       "    <tr>\n",
       "      <th>1</th>\n",
       "      <td>11400</td>\n",
       "      <td>none</td>\n",
       "      <td>42305</td>\n",
       "      <td>Jaynne</td>\n",
       "      <td>2009-09-30</td>\n",
       "      <td>Vancouver, British Columbia, Canada</td>\n",
       "      <td>NaN</td>\n",
       "      <td>NaN</td>\n",
       "      <td>NaN</td>\n",
       "      <td>f</td>\n",
       "      <td>...</td>\n",
       "      <td>f</td>\n",
       "      <td>f</td>\n",
       "      <td>strict_14_with_grace_period</td>\n",
       "      <td>t</td>\n",
       "      <td>t</td>\n",
       "      <td>1</td>\n",
       "      <td>0</td>\n",
       "      <td>1</td>\n",
       "      <td>0</td>\n",
       "      <td>0.64</td>\n",
       "    </tr>\n",
       "    <tr>\n",
       "      <th>2</th>\n",
       "      <td>13188</td>\n",
       "      <td>none</td>\n",
       "      <td>51466</td>\n",
       "      <td>Family Guns</td>\n",
       "      <td>2009-11-04</td>\n",
       "      <td>Vancouver, British Columbia, Canada</td>\n",
       "      <td>within an hour</td>\n",
       "      <td>100%</td>\n",
       "      <td>NaN</td>\n",
       "      <td>t</td>\n",
       "      <td>...</td>\n",
       "      <td>t</td>\n",
       "      <td>f</td>\n",
       "      <td>moderate</td>\n",
       "      <td>f</td>\n",
       "      <td>f</td>\n",
       "      <td>1</td>\n",
       "      <td>1</td>\n",
       "      <td>0</td>\n",
       "      <td>0</td>\n",
       "      <td>1.51</td>\n",
       "    </tr>\n",
       "    <tr>\n",
       "      <th>3</th>\n",
       "      <td>13357</td>\n",
       "      <td>none</td>\n",
       "      <td>52118</td>\n",
       "      <td>Liliana</td>\n",
       "      <td>2009-11-07</td>\n",
       "      <td>Vancouver, British Columbia, Canada</td>\n",
       "      <td>within an hour</td>\n",
       "      <td>100%</td>\n",
       "      <td>NaN</td>\n",
       "      <td>f</td>\n",
       "      <td>...</td>\n",
       "      <td>f</td>\n",
       "      <td>f</td>\n",
       "      <td>strict_14_with_grace_period</td>\n",
       "      <td>t</td>\n",
       "      <td>t</td>\n",
       "      <td>2</td>\n",
       "      <td>2</td>\n",
       "      <td>0</td>\n",
       "      <td>0</td>\n",
       "      <td>0.51</td>\n",
       "    </tr>\n",
       "    <tr>\n",
       "      <th>4</th>\n",
       "      <td>13358</td>\n",
       "      <td>none</td>\n",
       "      <td>52116</td>\n",
       "      <td>Lynn</td>\n",
       "      <td>2009-11-07</td>\n",
       "      <td>Vancouver, British Columbia, Canada</td>\n",
       "      <td>NaN</td>\n",
       "      <td>NaN</td>\n",
       "      <td>NaN</td>\n",
       "      <td>f</td>\n",
       "      <td>...</td>\n",
       "      <td>f</td>\n",
       "      <td>f</td>\n",
       "      <td>strict_14_with_grace_period</td>\n",
       "      <td>f</td>\n",
       "      <td>t</td>\n",
       "      <td>1</td>\n",
       "      <td>1</td>\n",
       "      <td>0</td>\n",
       "      <td>0</td>\n",
       "      <td>3.65</td>\n",
       "    </tr>\n",
       "  </tbody>\n",
       "</table>\n",
       "<p>5 rows × 82 columns</p>\n",
       "</div>"
      ],
      "text/plain": [
       "      id experiences_offered  host_id    host_name  host_since  \\\n",
       "0  10080                none    30899         Rami  2009-08-10   \n",
       "1  11400                none    42305       Jaynne  2009-09-30   \n",
       "2  13188                none    51466  Family Guns  2009-11-04   \n",
       "3  13357                none    52118      Liliana  2009-11-07   \n",
       "4  13358                none    52116         Lynn  2009-11-07   \n",
       "\n",
       "                         host_location  host_response_time host_response_rate  \\\n",
       "0  Vancouver, British Columbia, Canada  within a few hours                85%   \n",
       "1  Vancouver, British Columbia, Canada                 NaN                NaN   \n",
       "2  Vancouver, British Columbia, Canada      within an hour               100%   \n",
       "3  Vancouver, British Columbia, Canada      within an hour               100%   \n",
       "4  Vancouver, British Columbia, Canada                 NaN                NaN   \n",
       "\n",
       "   host_acceptance_rate host_is_superhost  ... instant_bookable  \\\n",
       "0                   NaN                 f  ...                f   \n",
       "1                   NaN                 f  ...                f   \n",
       "2                   NaN                 t  ...                t   \n",
       "3                   NaN                 f  ...                f   \n",
       "4                   NaN                 f  ...                f   \n",
       "\n",
       "   is_business_travel_ready          cancellation_policy  \\\n",
       "0                         f  strict_14_with_grace_period   \n",
       "1                         f  strict_14_with_grace_period   \n",
       "2                         f                     moderate   \n",
       "3                         f  strict_14_with_grace_period   \n",
       "4                         f  strict_14_with_grace_period   \n",
       "\n",
       "  require_guest_profile_picture require_guest_phone_verification  \\\n",
       "0                             f                                f   \n",
       "1                             t                                t   \n",
       "2                             f                                f   \n",
       "3                             t                                t   \n",
       "4                             f                                t   \n",
       "\n",
       "  calculated_host_listings_count calculated_host_listings_count_entire_homes  \\\n",
       "0                             31                                          31   \n",
       "1                              1                                           0   \n",
       "2                              1                                           1   \n",
       "3                              2                                           2   \n",
       "4                              1                                           1   \n",
       "\n",
       "  calculated_host_listings_count_private_rooms  \\\n",
       "0                                            0   \n",
       "1                                            1   \n",
       "2                                            0   \n",
       "3                                            0   \n",
       "4                                            0   \n",
       "\n",
       "   calculated_host_listings_count_shared_rooms reviews_per_month  \n",
       "0                                            0              0.18  \n",
       "1                                            0              0.64  \n",
       "2                                            0              1.51  \n",
       "3                                            0              0.51  \n",
       "4                                            0              3.65  \n",
       "\n",
       "[5 rows x 82 columns]"
      ]
     },
     "execution_count": 3,
     "metadata": {},
     "output_type": "execute_result"
    }
   ],
   "source": [
    "# Cargamos los datos\n",
    "df = pd.read_csv(\"airbnb-listings-cleaned.csv\")\n",
    "df.head(5)"
   ]
  },
  {
   "cell_type": "code",
   "execution_count": 4,
   "id": "db10c842",
   "metadata": {},
   "outputs": [
    {
     "data": {
      "text/plain": [
       "(4837, 82)"
      ]
     },
     "execution_count": 4,
     "metadata": {},
     "output_type": "execute_result"
    }
   ],
   "source": [
    "# Dimension de los datos\n",
    "df.shape"
   ]
  },
  {
   "cell_type": "markdown",
   "id": "d141d5f8",
   "metadata": {},
   "source": [
    "Tenemos 4837 registros de 82 variables.\n",
    "\n",
    "**Nota:** Agregar un README en github con descripción de las variables del dataframe y poner enlace"
   ]
  },
  {
   "cell_type": "markdown",
   "id": "688dcaa6",
   "metadata": {},
   "source": [
    "Vemos el tipo de las variables y si existen valores nulos."
   ]
  },
  {
   "cell_type": "code",
   "execution_count": 5,
   "id": "773e43da",
   "metadata": {
    "scrolled": false
   },
   "outputs": [
    {
     "name": "stdout",
     "output_type": "stream",
     "text": [
      "<class 'pandas.core.frame.DataFrame'>\n",
      "RangeIndex: 4837 entries, 0 to 4836\n",
      "Data columns (total 82 columns):\n",
      " #   Column                                        Non-Null Count  Dtype  \n",
      "---  ------                                        --------------  -----  \n",
      " 0   id                                            4837 non-null   int64  \n",
      " 1   experiences_offered                           4837 non-null   object \n",
      " 2   host_id                                       4837 non-null   int64  \n",
      " 3   host_name                                     4836 non-null   object \n",
      " 4   host_since                                    4836 non-null   object \n",
      " 5   host_location                                 4830 non-null   object \n",
      " 6   host_response_time                            2731 non-null   object \n",
      " 7   host_response_rate                            2731 non-null   object \n",
      " 8   host_acceptance_rate                          0 non-null      float64\n",
      " 9   host_is_superhost                             4836 non-null   object \n",
      " 10  host_neighbourhood                            4252 non-null   object \n",
      " 11  host_listings_count                           4836 non-null   float64\n",
      " 12  host_total_listings_count                     4836 non-null   float64\n",
      " 13  host_has_profile_pic                          4836 non-null   object \n",
      " 14  host_identity_verified                        4836 non-null   object \n",
      " 15  street                                        4837 non-null   object \n",
      " 16  neighbourhood                                 4551 non-null   object \n",
      " 17  neighbourhood_cleansed                        4837 non-null   object \n",
      " 18  neighbourhood_group_cleansed                  0 non-null      float64\n",
      " 19  city                                          4832 non-null   object \n",
      " 20  state                                         4826 non-null   object \n",
      " 21  zipcode                                       4730 non-null   object \n",
      " 22  market                                        4831 non-null   object \n",
      " 23  smart_location                                4837 non-null   object \n",
      " 24  country_code                                  4837 non-null   object \n",
      " 25  country                                       4837 non-null   object \n",
      " 26  latitude                                      4837 non-null   float64\n",
      " 27  longitude                                     4837 non-null   float64\n",
      " 28  is_location_exact                             4837 non-null   object \n",
      " 29  property_type                                 4837 non-null   object \n",
      " 30  room_type                                     4837 non-null   object \n",
      " 31  accommodates                                  4837 non-null   int64  \n",
      " 32  bathrooms                                     4837 non-null   float64\n",
      " 33  bedrooms                                      4835 non-null   float64\n",
      " 34  beds                                          4831 non-null   float64\n",
      " 35  bed_type                                      4837 non-null   object \n",
      " 36  square_feet                                   78 non-null     float64\n",
      " 37  price                                         4837 non-null   float64\n",
      " 38  weekly_price                                  557 non-null    float64\n",
      " 39  monthly_price                                 592 non-null    float64\n",
      " 40  security_deposit                              4052 non-null   float64\n",
      " 41  cleaning_fee                                  4423 non-null   float64\n",
      " 42  guests_included                               4837 non-null   int64  \n",
      " 43  extra_people                                  4837 non-null   object \n",
      " 44  minimum_nights                                4837 non-null   int64  \n",
      " 45  maximum_nights                                4837 non-null   int64  \n",
      " 46  minimum_minimum_nights                        4837 non-null   int64  \n",
      " 47  maximum_minimum_nights                        4837 non-null   int64  \n",
      " 48  minimum_maximum_nights                        4837 non-null   int64  \n",
      " 49  maximum_maximum_nights                        4837 non-null   int64  \n",
      " 50  minimum_nights_avg_ntm                        4837 non-null   float64\n",
      " 51  maximum_nights_avg_ntm                        4837 non-null   float64\n",
      " 52  calendar_updated                              4837 non-null   object \n",
      " 53  has_availability                              4837 non-null   object \n",
      " 54  availability_30                               4837 non-null   int64  \n",
      " 55  availability_60                               4837 non-null   int64  \n",
      " 56  availability_90                               4837 non-null   int64  \n",
      " 57  availability_365                              4837 non-null   int64  \n",
      " 58  calendar_last_scraped                         4837 non-null   object \n",
      " 59  number_of_reviews                             4837 non-null   int64  \n",
      " 60  number_of_reviews_ltm                         4837 non-null   int64  \n",
      " 61  first_review                                  4155 non-null   object \n",
      " 62  last_review                                   4155 non-null   object \n",
      " 63  review_scores_rating                          4132 non-null   float64\n",
      " 64  review_scores_accuracy                        4131 non-null   float64\n",
      " 65  review_scores_cleanliness                     4132 non-null   float64\n",
      " 66  review_scores_checkin                         4129 non-null   float64\n",
      " 67  review_scores_communication                   4130 non-null   float64\n",
      " 68  review_scores_location                        4129 non-null   float64\n",
      " 69  review_scores_value                           4129 non-null   float64\n",
      " 70  requires_license                              4837 non-null   object \n",
      " 71  license                                       3770 non-null   object \n",
      " 72  instant_bookable                              4837 non-null   object \n",
      " 73  is_business_travel_ready                      4837 non-null   object \n",
      " 74  cancellation_policy                           4837 non-null   object \n",
      " 75  require_guest_profile_picture                 4837 non-null   object \n",
      " 76  require_guest_phone_verification              4837 non-null   object \n",
      " 77  calculated_host_listings_count                4837 non-null   int64  \n",
      " 78  calculated_host_listings_count_entire_homes   4837 non-null   int64  \n",
      " 79  calculated_host_listings_count_private_rooms  4837 non-null   int64  \n",
      " 80  calculated_host_listings_count_shared_rooms   4837 non-null   int64  \n",
      " 81  reviews_per_month                             4155 non-null   float64\n",
      "dtypes: float64(25), int64(20), object(37)\n",
      "memory usage: 3.0+ MB\n"
     ]
    }
   ],
   "source": [
    "# Tipo de las variables y valores nulos\n",
    "df.info()"
   ]
  },
  {
   "cell_type": "markdown",
   "id": "9b11f7da",
   "metadata": {},
   "source": [
    "Variables que consideramos para el estudio cualitativo del host\n",
    "- host_id\n",
    "- host_since\n",
    "- host_is_superhost\n",
    "- host_verified\n",
    "\n",
    "Selección de variables para el modelo:\n",
    "- latitude\n",
    "- longitude\n",
    "- room_type: tipo de habitación (privada o apartamento)\n",
    "- accommodates: número de huéspedes\n",
    "- bathrooms: número de baños\n",
    "- bedrooms: número de habitaciones\n",
    "- beds: número de camas\n",
    "- security_deposit: depósito de seguro\n",
    "- celaning_fee: \n",
    "- guests_inclueded\n",
    "- extra_people\n",
    "- minimum_nights\n",
    "- maximum_nights\n",
    "- availability_90\n",
    "- number_of_reviews\n",
    "- review_scores_rating \n",
    "- review_scores_accuracy                  \n",
    "- review_scores_cleanliness                   \n",
    "- review_scores_checkin                  \n",
    "- review_scores_communication        \n",
    "- review_scores_location         \n",
    "- review_scores_value \n",
    "- reviews_per_month\n",
    "- **price**: Esta es la variable target"
   ]
  },
  {
   "cell_type": "code",
   "execution_count": 6,
   "id": "d7a52f94",
   "metadata": {
    "scrolled": false
   },
   "outputs": [
    {
     "data": {
      "text/plain": [
       "Index(['host_id', 'host_since', 'host_is_superhost', 'host_identity_verified',\n",
       "       'zipcode', 'latitude', 'longitude', 'is_location_exact', 'room_type',\n",
       "       'accommodates', 'bathrooms', 'bedrooms', 'beds', 'price',\n",
       "       'security_deposit', 'cleaning_fee', 'guests_included', 'extra_people',\n",
       "       'minimum_nights', 'maximum_nights', 'availability_90',\n",
       "       'number_of_reviews', 'review_scores_rating', 'review_scores_accuracy',\n",
       "       'review_scores_cleanliness', 'review_scores_checkin',\n",
       "       'review_scores_communication', 'review_scores_location',\n",
       "       'review_scores_value', 'reviews_per_month'],\n",
       "      dtype='object')"
      ]
     },
     "execution_count": 6,
     "metadata": {},
     "output_type": "execute_result"
    }
   ],
   "source": [
    "cols = [0,1,3,5,6,7,8,10,11,12,13,15,16,17,18,19,20,22,23,24,25,29,35,36,38,39,46,47,48,49,50,51,52,53,54,55,57,58,\n",
    "        60,61,62,70,71,72,73,74,75,76,77,78,79,80]\n",
    "# Eliminamos las variables\n",
    "df = df.drop(df.columns[cols],axis = 1)\n",
    "df.columns"
   ]
  },
  {
   "cell_type": "markdown",
   "id": "a4e622c1",
   "metadata": {},
   "source": [
    "Realizamos algunas modificaciones sobre las varibles:"
   ]
  },
  {
   "cell_type": "code",
   "execution_count": 21,
   "id": "d3e3ad5c",
   "metadata": {},
   "outputs": [],
   "source": [
    "# Nos quedamos solo con el año de host_since \n",
    "df['host_since'] = pd.to_datetime(df['host_since'], errors='coerce')\n",
    "df['host_since'] = df['host_since'].dt.year\n",
    "\n",
    "# Pasamos is host_is_superhost y host_identity_verified a binario 1:t 0:f\n",
    "df['host_is_superhost'] = np.where(df['host_is_superhost'] == \"t\", 1,0)\n",
    "df['host_identity_verified'] = np.where(df['host_identity_verified'] == \"t\", 1,0)\n",
    "\n",
    "# Si la localizacion no esta verificada ponemos NaN\n",
    "df.loc[df['is_location_exact'] != 't', ['latitude', 'longitude']] = np.nan\n",
    "\n",
    "# Cambiamos la variable room_type a dummies segun las 3 categorias\n",
    "df['room_type'].value_counts()\n",
    "df_rooms = pd.get_dummies(df[['room_type']], prefix = \"\", prefix_sep = \"\")\n",
    "df = pd.concat([df,df_rooms], axis=1)\n",
    "# df.drop(['room_type'], axis = 1, inplace = True)\n",
    "\n",
    "# Cambiamos extra_people a dtype=float64\n",
    "df['extra_people'] = df['extra_people'].str.replace('$','').astype('float64')\n",
    "\n",
    "df.head(5)"
   ]
  },
  {
   "cell_type": "markdown",
   "id": "e3b1a690",
   "metadata": {},
   "source": [
    "## Análisis descriptivo"
   ]
  },
  {
   "cell_type": "markdown",
   "id": "9dbd83a5",
   "metadata": {},
   "source": [
    "Vemos algunos estadísticos de los datos y estudiamos la distribución de las variables."
   ]
  },
  {
   "cell_type": "code",
   "execution_count": 24,
   "id": "f65e0711",
   "metadata": {
    "scrolled": true
   },
   "outputs": [
    {
     "data": {
      "text/html": [
       "<div>\n",
       "<style scoped>\n",
       "    .dataframe tbody tr th:only-of-type {\n",
       "        vertical-align: middle;\n",
       "    }\n",
       "\n",
       "    .dataframe tbody tr th {\n",
       "        vertical-align: top;\n",
       "    }\n",
       "\n",
       "    .dataframe thead th {\n",
       "        text-align: right;\n",
       "    }\n",
       "</style>\n",
       "<table border=\"1\" class=\"dataframe\">\n",
       "  <thead>\n",
       "    <tr style=\"text-align: right;\">\n",
       "      <th></th>\n",
       "      <th>host_since</th>\n",
       "      <th>host_is_superhost</th>\n",
       "      <th>host_identity_verified</th>\n",
       "      <th>accommodates</th>\n",
       "      <th>bathrooms</th>\n",
       "      <th>bedrooms</th>\n",
       "      <th>beds</th>\n",
       "      <th>price</th>\n",
       "      <th>security_deposit</th>\n",
       "      <th>cleaning_fee</th>\n",
       "      <th>...</th>\n",
       "      <th>review_scores_accuracy</th>\n",
       "      <th>review_scores_cleanliness</th>\n",
       "      <th>review_scores_checkin</th>\n",
       "      <th>review_scores_communication</th>\n",
       "      <th>review_scores_location</th>\n",
       "      <th>review_scores_value</th>\n",
       "      <th>reviews_per_month</th>\n",
       "      <th>Entire home/apt</th>\n",
       "      <th>Private room</th>\n",
       "      <th>Shared room</th>\n",
       "    </tr>\n",
       "  </thead>\n",
       "  <tbody>\n",
       "    <tr>\n",
       "      <th>count</th>\n",
       "      <td>4836.000000</td>\n",
       "      <td>4837.000000</td>\n",
       "      <td>4837.000000</td>\n",
       "      <td>4837.000000</td>\n",
       "      <td>4837.000000</td>\n",
       "      <td>4835.000000</td>\n",
       "      <td>4831.000000</td>\n",
       "      <td>4837.000000</td>\n",
       "      <td>4052.000000</td>\n",
       "      <td>4423.000000</td>\n",
       "      <td>...</td>\n",
       "      <td>4131.000000</td>\n",
       "      <td>4132.000000</td>\n",
       "      <td>4129.000000</td>\n",
       "      <td>4130.000000</td>\n",
       "      <td>4129.000000</td>\n",
       "      <td>4129.000000</td>\n",
       "      <td>4155.000000</td>\n",
       "      <td>4837.000000</td>\n",
       "      <td>4837.000000</td>\n",
       "      <td>4837.000000</td>\n",
       "    </tr>\n",
       "    <tr>\n",
       "      <th>mean</th>\n",
       "      <td>2015.065136</td>\n",
       "      <td>0.343188</td>\n",
       "      <td>0.374819</td>\n",
       "      <td>3.511267</td>\n",
       "      <td>1.320136</td>\n",
       "      <td>1.469493</td>\n",
       "      <td>1.869178</td>\n",
       "      <td>163.807732</td>\n",
       "      <td>373.262833</td>\n",
       "      <td>79.491296</td>\n",
       "      <td>...</td>\n",
       "      <td>9.697652</td>\n",
       "      <td>9.517667</td>\n",
       "      <td>9.781061</td>\n",
       "      <td>9.804843</td>\n",
       "      <td>9.665779</td>\n",
       "      <td>9.413902</td>\n",
       "      <td>2.156852</td>\n",
       "      <td>0.695886</td>\n",
       "      <td>0.296258</td>\n",
       "      <td>0.007856</td>\n",
       "    </tr>\n",
       "    <tr>\n",
       "      <th>std</th>\n",
       "      <td>2.342118</td>\n",
       "      <td>0.474823</td>\n",
       "      <td>0.484126</td>\n",
       "      <td>2.328068</td>\n",
       "      <td>0.667160</td>\n",
       "      <td>1.059685</td>\n",
       "      <td>1.269757</td>\n",
       "      <td>199.445018</td>\n",
       "      <td>507.081634</td>\n",
       "      <td>61.085880</td>\n",
       "      <td>...</td>\n",
       "      <td>0.682427</td>\n",
       "      <td>0.841566</td>\n",
       "      <td>0.567635</td>\n",
       "      <td>0.578685</td>\n",
       "      <td>0.611734</td>\n",
       "      <td>0.782506</td>\n",
       "      <td>1.964260</td>\n",
       "      <td>0.460079</td>\n",
       "      <td>0.456653</td>\n",
       "      <td>0.088295</td>\n",
       "    </tr>\n",
       "    <tr>\n",
       "      <th>min</th>\n",
       "      <td>2009.000000</td>\n",
       "      <td>0.000000</td>\n",
       "      <td>0.000000</td>\n",
       "      <td>1.000000</td>\n",
       "      <td>0.000000</td>\n",
       "      <td>0.000000</td>\n",
       "      <td>0.000000</td>\n",
       "      <td>14.000000</td>\n",
       "      <td>0.000000</td>\n",
       "      <td>0.000000</td>\n",
       "      <td>...</td>\n",
       "      <td>2.000000</td>\n",
       "      <td>2.000000</td>\n",
       "      <td>2.000000</td>\n",
       "      <td>2.000000</td>\n",
       "      <td>2.000000</td>\n",
       "      <td>2.000000</td>\n",
       "      <td>0.010000</td>\n",
       "      <td>0.000000</td>\n",
       "      <td>0.000000</td>\n",
       "      <td>0.000000</td>\n",
       "    </tr>\n",
       "    <tr>\n",
       "      <th>25%</th>\n",
       "      <td>2013.000000</td>\n",
       "      <td>0.000000</td>\n",
       "      <td>0.000000</td>\n",
       "      <td>2.000000</td>\n",
       "      <td>1.000000</td>\n",
       "      <td>1.000000</td>\n",
       "      <td>1.000000</td>\n",
       "      <td>80.000000</td>\n",
       "      <td>125.000000</td>\n",
       "      <td>38.000000</td>\n",
       "      <td>...</td>\n",
       "      <td>10.000000</td>\n",
       "      <td>9.000000</td>\n",
       "      <td>10.000000</td>\n",
       "      <td>10.000000</td>\n",
       "      <td>9.000000</td>\n",
       "      <td>9.000000</td>\n",
       "      <td>0.630000</td>\n",
       "      <td>0.000000</td>\n",
       "      <td>0.000000</td>\n",
       "      <td>0.000000</td>\n",
       "    </tr>\n",
       "    <tr>\n",
       "      <th>50%</th>\n",
       "      <td>2015.000000</td>\n",
       "      <td>0.000000</td>\n",
       "      <td>0.000000</td>\n",
       "      <td>3.000000</td>\n",
       "      <td>1.000000</td>\n",
       "      <td>1.000000</td>\n",
       "      <td>1.000000</td>\n",
       "      <td>119.000000</td>\n",
       "      <td>250.000000</td>\n",
       "      <td>65.000000</td>\n",
       "      <td>...</td>\n",
       "      <td>10.000000</td>\n",
       "      <td>10.000000</td>\n",
       "      <td>10.000000</td>\n",
       "      <td>10.000000</td>\n",
       "      <td>10.000000</td>\n",
       "      <td>10.000000</td>\n",
       "      <td>1.520000</td>\n",
       "      <td>1.000000</td>\n",
       "      <td>0.000000</td>\n",
       "      <td>0.000000</td>\n",
       "    </tr>\n",
       "    <tr>\n",
       "      <th>75%</th>\n",
       "      <td>2017.000000</td>\n",
       "      <td>1.000000</td>\n",
       "      <td>1.000000</td>\n",
       "      <td>4.000000</td>\n",
       "      <td>1.500000</td>\n",
       "      <td>2.000000</td>\n",
       "      <td>2.000000</td>\n",
       "      <td>196.000000</td>\n",
       "      <td>500.000000</td>\n",
       "      <td>100.000000</td>\n",
       "      <td>...</td>\n",
       "      <td>10.000000</td>\n",
       "      <td>10.000000</td>\n",
       "      <td>10.000000</td>\n",
       "      <td>10.000000</td>\n",
       "      <td>10.000000</td>\n",
       "      <td>10.000000</td>\n",
       "      <td>3.220000</td>\n",
       "      <td>1.000000</td>\n",
       "      <td>1.000000</td>\n",
       "      <td>0.000000</td>\n",
       "    </tr>\n",
       "    <tr>\n",
       "      <th>max</th>\n",
       "      <td>2019.000000</td>\n",
       "      <td>1.000000</td>\n",
       "      <td>1.000000</td>\n",
       "      <td>16.000000</td>\n",
       "      <td>8.000000</td>\n",
       "      <td>30.000000</td>\n",
       "      <td>25.000000</td>\n",
       "      <td>6500.000000</td>\n",
       "      <td>6561.000000</td>\n",
       "      <td>500.000000</td>\n",
       "      <td>...</td>\n",
       "      <td>10.000000</td>\n",
       "      <td>10.000000</td>\n",
       "      <td>10.000000</td>\n",
       "      <td>10.000000</td>\n",
       "      <td>10.000000</td>\n",
       "      <td>10.000000</td>\n",
       "      <td>17.860000</td>\n",
       "      <td>1.000000</td>\n",
       "      <td>1.000000</td>\n",
       "      <td>1.000000</td>\n",
       "    </tr>\n",
       "  </tbody>\n",
       "</table>\n",
       "<p>8 rows × 27 columns</p>\n",
       "</div>"
      ],
      "text/plain": [
       "        host_since  host_is_superhost  host_identity_verified  accommodates  \\\n",
       "count  4836.000000        4837.000000             4837.000000   4837.000000   \n",
       "mean   2015.065136           0.343188                0.374819      3.511267   \n",
       "std       2.342118           0.474823                0.484126      2.328068   \n",
       "min    2009.000000           0.000000                0.000000      1.000000   \n",
       "25%    2013.000000           0.000000                0.000000      2.000000   \n",
       "50%    2015.000000           0.000000                0.000000      3.000000   \n",
       "75%    2017.000000           1.000000                1.000000      4.000000   \n",
       "max    2019.000000           1.000000                1.000000     16.000000   \n",
       "\n",
       "         bathrooms     bedrooms         beds        price  security_deposit  \\\n",
       "count  4837.000000  4835.000000  4831.000000  4837.000000       4052.000000   \n",
       "mean      1.320136     1.469493     1.869178   163.807732        373.262833   \n",
       "std       0.667160     1.059685     1.269757   199.445018        507.081634   \n",
       "min       0.000000     0.000000     0.000000    14.000000          0.000000   \n",
       "25%       1.000000     1.000000     1.000000    80.000000        125.000000   \n",
       "50%       1.000000     1.000000     1.000000   119.000000        250.000000   \n",
       "75%       1.500000     2.000000     2.000000   196.000000        500.000000   \n",
       "max       8.000000    30.000000    25.000000  6500.000000       6561.000000   \n",
       "\n",
       "       cleaning_fee  ...  review_scores_accuracy  review_scores_cleanliness  \\\n",
       "count   4423.000000  ...             4131.000000                4132.000000   \n",
       "mean      79.491296  ...                9.697652                   9.517667   \n",
       "std       61.085880  ...                0.682427                   0.841566   \n",
       "min        0.000000  ...                2.000000                   2.000000   \n",
       "25%       38.000000  ...               10.000000                   9.000000   \n",
       "50%       65.000000  ...               10.000000                  10.000000   \n",
       "75%      100.000000  ...               10.000000                  10.000000   \n",
       "max      500.000000  ...               10.000000                  10.000000   \n",
       "\n",
       "       review_scores_checkin  review_scores_communication  \\\n",
       "count            4129.000000                  4130.000000   \n",
       "mean                9.781061                     9.804843   \n",
       "std                 0.567635                     0.578685   \n",
       "min                 2.000000                     2.000000   \n",
       "25%                10.000000                    10.000000   \n",
       "50%                10.000000                    10.000000   \n",
       "75%                10.000000                    10.000000   \n",
       "max                10.000000                    10.000000   \n",
       "\n",
       "       review_scores_location  review_scores_value  reviews_per_month  \\\n",
       "count             4129.000000          4129.000000        4155.000000   \n",
       "mean                 9.665779             9.413902           2.156852   \n",
       "std                  0.611734             0.782506           1.964260   \n",
       "min                  2.000000             2.000000           0.010000   \n",
       "25%                  9.000000             9.000000           0.630000   \n",
       "50%                 10.000000            10.000000           1.520000   \n",
       "75%                 10.000000            10.000000           3.220000   \n",
       "max                 10.000000            10.000000          17.860000   \n",
       "\n",
       "       Entire home/apt  Private room  Shared room  \n",
       "count      4837.000000   4837.000000  4837.000000  \n",
       "mean          0.695886      0.296258     0.007856  \n",
       "std           0.460079      0.456653     0.088295  \n",
       "min           0.000000      0.000000     0.000000  \n",
       "25%           0.000000      0.000000     0.000000  \n",
       "50%           1.000000      0.000000     0.000000  \n",
       "75%           1.000000      1.000000     0.000000  \n",
       "max           1.000000      1.000000     1.000000  \n",
       "\n",
       "[8 rows x 27 columns]"
      ]
     },
     "execution_count": 24,
     "metadata": {},
     "output_type": "execute_result"
    }
   ],
   "source": [
    "# Estadisticos descriptivos\n",
    "df.drop(columns=['host_id', 'latitude', 'longitude']).describe()"
   ]
  },
  {
   "cell_type": "code",
   "execution_count": 25,
   "id": "153fb468",
   "metadata": {
    "scrolled": true
   },
   "outputs": [
    {
     "data": {
      "image/png": "[encoded data removed]",
      "text/plain": [
       "<Figure size 1440x1080 with 30 Axes>"
      ]
     },
     "metadata": {
      "needs_background": "light"
     },
     "output_type": "display_data"
    }
   ],
   "source": [
    "# Histograma de las variables\n",
    "df.drop(columns=['host_id', 'latitude', 'longitude']).hist(figsize=(20,15))\n",
    "plt.show()"
   ]
  },
  {
   "cell_type": "markdown",
   "id": "6a9d8ae9",
   "metadata": {},
   "source": [
    "Mediante los histogramas podemos observar que las variables presentan asimetría, lo cual no es favorable para los modelos de regresión. Podemos estudiar esto mediante el coeficiente de asimetria de Fisher, que mida la centralidad de los datos. Si el coeficiente es 0, los datos están centrados entrorno a la media, si es postivo presentan asimetría por la derecha, y si es negativo asimetría por la izquierda."
   ]
  },
  {
   "cell_type": "code",
   "execution_count": 27,
   "id": "0ab7c382",
   "metadata": {
    "scrolled": false
   },
   "outputs": [
    {
     "data": {
      "text/plain": [
       "host_id                         0.755759\n",
       "host_since                     -0.440678\n",
       "host_is_superhost               0.660781\n",
       "host_identity_verified          0.517355\n",
       "latitude                       -0.848455\n",
       "longitude                      -0.018747\n",
       "accommodates                    2.369422\n",
       "bathrooms                       3.220608\n",
       "bedrooms                        5.625197\n",
       "beds                            3.217257\n",
       "price                          12.212070\n",
       "security_deposit                4.366158\n",
       "cleaning_fee                    1.728225\n",
       "guests_included                 3.003613\n",
       "extra_people                    5.738925\n",
       "minimum_nights                 14.495928\n",
       "maximum_nights                 54.288024\n",
       "availability_90                -0.040911\n",
       "number_of_reviews               3.265125\n",
       "review_scores_rating           -3.517784\n",
       "review_scores_accuracy         -4.149823\n",
       "review_scores_cleanliness      -3.065372\n",
       "review_scores_checkin          -4.888532\n",
       "review_scores_communication    -5.396317\n",
       "review_scores_location         -2.910388\n",
       "review_scores_value            -2.531370\n",
       "reviews_per_month               1.419875\n",
       "Entire home/apt                -0.851884\n",
       "Private room                    0.892696\n",
       "Shared room                    11.152333\n",
       "dtype: float64"
      ]
     },
     "execution_count": 27,
     "metadata": {},
     "output_type": "execute_result"
    }
   ],
   "source": [
    "# Simetria\n",
    "df.skew(axis=0, skipna = True) # Solo nos interesa para variables continuas "
   ]
  },
  {
   "cell_type": "markdown",
   "id": "674b79e4",
   "metadata": {},
   "source": [
    "Como podemos observar, variables como *price* o *sqft_lot*, presentan una alta asimetría. Así, realizaremos una transformación logarítmica de los datos tras realizar el estudio de los outliers."
   ]
  },
  {
   "cell_type": "markdown",
   "id": "1b489bea",
   "metadata": {},
   "source": [
    "## Outliers"
   ]
  },
  {
   "cell_type": "markdown",
   "id": "70251dae",
   "metadata": {},
   "source": [
    "Primero vamos a estudiar los outliers en las variables *bedrooms* y *bathrooms*"
   ]
  },
  {
   "cell_type": "code",
   "execution_count": null,
   "id": "6802254c",
   "metadata": {},
   "outputs": [],
   "source": [
    "# Boxplot bedrooms y bathrooms\n",
    "fig = plt.figure(figsize = (5,5))\n",
    "\n",
    "plt.boxplot(df[['bedrooms','bathrooms']])\n",
    "\n",
    "plt.title('Outliers')\n",
    "plt.xticks([1,2], ['Bedrooms', 'Bathrooms'])\n",
    "\n",
    "plt.show()"
   ]
  },
  {
   "cell_type": "markdown",
   "id": "7b52a2a4",
   "metadata": {},
   "source": [
    "Estudiamos los outliers en conjunto. Para ello empleamos la librería *PyOD* que posee estrategias para detectar outliers. En este caso, empleamos el algoritmo de KNN"
   ]
  },
  {
   "cell_type": "code",
   "execution_count": null,
   "id": "c799defe",
   "metadata": {},
   "outputs": [],
   "source": [
    "#!pip install pyod --user"
   ]
  },
  {
   "cell_type": "code",
   "execution_count": null,
   "id": "d07030e2",
   "metadata": {},
   "outputs": [],
   "source": [
    "# Librerias\n",
    "from pyod.models.knn import KNN"
   ]
  },
  {
   "cell_type": "code",
   "execution_count": null,
   "id": "f419f3cd",
   "metadata": {
    "scrolled": true
   },
   "outputs": [],
   "source": [
    "# Deteccion de outliers\n",
    "A = df[['bedrooms','bathrooms','sqft_living']]\n",
    "clf = KNN(contamination=0.1)\n",
    "clf.fit(A)\n",
    "y_pred = clf.predict(A)\n",
    "A[y_pred == 1]"
   ]
  },
  {
   "cell_type": "markdown",
   "id": "b152771d",
   "metadata": {},
   "source": [
    "Así, eliminamos los outliers del dataframe original"
   ]
  },
  {
   "cell_type": "code",
   "execution_count": null,
   "id": "93946611",
   "metadata": {},
   "outputs": [],
   "source": [
    "# Sin outliers\n",
    "non_outliers = A[y_pred ==0]\n",
    "df = df.loc[non_outliers.index]\n",
    "\n",
    "# Dimension del dataframe sin outliers\n",
    "df.shape"
   ]
  },
  {
   "cell_type": "markdown",
   "id": "8420f541",
   "metadata": {},
   "source": [
    "Como habíamos comentado antes, las variables como *price*, *sqft_living* y *sqft_lot* presentan mucha asimetría. Por ello, realizamos una transformación logarítmica.\n",
    "\n",
    "Además, vamos a estudiar si las variables *sqft_living* y *sqft_living15* son parecidas (y lo mismo con *sqft_lot* y *sqft_lot15*), en cuyo caso eliminaremos las dos últimas."
   ]
  },
  {
   "cell_type": "code",
   "execution_count": null,
   "id": "64b9317e",
   "metadata": {},
   "outputs": [],
   "source": [
    "# sqft_living y sqft_living15\n",
    "fig, ax = plt.subplots(1, 1, figsize=(10, 5))\n",
    "\n",
    "sns.kdeplot(df['sqft_living'], shade=True, color='blue', label='sqft_living', ax=ax)\n",
    "sns.kdeplot(df['sqft_living15'], shade=True, color='red', label='sqft_living15', ax=ax)\n",
    "\n",
    "ax.set_xlabel('Square footage')\n",
    "ax.set_ylabel('Densidad')\n",
    "ax.set_title('Comparacion sqft_living & sqft_living15')\n",
    "ax.legend(loc='best')\n",
    "\n",
    "plt.show()"
   ]
  },
  {
   "cell_type": "code",
   "execution_count": null,
   "id": "08261721",
   "metadata": {
    "scrolled": true
   },
   "outputs": [],
   "source": [
    "# sqft_lot y sqft_lot15\n",
    "fig, ax = plt.subplots(1, 1, figsize=(10, 5))\n",
    "\n",
    "sns.kdeplot(df['sqft_lot'], shade=True, color='blue', label='sqft_living', ax=ax)\n",
    "sns.kdeplot(df['sqft_lot15'], shade=True, color='red', label='sqft_living15', ax=ax)\n",
    "\n",
    "ax.set_xlabel('Square footage')\n",
    "ax.set_ylabel('Densidad')\n",
    "ax.set_title('Comparacion sqft_lot & sqft_lot15')\n",
    "ax.legend(loc='best')\n",
    "\n",
    "plt.show()"
   ]
  },
  {
   "cell_type": "markdown",
   "id": "84f57b2d",
   "metadata": {},
   "source": [
    "Como se distribuyen de la misma manera y nos aportaran la misma infromación, sólo utilizaremos las variables referentes a la casa. \n",
    "\n",
    "Procedemos a realizar la transformación logarítmica para obtener simetría."
   ]
  },
  {
   "cell_type": "code",
   "execution_count": null,
   "id": "721e5fe3",
   "metadata": {},
   "outputs": [],
   "source": [
    "# Transfomacion\n",
    "cols = ['price','sqft_living', 'sqft_lot', 'sqft_above', 'sqft_basement']\n",
    "for col in cols:\n",
    "    df[col] = np.log(df[col])"
   ]
  },
  {
   "cell_type": "code",
   "execution_count": null,
   "id": "df81306e",
   "metadata": {
    "scrolled": true
   },
   "outputs": [],
   "source": [
    "# Histograma de las variables transformadas\n",
    "fig, axs = plt.subplots(1, 5, figsize=(10, 5))\n",
    "\n",
    "axs[0].hist(df['price'], bins=30, alpha= 0.5,color='red')\n",
    "axs[1].hist(df['sqft_living'], bins=30, alpha=0.5, color='blue')\n",
    "axs[2].hist(df['sqft_lot'], bins=30, alpha=0.5, color='green')\n",
    "axs[3].hist(df['sqft_above'], bins=30, alpha=0.5, color='purple')\n",
    "axs[4].hist(df['sqft_above'], bins=30, alpha=0.5, color='yellow')\n",
    "\n",
    "axs[0].set_title('Log-Price')\n",
    "axs[1].set_title('Log-Sqft_living')\n",
    "axs[2].set_title('Log-Sqft_lot')\n",
    "axs[3].set_title('Log-Sqft_above')\n",
    "axs[4].set_title('Log-Sqft_basement')\n",
    "\n",
    "plt.show()"
   ]
  },
  {
   "cell_type": "markdown",
   "id": "2893040a",
   "metadata": {},
   "source": [
    "## Algunos gráficos interesantes"
   ]
  },
  {
   "cell_type": "markdown",
   "id": "9c054f39",
   "metadata": {},
   "source": [
    "Ahora vamos a estudiar algunas relaciones existentes entre las variables y *price*"
   ]
  },
  {
   "cell_type": "markdown",
   "id": "06c7be10",
   "metadata": {},
   "source": [
    "En primer lugar, podemos ver cómo influye el número de habitaciones y baños en el precio de la casa mediante un boxplot."
   ]
  },
  {
   "cell_type": "code",
   "execution_count": null,
   "id": "51414a2f",
   "metadata": {
    "scrolled": false
   },
   "outputs": [],
   "source": [
    "# Boxplot entre bedrooms y log-price\n",
    "fig, ax = plt.subplots(figsize=(10,5))\n",
    "\n",
    "sns.boxplot(x=df['bedrooms'], y=df['price'], data = df, ax = ax)\n",
    "\n",
    "plt.xlabel('Bedrooms')\n",
    "plt.ylabel('log Price')\n",
    "plt.title('Boxplot bedrooms vs price')\n",
    "\n",
    "plt.show()"
   ]
  },
  {
   "cell_type": "code",
   "execution_count": null,
   "id": "2049a40d",
   "metadata": {
    "scrolled": false
   },
   "outputs": [],
   "source": [
    "# Boxplot entre bathrooms y logprice\n",
    "fig, ax = plt.subplots(figsize=(10,5))\n",
    "\n",
    "sns.boxplot(x=df['bathrooms'], y=df['price'], data = df, ax = ax)\n",
    "\n",
    "plt.xlabel('Bathrooms')\n",
    "plt.ylabel('log Price')\n",
    "plt.title('Boxplot bathrooms vs price')\n",
    "\n",
    "plt.show()"
   ]
  },
  {
   "cell_type": "markdown",
   "id": "a3ae3433",
   "metadata": {},
   "source": [
    "También podemos ver como aumenta el precio a medida que aumenta la superficie habitable de la casa."
   ]
  },
  {
   "cell_type": "code",
   "execution_count": null,
   "id": "b984ec38",
   "metadata": {
    "scrolled": false
   },
   "outputs": [],
   "source": [
    "# Grafico de dispersion sqft_living vs. price\n",
    "fig,ax = plt.subplots(figsize=(10,5))\n",
    "\n",
    "ax.scatter(x=df['sqft_living'].values, y = df['price'].values)\n",
    "\n",
    "ax.set_xlabel('Sqft Living')\n",
    "ax.set_ylabel('log Price')\n",
    "plt.title('Sqft vs Price')\n",
    "\n",
    "plt.show()"
   ]
  },
  {
   "cell_type": "markdown",
   "id": "40c1d80b",
   "metadata": {},
   "source": [
    "Además, también puede ser interesante estudiar si existe alguna relación entre las componentes de geolocalización y el precio de las casas."
   ]
  },
  {
   "cell_type": "markdown",
   "id": "fd4972c7",
   "metadata": {},
   "source": [
    "Podemos comenzar estudiando las variables longitud y latitud de la casa por separado."
   ]
  },
  {
   "cell_type": "code",
   "execution_count": null,
   "id": "acc91f53",
   "metadata": {
    "scrolled": false
   },
   "outputs": [],
   "source": [
    "# Grafico de dispersion long /lat vs. price\n",
    "fig,ax = plt.subplots(2, figsize=(10,5))\n",
    "\n",
    "ax[0].scatter(x=df['long'].values, y = df['price'].values)\n",
    "ax[1].scatter(x=df['lat'].values, y = df['price'].values)\n",
    "\n",
    "ax[0].set_xlabel('Long')\n",
    "ax[0].set_ylabel('log Price')\n",
    "ax[1].set_xlabel('Lat')\n",
    "ax[1].set_ylabel('log Price')\n",
    "\n",
    "plt.suptitle('Long / Lat vs Price')\n",
    "\n",
    "plt.show()"
   ]
  },
  {
   "cell_type": "markdown",
   "id": "0cab60d3",
   "metadata": {},
   "source": [
    "También, podemos tratar la latitud y longitud conjutamente creando puntos en el espacio."
   ]
  },
  {
   "cell_type": "code",
   "execution_count": null,
   "id": "e8cbe45e",
   "metadata": {},
   "outputs": [],
   "source": [
    "# !pip install geopandas"
   ]
  },
  {
   "cell_type": "code",
   "execution_count": null,
   "id": "a08220c2",
   "metadata": {},
   "outputs": [],
   "source": [
    "# Librerias\n",
    "import geopandas as gpd\n",
    "from shapely.geometry import Point, Polygon"
   ]
  },
  {
   "cell_type": "code",
   "execution_count": null,
   "id": "1c285218",
   "metadata": {},
   "outputs": [],
   "source": [
    "# Mapa de King County, Washington\n",
    "street_map = gpd.read_file('./Incorporated_Areas_of_King_County/Incorporated_Areas_of_King_County___citydst_area.shp')\n",
    "# Creamos GeoPandas Data Frame\n",
    "# Sistema de coordenadas \n",
    "crs = {'init':'epsg:4326'}\n",
    "# Puntos de coordenadas\n",
    "geometry = [Point(xy) for xy in zip(df['long'], df['lat'])]\n",
    "# DataFrame geoPandas\n",
    "geo_df = gpd.GeoDataFrame(df, crs=crs, geometry = geometry)"
   ]
  },
  {
   "cell_type": "code",
   "execution_count": null,
   "id": "1a6d879e",
   "metadata": {
    "scrolled": false
   },
   "outputs": [],
   "source": [
    "# Grafico de long/lat vs price\n",
    "fig,ax = plt.subplots(figsize=(10,10))\n",
    "\n",
    "street_map.plot(ax=ax, alpha=0.4,color='grey') \n",
    "geo_df.plot(column='price',ax=ax, alpha=1,legend=True,markersize=10)\n",
    "\n",
    "plt.title('Precio de las viviendas en WA', fontsize=15)\n",
    "plt.xlim(-122.6,-121.0)\n",
    "plt.ylim(47.1,47.8)\n",
    "\n",
    "plt.show()"
   ]
  },
  {
   "cell_type": "markdown",
   "id": "ce438978",
   "metadata": {},
   "source": [
    "Podemos observar que las viviendas situadas al norte tienen un mayor precio."
   ]
  },
  {
   "cell_type": "markdown",
   "id": "a4b1e25a",
   "metadata": {},
   "source": [
    "## Análisis de correlaciones"
   ]
  },
  {
   "cell_type": "markdown",
   "id": "2447a4d0",
   "metadata": {},
   "source": [
    "Para finalizar, estudiamos las correlaciones entre las variables. Así, podemos decidir qué variables usar para el modelo y estudiar posibles relaciones existentes entre ellas."
   ]
  },
  {
   "cell_type": "code",
   "execution_count": null,
   "id": "97a76304",
   "metadata": {
    "scrolled": false
   },
   "outputs": [],
   "source": [
    "plt.figure(figsize=(20,10))\n",
    "correlaciones= df.corr()\n",
    "sns.heatmap(correlaciones,cmap=\"GnBu\",annot=True) \n",
    "correlaciones"
   ]
  },
  {
   "cell_type": "markdown",
   "id": "4b2d893f",
   "metadata": {},
   "source": [
    "Así, seleccionamos las siguientes variables para el modelo:\n",
    "Las variables de modelización:\n",
    "* _bedrooms_ \n",
    "* _bathrooms_ \n",
    "* _sqft_living_\n",
    "* _sqft_lot_\n",
    "* _view_\n",
    "* _condition_\n",
    "* _grade_\n",
    "* _lat_\n",
    "* _long_\n",
    "\n",
    "Además, podemos considerar crear dos variables. Por un lado, *bed&bath*, que incluya en una única variable el número de baños y habitaciones de la casa (pues tienen una alta correlación). Por otro lado, podría ser más interesante trabajar con una variable que definimos como *total_yrs* = *current_year* (2023) - *yr_built*\n",
    "\n",
    "Y la varibale de etiqueta:\n",
    "* _logPrice_"
   ]
  },
  {
   "cell_type": "markdown",
   "id": "ebcde6d4",
   "metadata": {},
   "source": [
    "Así, nos queda el siguiente DataFrame"
   ]
  },
  {
   "cell_type": "code",
   "execution_count": null,
   "id": "9ea43860",
   "metadata": {},
   "outputs": [],
   "source": [
    "# Creamos las nuevas variables\n",
    "bed_and_bath = df['bedrooms'] + df['bathrooms']\n",
    "total_yrs = 2023 - df['yr_built']"
   ]
  },
  {
   "cell_type": "code",
   "execution_count": null,
   "id": "f0875e06",
   "metadata": {
    "scrolled": true
   },
   "outputs": [],
   "source": [
    "# DataFrame final \n",
    "df = df.drop(columns=['date','bedrooms','bathrooms','floors','waterfront','grade','sqft_above','sqft_basement','yr_built','zipcode','sqft_living15','sqft_lot15','geometry'], axis = 1)\n",
    "df['bed_and_bath'] = bed_and_bath\n",
    "df['total_yrs'] = total_yrs\n",
    "df.head()"
   ]
  },
  {
   "cell_type": "markdown",
   "id": "24209aea",
   "metadata": {},
   "source": [
    "# 2. División de los datos"
   ]
  },
  {
   "cell_type": "code",
   "execution_count": null,
   "id": "52360406",
   "metadata": {},
   "outputs": [],
   "source": [
    "# Paquetes y liberias\n",
    "from sklearn.preprocessing import StandardScaler\n",
    "from sklearn.model_selection import train_test_split"
   ]
  },
  {
   "cell_type": "markdown",
   "id": "c43898cf",
   "metadata": {},
   "source": [
    "En primer lugar, creamos la matriz de observaciones y el vector etiqueta con los que trabajaremos para ajustar el modelo de regresión lineal."
   ]
  },
  {
   "cell_type": "code",
   "execution_count": null,
   "id": "6edbe087",
   "metadata": {},
   "outputs": [],
   "source": [
    "# Vector etiqueta\n",
    "y = df['price']\n",
    "\n",
    "# Matriz de observaciones\n",
    "X = df.drop('price',axis=1)"
   ]
  },
  {
   "cell_type": "code",
   "execution_count": null,
   "id": "254b1fa4",
   "metadata": {
    "scrolled": false
   },
   "outputs": [],
   "source": [
    "# Variables dummy para view y condition (son categoricas)\n",
    "X = pd.get_dummies(X, columns=['view', 'condition'], drop_first=True)"
   ]
  },
  {
   "cell_type": "code",
   "execution_count": null,
   "id": "ceb4eb4b",
   "metadata": {},
   "outputs": [],
   "source": [
    "# Estandarizamos los datos\n",
    "objeto = StandardScaler()\n",
    "X_ss = pd.DataFrame(objeto.fit_transform(X.iloc[:,0:6]), columns=list(X.iloc[:,0:6].columns))\n",
    "# Concatenamos los datos\n",
    "X = pd.concat([X_ss, X.loc[:,'view_1':'condition_5'].reset_index()], axis=1)\n",
    "X.head(5)"
   ]
  },
  {
   "cell_type": "markdown",
   "id": "ea9e2160",
   "metadata": {},
   "source": [
    "Para ajustar los distintos modelos tenemos 2 opciones:\n",
    "1. Plantear un problema de regresión donde la variable *y* es de tipo continuo\n",
    "2. Plantear un problema de clasificación donde agrupamos en diferentes cluster los valores de la variable *y*"
   ]
  },
  {
   "cell_type": "code",
   "execution_count": null,
   "id": "40242720",
   "metadata": {
    "scrolled": false
   },
   "outputs": [],
   "source": [
    "# Realizamos un describe para saber como separar los datos\n",
    "y.describe()"
   ]
  },
  {
   "cell_type": "code",
   "execution_count": null,
   "id": "6ec0867b",
   "metadata": {
    "scrolled": true
   },
   "outputs": [],
   "source": [
    "# Problema de clasificacion\n",
    "y_clas = pd.qcut(y, 3, labels=False)\n",
    "\n",
    "# Hallamos los rangos de valores para las diferentes categorias\n",
    "quantiles = pd.qcut(y, 3).unique().sort_values()\n",
    "print(quantiles)"
   ]
  },
  {
   "cell_type": "markdown",
   "id": "b9572789",
   "metadata": {},
   "source": [
    "Donde las clases serían:\n",
    "$0:\\text{Barato} \\in (11.224, 12.78]$;\n",
    "$1:\\text{Medio} \\in (12.78, 13.218]$;\n",
    "$2:\\text{Caro} \\in (13.218, 14.897]$"
   ]
  },
  {
   "cell_type": "markdown",
   "id": "d8ce272e",
   "metadata": {},
   "source": [
    "Separamos los datos en train y test"
   ]
  },
  {
   "cell_type": "code",
   "execution_count": null,
   "id": "eff933ce",
   "metadata": {
    "scrolled": true
   },
   "outputs": [],
   "source": [
    "X_train, X_test, y_train, y_test, y_train_clas, y_test_clas = train_test_split(X, y, y_clas, test_size=0.3, random_state=0)"
   ]
  },
  {
   "cell_type": "code",
   "execution_count": null,
   "id": "e019fe4c",
   "metadata": {},
   "outputs": [],
   "source": [
    "# Librerias\n",
    "import os\n",
    "\n",
    "# Carpeta con datos\n",
    "if not os.path.exists('Datos'):\n",
    "    os.makedirs('Datos')\n",
    "    \n",
    "# Guardamos los datos\n",
    "X_train.to_csv('Datos/X_train.csv', index=False)\n",
    "X_test.to_csv('Datos/X_test.csv', index=False)\n",
    "y_train.to_csv('Datos/y_train.csv', index=False)\n",
    "y_test.to_csv('Datos/y_test.csv', index=False)\n",
    "y_train_clas.to_csv('Datos/y_train_clas.csv', index=False)\n",
    "y_test_clas.to_csv('Datos/y_test_clas.csv', index=False)"
   ]
  }
 ],
 "metadata": {
  "kernelspec": {
   "display_name": "Python 3 (ipykernel)",
   "language": "python",
   "name": "python3"
  },
  "language_info": {
   "codemirror_mode": {
    "name": "ipython",
    "version": 3
   },
   "file_extension": ".py",
   "mimetype": "text/x-python",
   "name": "python",
   "nbconvert_exporter": "python",
   "pygments_lexer": "ipython3",
   "version": "3.9.12"
  }
 },
 "nbformat": 4,
 "nbformat_minor": 5
}
