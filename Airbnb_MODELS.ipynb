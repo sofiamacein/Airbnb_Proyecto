{
 "cells": [
  {
   "cell_type": "markdown",
   "id": "d7419b51",
   "metadata": {},
   "source": [
    "<h1><center>Práctica Aprendizaje Supervisado: Modelos.</center></h1>"
   ]
  },
  {
   "cell_type": "markdown",
   "id": "807a66b7",
   "metadata": {},
   "source": [
    "# 0. Librerías"
   ]
  },
  {
   "cell_type": "code",
   "execution_count": 1,
   "id": "32dcaecc",
   "metadata": {},
   "outputs": [],
   "source": [
    "# Paquetes y librerias\n",
    "import numpy as np\n",
    "import pandas as pd\n",
    "\n",
    "import seaborn as sns\n",
    "import matplotlib.pyplot as plt  \n",
    "\n",
    "%matplotlib inline"
   ]
  },
  {
   "cell_type": "code",
   "execution_count": 2,
   "id": "cae36579",
   "metadata": {},
   "outputs": [],
   "source": [
    "import warnings\n",
    "warnings.filterwarnings('ignore')"
   ]
  },
  {
   "cell_type": "markdown",
   "id": "ff17f242",
   "metadata": {},
   "source": [
    "En primer lugar, obtenemos los datos del análsis exploratorio hecho previamente ya habiendo separado en datos de entrenamiento y datos de test"
   ]
  },
  {
   "cell_type": "code",
   "execution_count": 3,
   "id": "884f0d8f",
   "metadata": {},
   "outputs": [],
   "source": [
    "# Guardamos los datos\n",
    "X_train = pd.read_csv('./Datos/X_train.csv')\n",
    "X_train = X_train.set_index('id')\n",
    "X_test = pd.read_csv('./Datos/X_test.csv')\n",
    "X_test = X_test.set_index('id')\n",
    "y_train = pd.read_csv('./Datos/y_train.csv')\n",
    "y_test = pd.read_csv('./Datos/y_test.csv')"
   ]
  },
  {
   "cell_type": "markdown",
   "id": "e6606521",
   "metadata": {},
   "source": [
    "# 3. Modelos"
   ]
  },
  {
   "cell_type": "markdown",
   "id": "b9d639a9",
   "metadata": {},
   "source": [
    "Para evaluar los distintos modelos vamos a tener en cuenta que:"
   ]
  },
  {
   "cell_type": "markdown",
   "id": "99609565",
   "metadata": {},
   "source": [
    "Para un problema de **regresión** utilizamos las medidas:\n",
    "\n",
    "Sobre otro conjunto de evaluación $\\mathcal{D_{te}}$, podemos evaluar la calidad de las predicciones. Como $y$ es una variable continua ahora, no tiene sentido utilizar la tasa de aciertos o accuracy. Las más comunes son \n",
    "\n",
    "* Error cuadrático medio $\\text{MSE}(y, \\hat{y}) = \\frac{1}{n_\\text{samples}} \\sum_{i=0}^{n_\\text{samples} - 1} (y_i - \\hat{y}_i)^2$\n",
    "\n",
    "* Coeficiente de determinación $R^2(y, \\hat{y}) = 1 - \\frac{\\sum_{i=1}^{n} (y_i - \\hat{y}_i)^2}{\\sum_{i=1}^{n} (y_i - \\bar{y})^2}$"
   ]
  },
  {
   "cell_type": "code",
   "execution_count": 4,
   "id": "6fd51ace",
   "metadata": {},
   "outputs": [],
   "source": [
    "# Librerias para metricas de regresion\n",
    "from sklearn.metrics import mean_squared_error, r2_score"
   ]
  },
  {
   "cell_type": "markdown",
   "id": "c7f7da7f",
   "metadata": {},
   "source": [
    "Así, para realizar la comparación entre los modelos vamos a guardar las métricas de cada uno en los diccionarios:"
   ]
  },
  {
   "cell_type": "code",
   "execution_count": 5,
   "id": "1db7ee7d",
   "metadata": {},
   "outputs": [],
   "source": [
    "rmse = {}\n",
    "r2 = {}"
   ]
  },
  {
   "cell_type": "markdown",
   "id": "8dbf5f4a",
   "metadata": {},
   "source": [
    "También tendremos en cuenta la matriz de confusión para estos modelos. Para ello, agruparemos las predicciones en las diferentes categorias"
   ]
  },
  {
   "cell_type": "code",
   "execution_count": 6,
   "id": "1f63b3fd",
   "metadata": {},
   "outputs": [],
   "source": [
    "from sklearn.metrics import accuracy_score, precision_score, recall_score, f1_score, classification_report, confusion_matrix, ConfusionMatrixDisplay"
   ]
  },
  {
   "cell_type": "code",
   "execution_count": 7,
   "id": "e497ca7c",
   "metadata": {},
   "outputs": [],
   "source": [
    "mc = {}"
   ]
  },
  {
   "cell_type": "markdown",
   "id": "d5e1b33e",
   "metadata": {},
   "source": [
    "## 3.1 Regresión lineal"
   ]
  },
  {
   "cell_type": "markdown",
   "id": "96fea219",
   "metadata": {},
   "source": [
    "El modelo de regresión lineal tiene la siguiente forma parámetrica:\n",
    "\n",
    "$$\n",
    "\\hat{y} = \\beta_0 + \\beta_1 x_1 \\ldots + \\beta_p x_p \n",
    "$$\n",
    "\n",
    "donde $\\hat{y} \\in \\mathbb{R}$ es la variable a predecir y los datos tienen $p$ columnas, $x \\in \\mathbb{R}^p$. \n",
    "\n",
    "Asumiendo un conjunto de datos de entrenamiento, $\\mathcal{D_{tr}} = \\lbrace (x, y) \\rbrace$, los parámetros $\\beta, \\beta_0$ se pueden ajustar resolviendo el siguiente problema de optimización (mínimos cuadrados):\n",
    "\n",
    "$$\n",
    "\\min_{\\beta, \\beta_0} \\sum_{x \\in \\mathcal{D_{tr}}} (\\hat{y} - y )^2 = \\min_{\\beta, \\beta_0} \\sum_{x \\in \\mathcal{D_{tr}}} (\\beta^\\intercal x + \\beta_0 - y )^2\n",
    "$$"
   ]
  },
  {
   "cell_type": "code",
   "execution_count": 8,
   "id": "6c7b6503",
   "metadata": {},
   "outputs": [],
   "source": [
    "# Librerias\n",
    "from sklearn.linear_model import LinearRegression"
   ]
  },
  {
   "cell_type": "markdown",
   "id": "11d7c736",
   "metadata": {},
   "source": [
    "Ajustamos el modelo de regresión lineal"
   ]
  },
  {
   "cell_type": "code",
   "execution_count": 9,
   "id": "b49931c8",
   "metadata": {},
   "outputs": [],
   "source": [
    "# Ajustamos el modelo de regresion lineal \n",
    "reg = LinearRegression()\n",
    "reg.fit(X_train, y_train)\n",
    "\n",
    "# Predicciones\n",
    "y_pred = reg.predict(X_test)"
   ]
  },
  {
   "cell_type": "markdown",
   "id": "9d529d32",
   "metadata": {},
   "source": [
    "En primer lugar, vemos los coeficientes del modelo. A partir de estos coeficientes, podemos determinar qué características son más relevantes a la hora de predecir el precio de las casas."
   ]
  },
  {
   "cell_type": "code",
   "execution_count": 10,
   "id": "72e3adac",
   "metadata": {
    "scrolled": true
   },
   "outputs": [
    {
     "name": "stdout",
     "output_type": "stream",
     "text": [
      "Término independiente: \n",
      " [4.52062078]\n",
      "Coeficientes: \n",
      " [[ 0.1028537  -0.1264979   0.30809947  0.06622673  0.01805658  0.01287365\n",
      "   0.01214515  0.42168072  0.04143531]]\n"
     ]
    }
   ],
   "source": [
    "print('Término independiente: \\n', reg.intercept_)\n",
    "print('Coeficientes: \\n', reg.coef_)"
   ]
  },
  {
   "cell_type": "markdown",
   "id": "ddcb839a",
   "metadata": {},
   "source": [
    "Como se trata de un modelo de regresión podemos validarlo con los residuos, junto con las correspondientes métricas.\n",
    "\n",
    "Primero, estudiamos los residuos del modelo para comprobar las hipótesis de normalidad, indepedendencia y homocedasticidad.\n",
    "Este estudio lo comprobaremos una única vez. "
   ]
  },
  {
   "cell_type": "code",
   "execution_count": 11,
   "id": "0f0859e8",
   "metadata": {},
   "outputs": [],
   "source": [
    "# Paquetes\n",
    "import scipy.stats as stats\n",
    "import statsmodels.api as sm"
   ]
  },
  {
   "cell_type": "code",
   "execution_count": 12,
   "id": "62737372",
   "metadata": {},
   "outputs": [
    {
     "data": {
      "image/png": "[encoded data removed]",
      "text/plain": [
       "<Figure size 720x360 with 2 Axes>"
      ]
     },
     "metadata": {
      "needs_background": "light"
     },
     "output_type": "display_data"
    }
   ],
   "source": [
    "# Residuos\n",
    "res = y_test - y_pred\n",
    "\n",
    "# Graficos\n",
    "fig, axs = plt.subplots(1, 2, figsize=(10, 5))\n",
    "\n",
    "axs[0].scatter(y_pred,res, alpha = 0.3, color='blue') # Res vs fitt\n",
    "axs[0].axhline(y=0, color='r', linestyle='--')\n",
    "axs[1].hist(res, bins=30, alpha = 0.6, color='blue') # Histograma de los residuos\n",
    "\n",
    "plt.show()"
   ]
  },
  {
   "cell_type": "markdown",
   "id": "d759211c",
   "metadata": {},
   "source": [
    "En segundo lugar, calculamos las métricas y vemos el ajuste del modelo."
   ]
  },
  {
   "cell_type": "code",
   "execution_count": 13,
   "id": "b3969842",
   "metadata": {},
   "outputs": [
    {
     "name": "stdout",
     "output_type": "stream",
     "text": [
      "Root Mean squared error: 0.46\n",
      "Variance score: 0.52\n"
     ]
    }
   ],
   "source": [
    "# Metricas para test\n",
    "rmse_lr = np.sqrt(mean_squared_error(y_test, y_pred))\n",
    "r2_lr  = r2_score(y_test, y_pred)\n",
    "# Error Cuadrado Medio\n",
    "print(\"Root Mean squared error: %.2f\" % rmse_lr)\n",
    "# Puntaje de Varianza. El mejor puntaje es un 1.0\n",
    "print('Variance score: %.2f' % r2_lr)"
   ]
  },
  {
   "cell_type": "markdown",
   "id": "b7e1a07f",
   "metadata": {},
   "source": [
    "Por último, almacenamos los datos para la comparativa final"
   ]
  },
  {
   "cell_type": "code",
   "execution_count": 14,
   "id": "960cece6",
   "metadata": {
    "scrolled": true
   },
   "outputs": [],
   "source": [
    "# Almacenamos los datos\n",
    "rmse['LR'] = rmse_lr\n",
    "r2['LR'] = r2_lr"
   ]
  },
  {
   "cell_type": "markdown",
   "id": "1b500813",
   "metadata": {},
   "source": [
    "Como ya comentamos, podemos estudiar la matriz de confusión para así poder comparar todos lo métodos. Para ello, clasificamos las predicciones hechas por el modelo de regresión lineal en las tres categoricas y comparamos con los datos de *y_test_clas*."
   ]
  },
  {
   "cell_type": "code",
   "execution_count": 15,
   "id": "4b865a64",
   "metadata": {},
   "outputs": [
    {
     "name": "stdout",
     "output_type": "stream",
     "text": [
      "[(2.638, 4.511], (4.511, 5.011], (5.011, 7.955]]\n",
      "Categories (3, interval[float64, right]): [(2.638, 4.511] < (4.511, 5.011] < (5.011, 7.955]]\n"
     ]
    }
   ],
   "source": [
    "# Rangos \n",
    "y = pd.concat([y_train,y_test],axis = 0)\n",
    "y = y.values.flatten()\n",
    "\n",
    "# Problema de clasificacion\n",
    "y_clas = pd.qcut(y, 3, labels=False)\n",
    "\n",
    "# Hallamos los rangos de valores para las diferentes categorias\n",
    "quantiles = pd.qcut(y, 3).unique().sort_values()\n",
    "print(quantiles)"
   ]
  },
  {
   "cell_type": "code",
   "execution_count": 16,
   "id": "3458b870",
   "metadata": {},
   "outputs": [],
   "source": [
    "# Convertimos el vector y_test e y_pred a clasificacion\n",
    "bins = [2.638, 4.511, 5.011, 7.955]\n",
    "y_test_clas = pd.qcut(y_test.values.flatten(), 3, labels=False)"
   ]
  },
  {
   "cell_type": "code",
   "execution_count": 17,
   "id": "baf1655e",
   "metadata": {
    "scrolled": false
   },
   "outputs": [
    {
     "data": {
      "image/png": "[encoded data removed]",
      "text/plain": [
       "<Figure size 432x288 with 2 Axes>"
      ]
     },
     "metadata": {
      "needs_background": "light"
     },
     "output_type": "display_data"
    }
   ],
   "source": [
    "# Matriz de confusion\n",
    "y_pred_clas = y_pred = pd.cut(y_pred.flatten(), bins=bins, labels=False)\n",
    "\n",
    "mc_lr = confusion_matrix(y_test_clas, y_pred)\n",
    "ConfusionMatrixDisplay(confusion_matrix=mc_lr).plot();\n",
    "\n",
    "# Almacenamos los datos\n",
    "mc['LR'] = mc_lr"
   ]
  },
  {
   "cell_type": "markdown",
   "id": "5512f5d2",
   "metadata": {},
   "source": [
    "## 3.2 K-NN"
   ]
  },
  {
   "cell_type": "markdown",
   "id": "18f5e62f",
   "metadata": {},
   "source": [
    "El algoritmo de los k vecinos más cercanos es un algoritmo de aprendizaje supervisado usado tanto en problemas de regresión como en problemas de clasificación. Es un método no paramétrico que asume que existen similaridades en la proximidad sin necesidad de que los datos respondan a una linealidad. \n",
    "\n",
    "El algoritmo calcula las distancias entre los datos de test y todos los puntos de los datos de entrenamiento, escogiendo un número $k$ de distancias mínimas. Para realizar la predicción se realiza un promedio de los valores dependientes."
   ]
  },
  {
   "cell_type": "markdown",
   "id": "8666d28f",
   "metadata": {},
   "source": [
    "**Regresión**"
   ]
  },
  {
   "cell_type": "markdown",
   "id": "9137364d",
   "metadata": {},
   "source": [
    "En primer lugar, queremos encontrar el número de vecinos óptimo. Para ello, creamos una rejilla con diferentes valores de $k$ , que iremos recorriendo, y almacenando sus correspondientes métricas al ajustar el modelo. Así, tomaremos aquel $k$ que aporte un mejor valor para las métricas."
   ]
  },
  {
   "cell_type": "code",
   "execution_count": 18,
   "id": "2ed6f515",
   "metadata": {},
   "outputs": [],
   "source": [
    "# Librerias\n",
    "from sklearn.neighbors import KNeighborsRegressor"
   ]
  },
  {
   "cell_type": "code",
   "execution_count": 19,
   "id": "c9dab0b8",
   "metadata": {},
   "outputs": [
    {
     "name": "stdout",
     "output_type": "stream",
     "text": [
      "Mejor hiperparámtero RMSE: 17\n",
      "Mejor hiperparámetro R2: 17\n"
     ]
    }
   ],
   "source": [
    "ks = list(range(1,21))\n",
    "\n",
    "# En este diccionario iremos guardando las metricas sobre test asociadas a cada valor de $k$\n",
    "rmses = {}\n",
    "r2s = {}\n",
    "\n",
    "# Vamos recorriendo la rejilla con un bucle for\n",
    "for k in ks:\n",
    "    \n",
    "    # Definimos el modelo con el valor de hiperparametro correspondiente\n",
    "    knn = KNeighborsRegressor(n_neighbors=k)\n",
    "    \n",
    "    # Ajustamos a los datos de entrenamiento\n",
    "    knn.fit(X_train, y_train)\n",
    "    \n",
    "    # Hacemos predicciones sobre los datos de test\n",
    "    y_pred = knn.predict(X_test)\n",
    "    \n",
    "    # Evaluamos y guardamos la metrica correspondiente \n",
    "    rmse_m = np.sqrt(mean_squared_error(y_test, y_pred))\n",
    "    r2_m  = r2_score(y_test, y_pred)\n",
    "    rmses[k] = rmse_m\n",
    "    r2s[k] = r2_m\n",
    "\n",
    "min_rmses = min(rmses,key=rmses.get)\n",
    "max_r2s = max(r2s, key=r2s.get)\n",
    "    \n",
    "print(\"Mejor hiperparámtero RMSE:\", min_rmses)\n",
    "print(\"Mejor hiperparámetro R2:\", max_r2s)"
   ]
  },
  {
   "cell_type": "markdown",
   "id": "1a216555",
   "metadata": {},
   "source": [
    "Mediante los gráficos de codo, podemos decidir el número $k$ de vecinos óptimo para el problema."
   ]
  },
  {
   "cell_type": "code",
   "execution_count": 22,
   "id": "c51dcad9",
   "metadata": {
    "scrolled": true
   },
   "outputs": [
    {
     "data": {
      "image/png": "[encoded data removed]",
      "text/plain": [
       "<Figure size 432x288 with 1 Axes>"
      ]
     },
     "metadata": {
      "needs_background": "light"
     },
     "output_type": "display_data"
    }
   ],
   "source": [
    "# Error cuadratico medio para el test\n",
    "ks_arr = np.fromiter(rmses.keys(), dtype=int)\n",
    "rmses_arr = np.fromiter(rmses.values(), dtype=float)\n",
    "\n",
    "plt.plot(ks_arr, rmses_arr, 'ok')\n",
    "plt.grid(True)\n",
    "plt.xlabel('Hiperparámetro $k$');\n",
    "plt.ylabel('MSE para el test');"
   ]
  },
  {
   "cell_type": "code",
   "execution_count": 23,
   "id": "f3318428",
   "metadata": {
    "scrolled": true
   },
   "outputs": [
    {
     "data": {
      "image/png": "[encoded data removed]",
      "text/plain": [
       "<Figure size 432x288 with 1 Axes>"
      ]
     },
     "metadata": {
      "needs_background": "light"
     },
     "output_type": "display_data"
    }
   ],
   "source": [
    "# R2 para el test\n",
    "ks_arr = np.fromiter(r2s.keys(), dtype=int)\n",
    "r2s_arr = np.fromiter(r2s.values(), dtype=float)\n",
    "\n",
    "plt.plot(ks_arr, r2s_arr, 'ok')\n",
    "plt.grid(True)\n",
    "plt.xlabel('Hiperparámetro $k$');\n",
    "plt.ylabel('R^2 para el test');"
   ]
  },
  {
   "cell_type": "markdown",
   "id": "ae471c54",
   "metadata": {},
   "source": [
    "Así, decidimos ajustar el modelo con $k=5$ vecinos"
   ]
  },
  {
   "cell_type": "code",
   "execution_count": 24,
   "id": "3446ebbe",
   "metadata": {},
   "outputs": [],
   "source": [
    "# Definimos el modelo con el valor de hiperparametro correspondiente\n",
    "knn = KNeighborsRegressor(n_neighbors=5)\n",
    "    \n",
    "# Ajustamos a los datos de entrenamiento\n",
    "knn.fit(X_train, y_train)\n",
    "    \n",
    "# Hacemos predicciones sobre los datos de test\n",
    "y_pred = knn.predict(X_test)"
   ]
  },
  {
   "cell_type": "markdown",
   "id": "5ed5c624",
   "metadata": {},
   "source": [
    "Calculamos las medidas de error y ajuste del modelo"
   ]
  },
  {
   "cell_type": "code",
   "execution_count": 25,
   "id": "a81570cd",
   "metadata": {},
   "outputs": [
    {
     "name": "stdout",
     "output_type": "stream",
     "text": [
      "Root Mean squared error: 0.44\n",
      "Variance score: 0.57\n"
     ]
    }
   ],
   "source": [
    "# Medidas de error para test\n",
    "rmse_knn = np.sqrt(mean_squared_error(y_test, y_pred))\n",
    "r2_knn  = r2_score(y_test, y_pred)\n",
    "# Error Cuadrado Medio\n",
    "print(\"Root Mean squared error: %.2f\" % rmse_knn)\n",
    "# Puntaje de Varianza. El mejor puntaje es un 1.0\n",
    "print('Variance score: %.2f' % r2_knn)"
   ]
  },
  {
   "cell_type": "code",
   "execution_count": 26,
   "id": "cf20d3cd",
   "metadata": {},
   "outputs": [],
   "source": [
    "# Almacenamos los datos\n",
    "rmse['KNN'] = rmse_knn\n",
    "r2['KNN'] = r2_knn"
   ]
  },
  {
   "cell_type": "markdown",
   "id": "9ffba9f8",
   "metadata": {},
   "source": [
    "Nuevamente, aun tratándose de un problema de regresión, hallamos la matriz de confusión conviertiendo las predicciones con su correspondiente clasificación"
   ]
  },
  {
   "cell_type": "code",
   "execution_count": 27,
   "id": "39e5b356",
   "metadata": {
    "scrolled": true
   },
   "outputs": [
    {
     "data": {
      "image/png": "[encoded data removed]",
      "text/plain": [
       "<Figure size 432x288 with 2 Axes>"
      ]
     },
     "metadata": {
      "needs_background": "light"
     },
     "output_type": "display_data"
    }
   ],
   "source": [
    "# Matriz de confusion para KNN Regressor\n",
    "y_pred = pd.cut(y_pred.flatten(), bins=bins, labels=False)\n",
    "\n",
    "mc_knn_reg = confusion_matrix(y_test_clas, y_pred)\n",
    "ConfusionMatrixDisplay(confusion_matrix=mc_knn_reg).plot();\n",
    "\n",
    "# Almacenamos los datos\n",
    "mc['knn_reg'] = mc_knn_reg"
   ]
  },
  {
   "cell_type": "markdown",
   "id": "70d16e0c",
   "metadata": {},
   "source": [
    "## 3.3 Árbol de decisión simple"
   ]
  },
  {
   "cell_type": "markdown",
   "id": "821fe3f6",
   "metadata": {},
   "source": [
    "Un árbol de decisión es un modelo de aprendizaje automático que se utiliza para predecir una variable objetivo a partir de un conjunto de variables de entrada. El árbol se divide en ramas que representan decisiones basadas en las variables de entrada, y las hojas del árbol representan la predicción final para la variable objetivo.\n",
    "\n",
    "Cada nodo en el árbol corresponde a una pregunta sobre una de las variables de entrada y la respuesta a esa pregunta determina en qué rama del árbol continuar."
   ]
  },
  {
   "cell_type": "markdown",
   "id": "9866425f",
   "metadata": {},
   "source": [
    "**Regresión**"
   ]
  },
  {
   "cell_type": "code",
   "execution_count": 28,
   "id": "1a8b7d37",
   "metadata": {},
   "outputs": [],
   "source": [
    "# Librerias\n",
    "from sklearn.tree import DecisionTreeRegressor"
   ]
  },
  {
   "cell_type": "markdown",
   "id": "dee53f57",
   "metadata": {},
   "source": [
    "Ajustamos el modelo"
   ]
  },
  {
   "cell_type": "code",
   "execution_count": 29,
   "id": "bb09fe07",
   "metadata": {},
   "outputs": [],
   "source": [
    "# Definimos el modelo\n",
    "tree_regressor = DecisionTreeRegressor()\n",
    "\n",
    "# Ajustamos el modelo\n",
    "tree_regressor.fit(X_train, y_train)\n",
    "\n",
    "# Realizamos predicciones sobre test\n",
    "y_pred = tree_regressor.predict(X_test)"
   ]
  },
  {
   "cell_type": "markdown",
   "id": "1d6c2776",
   "metadata": {},
   "source": [
    "Hallamos las métricas para el conjunto de test"
   ]
  },
  {
   "cell_type": "code",
   "execution_count": 30,
   "id": "964cc4f1",
   "metadata": {
    "scrolled": true
   },
   "outputs": [
    {
     "name": "stdout",
     "output_type": "stream",
     "text": [
      "Root Mean squared error: 0.54\n",
      "Variance score: 0.33\n"
     ]
    }
   ],
   "source": [
    "# Medidas de error para el test\n",
    "rmse_tree_reg = np.sqrt(mean_squared_error(y_test, y_pred))\n",
    "r2_tree_reg  = r2_score(y_test, y_pred)\n",
    "# Error Cuadrado Medio\n",
    "print(\"Root Mean squared error: %.2f\" % rmse_tree_reg)\n",
    "# Puntaje de Varianza\n",
    "print('Variance score: %.2f' % r2_tree_reg)"
   ]
  },
  {
   "cell_type": "code",
   "execution_count": 31,
   "id": "14684da5",
   "metadata": {},
   "outputs": [],
   "source": [
    "# Almacenamos los datos\n",
    "rmse['Arbol'] = rmse_tree_reg\n",
    "r2['Arbol'] = r2_tree_reg"
   ]
  },
  {
   "cell_type": "code",
   "execution_count": 32,
   "id": "cf6425a8",
   "metadata": {
    "scrolled": false
   },
   "outputs": [
    {
     "data": {
      "image/png": "[encoded data removed]",
      "text/plain": [
       "<Figure size 432x288 with 2 Axes>"
      ]
     },
     "metadata": {
      "needs_background": "light"
     },
     "output_type": "display_data"
    }
   ],
   "source": [
    "# Matriz de confusion para Tree Regressor\n",
    "y_pred = pd.cut(y_pred.flatten(), bins=bins, labels=False)\n",
    "\n",
    "mc_tree_reg = confusion_matrix(y_test_clas, y_pred)\n",
    "ConfusionMatrixDisplay(confusion_matrix=mc_tree_reg).plot();\n",
    "\n",
    "# Almacenamos los datos\n",
    "mc['Arbol_reg'] = mc_tree_reg"
   ]
  },
  {
   "cell_type": "markdown",
   "id": "f3856964",
   "metadata": {},
   "source": [
    "## 3.4 Bagging"
   ]
  },
  {
   "cell_type": "markdown",
   "id": "8885e091",
   "metadata": {},
   "source": [
    "Los algoritmos de bagging son algoritmos de ensemble que tiene como objetivo reducir la varianza de cada uno de los algoritmos individuales agregando diferentes algoritmos y sus respectivas predicciones.\n",
    "\n",
    "Así, los algoritmos de bagging crean diferentes muestras boostrap con remplazaiento del conjunto de datos de entrenamiento, y cada método individual es entrenado en una de las diferentes remuestras creadas.\n",
    "\n",
    "Aunque se puede crear un propio algoritmo de ensemble, normalmente se suelen utilizar árboles de decisión. "
   ]
  },
  {
   "cell_type": "markdown",
   "id": "073dc6fc",
   "metadata": {},
   "source": [
    "**Regresión**"
   ]
  },
  {
   "cell_type": "code",
   "execution_count": 33,
   "id": "69acfbfc",
   "metadata": {},
   "outputs": [],
   "source": [
    "# Librerias \n",
    "from sklearn.ensemble import BaggingRegressor"
   ]
  },
  {
   "cell_type": "markdown",
   "id": "fb335407",
   "metadata": {},
   "source": [
    "En primer lugar, ajustamos el modelo tomando como modelos individuales 10 árboles regresores."
   ]
  },
  {
   "cell_type": "code",
   "execution_count": 34,
   "id": "c80736ad",
   "metadata": {},
   "outputs": [],
   "source": [
    "# Ajustamos el modelo\n",
    "bagg_reg = BaggingRegressor(base_estimator=DecisionTreeRegressor(),\n",
    "                        n_estimators=10, random_state=0).fit(X_train, y_train)\n",
    "# Hacemos predicciones\n",
    "y_pred = bagg_reg.predict(X_test)"
   ]
  },
  {
   "cell_type": "markdown",
   "id": "87900d38",
   "metadata": {},
   "source": [
    "Calculamos las métricas y el ajuste del modelo"
   ]
  },
  {
   "cell_type": "code",
   "execution_count": 35,
   "id": "cd910585",
   "metadata": {},
   "outputs": [
    {
     "name": "stdout",
     "output_type": "stream",
     "text": [
      "Root Mean squared error: 0.42\n",
      "Variance score: 0.59\n"
     ]
    }
   ],
   "source": [
    "# Medidas de error\n",
    "rmse_bagg = np.sqrt(mean_squared_error(y_test, y_pred))\n",
    "r2_bagg  = r2_score(y_test, y_pred)\n",
    "# Error Cuadrado Medio\n",
    "print(\"Root Mean squared error: %.2f\" % rmse_bagg)\n",
    "# Puntaje de Varianza\n",
    "print('Variance score: %.2f' % r2_bagg)"
   ]
  },
  {
   "cell_type": "markdown",
   "id": "3026136e",
   "metadata": {},
   "source": [
    "Almacenamos las métricas correspondientes"
   ]
  },
  {
   "cell_type": "code",
   "execution_count": 36,
   "id": "3cb9c9ba",
   "metadata": {},
   "outputs": [],
   "source": [
    "# Almacenamos los datos\n",
    "rmse['Bagg_Reg'] = rmse_bagg\n",
    "r2['Bagg_Reg'] = r2_bagg"
   ]
  },
  {
   "cell_type": "code",
   "execution_count": 37,
   "id": "dc1a0c4d",
   "metadata": {},
   "outputs": [
    {
     "data": {
      "image/png": "[encoded data removed]",
      "text/plain": [
       "<Figure size 432x288 with 2 Axes>"
      ]
     },
     "metadata": {
      "needs_background": "light"
     },
     "output_type": "display_data"
    }
   ],
   "source": [
    "# Matriz de confusion para Bagging Regressor\n",
    "y_pred = pd.cut(y_pred.flatten(), bins=bins, labels=False)\n",
    "\n",
    "mc_bagg_reg = confusion_matrix(y_test_clas, y_pred)\n",
    "ConfusionMatrixDisplay(confusion_matrix=mc_bagg_reg).plot();\n",
    "\n",
    "# Almacenamos los datos\n",
    "mc['Bagg_Reg'] = mc_bagg_reg"
   ]
  },
  {
   "cell_type": "markdown",
   "id": "3aba6bc3",
   "metadata": {},
   "source": [
    "## 3.5 Random Forest"
   ]
  },
  {
   "cell_type": "markdown",
   "id": "e2397792",
   "metadata": {},
   "source": [
    "Se trata de un modelo de ensemble que combia varios árboles de decisión para hacer predicciones. Así, cada árbol de decisión es entrenado en un subconjunto de los datos de entrenamiento elegido de manera aleatoria, lo que ayuda a reducir el problema de overfitting (o sobreajuste). Las predicciones se realizan teniendo en cuenta la clasificación mayoritaria de las predicciones de cada árbol individual.\n",
    "\n",
    "Se trata de un tipo específico de método de Bagging, pues además de usar muestras bootstrap de los datos de entrenamiento, cada árbol se entrena en un subconjunto aleatorio de características."
   ]
  },
  {
   "cell_type": "markdown",
   "id": "5a9180b0",
   "metadata": {},
   "source": [
    "**Regresión**"
   ]
  },
  {
   "cell_type": "code",
   "execution_count": 38,
   "id": "e4d78857",
   "metadata": {},
   "outputs": [],
   "source": [
    "# Librerias\n",
    "from sklearn.ensemble import RandomForestRegressor\n",
    "from sklearn.model_selection import RandomizedSearchCV"
   ]
  },
  {
   "cell_type": "markdown",
   "id": "7ab20c56",
   "metadata": {},
   "source": [
    "Como sucedía con los árboles de decisión, podemos utilizar técnicas de cross validation para hallar:\n",
    "* **n_estimators**: Número de árboles de decisión para el random forest. En general, el ajuste del modelo es mejor mayor es este hiperparámetro, pero también incrementa el coste computacional para realizar predicciones.\n",
    "* **max_depth**: La profundidad del árbol. Como ya vimos, si la profundidad es muy alta puede llevarnos a overfitting mientras que si es muy baja podremos tener problemas de underfitting."
   ]
  },
  {
   "cell_type": "markdown",
   "id": "6fb7679b",
   "metadata": {},
   "source": [
    "Es este caso vamos a utilizar la función RandomizedSearch()"
   ]
  },
  {
   "cell_type": "code",
   "execution_count": 39,
   "id": "f292ffce",
   "metadata": {},
   "outputs": [
    {
     "name": "stdout",
     "output_type": "stream",
     "text": [
      "Mejores hiperparámetros: {'n_estimators': 192, 'max_depth': 9}\n"
     ]
    }
   ],
   "source": [
    "# Posibles profundidades y estimadores \n",
    "ps = np.array(range(50,250))\n",
    "ns = np.array(range(3,10))\n",
    "\n",
    "h_parameters = {'n_estimators': ps,\n",
    "                'max_depth': ns}\n",
    "\n",
    "# Definimos el modelo\n",
    "rf = RandomForestRegressor()\n",
    "\n",
    "# Busqueda aleatorizada de hiperparametros \n",
    "rand_search = RandomizedSearchCV(rf, \n",
    "                                 param_distributions = h_parameters, \n",
    "                                 n_iter=5, \n",
    "                                 cv=5)\n",
    "rand_search.fit(X_train, y_train)\n",
    "\n",
    "# Mejores parametros\n",
    "best_rf = rand_search.best_estimator_\n",
    "print('Mejores hiperparámetros:',  rand_search.best_params_)"
   ]
  },
  {
   "cell_type": "markdown",
   "id": "b4c9418e",
   "metadata": {},
   "source": [
    "Con estos parámteros, podemos ajustar el modelo"
   ]
  },
  {
   "cell_type": "code",
   "execution_count": 40,
   "id": "36769483",
   "metadata": {},
   "outputs": [],
   "source": [
    "# Ajustamos el modelo\n",
    "rf = RandomForestRegressor(n_estimators=192,max_depth=9)\n",
    "rf.fit(X_train, y_train)\n",
    "\n",
    "# Hacemos predicciones sobre los datos de test\n",
    "y_pred = rf.predict(X_test)"
   ]
  },
  {
   "cell_type": "markdown",
   "id": "8cd5b2bd",
   "metadata": {},
   "source": [
    "Calculamos las métricas para ver el ajuste del modelo"
   ]
  },
  {
   "cell_type": "code",
   "execution_count": 41,
   "id": "b1a41245",
   "metadata": {},
   "outputs": [
    {
     "name": "stdout",
     "output_type": "stream",
     "text": [
      "Root Mean squared error: 0.40\n",
      "Variance score: 0.63\n"
     ]
    }
   ],
   "source": [
    "# Medidas de error para test\n",
    "rmse_rf = np.sqrt(mean_squared_error(y_test, y_pred))\n",
    "r2_rf  = r2_score(y_test, y_pred)\n",
    "# Error Cuadrado Medio\n",
    "print(\"Root Mean squared error: %.2f\" % rmse_rf)\n",
    "# Puntaje de Varianza. El mejor puntaje es un 1.0\n",
    "print('Variance score: %.2f' % r2_rf)"
   ]
  },
  {
   "cell_type": "code",
   "execution_count": 42,
   "id": "b6845f6b",
   "metadata": {},
   "outputs": [],
   "source": [
    "# Almacenamos los datos\n",
    "rmse['RandomForest'] = rmse_rf\n",
    "r2['RandomForest'] = r2_rf"
   ]
  },
  {
   "cell_type": "markdown",
   "id": "a6866d82",
   "metadata": {},
   "source": [
    "También podemos calcular la matriz de confusión"
   ]
  },
  {
   "cell_type": "code",
   "execution_count": 43,
   "id": "2f7102c8",
   "metadata": {},
   "outputs": [
    {
     "data": {
      "image/png": "[encoded data removed]",
      "text/plain": [
       "<Figure size 432x288 with 2 Axes>"
      ]
     },
     "metadata": {
      "needs_background": "light"
     },
     "output_type": "display_data"
    }
   ],
   "source": [
    "# Matriz de confusion para Random Forest\n",
    "y_pred = pd.cut(y_pred.flatten(), bins=bins, labels=False)\n",
    "\n",
    "mc_rf = confusion_matrix(y_test_clas, y_pred)\n",
    "ConfusionMatrixDisplay(confusion_matrix=mc_rf).plot();\n",
    "\n",
    "# Almacenamos los datos\n",
    "mc['RandomForest_Reg'] = mc_rf"
   ]
  },
  {
   "cell_type": "markdown",
   "id": "174664c9",
   "metadata": {},
   "source": [
    "## 3.6 GradientBoost"
   ]
  },
  {
   "cell_type": "markdown",
   "id": "a578f9ad",
   "metadata": {},
   "source": [
    "Gradient boostig es un algoritmo de machine learning que se basa en la creación de un conjunto de modelos de predicción débiles, generalmente árboles de decisión, que se combinan para formar un modelo de predicción más fuerte. En cada iteración, el algoritmo ajusta los pesos de los modelos débiles para corregir los errores del modelo anterior. Esto se hace mediante la optimización de una función de pérdida diferenciable."
   ]
  },
  {
   "cell_type": "markdown",
   "id": "100f940e",
   "metadata": {},
   "source": [
    "**Regresión**"
   ]
  },
  {
   "cell_type": "code",
   "execution_count": 44,
   "id": "4cf3d207",
   "metadata": {},
   "outputs": [],
   "source": [
    "# Librerias\n",
    "from sklearn.ensemble import GradientBoostingRegressor"
   ]
  },
  {
   "cell_type": "code",
   "execution_count": 45,
   "id": "6edf0c74",
   "metadata": {},
   "outputs": [
    {
     "name": "stdout",
     "output_type": "stream",
     "text": [
      "Mejores hiperparámetros: {'n_estimators': 115, 'max_depth': 4}\n"
     ]
    }
   ],
   "source": [
    "# Hiperparametros\n",
    "# Posibles profundidades y estimadores \n",
    "ps = np.array(range(50,250))\n",
    "ns = np.array(range(3,10))\n",
    "\n",
    "h_parameters = {'n_estimators': ps,\n",
    "                'max_depth': ns}\n",
    "\n",
    "# Definimos el modelo\n",
    "gb = GradientBoostingRegressor()\n",
    "\n",
    "# Busqueda aleatorizada de hiperparametros \n",
    "rand_search = RandomizedSearchCV(gb, \n",
    "                                 param_distributions = h_parameters, \n",
    "                                 n_iter=5, \n",
    "                                 cv=5)\n",
    "rand_search.fit(X_train, y_train)\n",
    "\n",
    "# Mejores parametros\n",
    "best_rf = rand_search.best_estimator_\n",
    "print('Mejores hiperparámetros:',  rand_search.best_params_)"
   ]
  },
  {
   "cell_type": "code",
   "execution_count": 46,
   "id": "bda84b5b",
   "metadata": {},
   "outputs": [],
   "source": [
    "# Ajustamos el modelo\n",
    "gb = GradientBoostingRegressor(n_estimators=115, max_depth=4)\n",
    "gb.fit(X_train, y_train)\n",
    "\n",
    "# Hacemos predicciones en test\n",
    "y_pred = gb.predict(X_test)"
   ]
  },
  {
   "cell_type": "code",
   "execution_count": 47,
   "id": "c605b060",
   "metadata": {},
   "outputs": [
    {
     "name": "stdout",
     "output_type": "stream",
     "text": [
      "Root Mean squared error: 0.40\n",
      "Variance score: 0.63\n"
     ]
    }
   ],
   "source": [
    "# Medidas de error\n",
    "rmse_gb = np.sqrt(mean_squared_error(y_test, y_pred))\n",
    "r2_gb  = r2_score(y_test, y_pred)\n",
    "# Error Cuadrado Medio\n",
    "print(\"Root Mean squared error: %.2f\" % rmse_gb)\n",
    "# Puntaje de Varianza. El mejor puntaje es un 1.0\n",
    "print('Variance score: %.2f' % r2_gb)\n",
    "\n",
    "# Almacenamos los datos\n",
    "rmse['GradientBoost'] = rmse_gb\n",
    "r2['GradientBoost'] = r2_gb"
   ]
  },
  {
   "cell_type": "code",
   "execution_count": 48,
   "id": "abf16ea9",
   "metadata": {},
   "outputs": [
    {
     "data": {
      "image/png": "[encoded data removed]",
      "text/plain": [
       "<Figure size 432x288 with 2 Axes>"
      ]
     },
     "metadata": {
      "needs_background": "light"
     },
     "output_type": "display_data"
    }
   ],
   "source": [
    "# Matriz de confusion para Random Forest\n",
    "y_pred = pd.cut(y_pred.flatten(), bins=bins, labels=False)\n",
    "\n",
    "mc_gb_reg = confusion_matrix(y_test_clas, y_pred)\n",
    "ConfusionMatrixDisplay(confusion_matrix=mc_gb_reg).plot();\n",
    "\n",
    "# Almacenamos los datos\n",
    "mc['GB_Regg'] = mc_gb_reg"
   ]
  },
  {
   "cell_type": "markdown",
   "id": "c4c8bd51",
   "metadata": {},
   "source": [
    "## 3.7 XGBoost"
   ]
  },
  {
   "cell_type": "markdown",
   "id": "5d149bbc",
   "metadata": {},
   "source": [
    "El algoritmo XGBoost es similar al boosting de gradiente, pero incluye algunas mejoras importantes. Por ejemplo, utiliza regularización L1 y L2 para reducir el overfitting y mejorar la generalización del modelo. Además, utiliza una técnica llamada \"pruning\" para eliminar los nodos de los árboles de decisión que no son útiles para la predicción."
   ]
  },
  {
   "cell_type": "markdown",
   "id": "2a684df1",
   "metadata": {},
   "source": [
    "**Regresión**"
   ]
  },
  {
   "cell_type": "code",
   "execution_count": null,
   "id": "05b463ee",
   "metadata": {},
   "outputs": [],
   "source": [
    "#!pip install xgboost"
   ]
  },
  {
   "cell_type": "code",
   "execution_count": 49,
   "id": "5417cc57",
   "metadata": {},
   "outputs": [],
   "source": [
    "# Librerias\n",
    "from xgboost import XGBRegressor"
   ]
  },
  {
   "cell_type": "markdown",
   "id": "6ddad86a",
   "metadata": {},
   "source": [
    "En este modelo no estudiaremos hiperparámetros. \n",
    "\n",
    "Ajustamos el modelo y realizamos las predicciones."
   ]
  },
  {
   "cell_type": "code",
   "execution_count": 50,
   "id": "00dc4e8f",
   "metadata": {},
   "outputs": [],
   "source": [
    "# Ajustamos el modelo\n",
    "xgb_reg = XGBRegressor()\n",
    "xgb_reg.fit(X_train, y_train)\n",
    "\n",
    "# Hacemos predicciones en test\n",
    "y_pred = xgb_reg.predict(X_test)"
   ]
  },
  {
   "cell_type": "markdown",
   "id": "439c9a0f",
   "metadata": {},
   "source": [
    "Estudiamos las diferentes métricas"
   ]
  },
  {
   "cell_type": "code",
   "execution_count": 51,
   "id": "82ec74fd",
   "metadata": {},
   "outputs": [
    {
     "name": "stdout",
     "output_type": "stream",
     "text": [
      "Root Mean squared error: 0.40\n",
      "Variance score: 0.63\n"
     ]
    }
   ],
   "source": [
    "# Medidas de error\n",
    "rmse_xgb = np.sqrt(mean_squared_error(y_test, y_pred))\n",
    "r2_xgb  = r2_score(y_test, y_pred)\n",
    "# Error Cuadrado Medio\n",
    "print(\"Root Mean squared error: %.2f\" % rmse_gb)\n",
    "# Puntaje de Varianza. El mejor puntaje es un 1.0\n",
    "print('Variance score: %.2f' % r2_gb)\n",
    "\n",
    "# Almacenamos los datos\n",
    "rmse['GradientBoost'] = rmse_gb\n",
    "r2['GradientBoost'] = r2_gb"
   ]
  },
  {
   "cell_type": "code",
   "execution_count": 52,
   "id": "62e85720",
   "metadata": {},
   "outputs": [
    {
     "data": {
      "image/png": "[encoded data removed]",
      "text/plain": [
       "<Figure size 432x288 with 2 Axes>"
      ]
     },
     "metadata": {
      "needs_background": "light"
     },
     "output_type": "display_data"
    }
   ],
   "source": [
    "# Matriz de confusion para Random Forest\n",
    "y_pred = pd.cut(y_pred.flatten(), bins=bins, labels=False)\n",
    "\n",
    "mc_xgb_reg = confusion_matrix(y_test_clas, y_pred)\n",
    "ConfusionMatrixDisplay(confusion_matrix=mc_xgb_reg).plot();\n",
    "\n",
    "# Almacenamos los datos\n",
    "mc['XGBoost_Regg'] = mc_xgb_reg"
   ]
  },
  {
   "cell_type": "markdown",
   "id": "5bd3ca48",
   "metadata": {},
   "source": [
    "# 4. Comparación de modelos"
   ]
  },
  {
   "cell_type": "markdown",
   "id": "872c6fcb",
   "metadata": {},
   "source": [
    "# 5. Conclusiones"
   ]
  },
  {
   "cell_type": "markdown",
   "id": "ec14b16e",
   "metadata": {},
   "source": [
    "Otra parte importante es saber qué variables son importantes a la hora de predecir el precio de las casas. En los diferentes algoritmos hemos estado viendo gráficos de *feature_importance* donde estudiamos el peso de cada variable en la regresión o clasificación. En todos los casos, obteníamos algo similar a:"
   ]
  },
  {
   "cell_type": "code",
   "execution_count": 53,
   "id": "47ee86ae",
   "metadata": {
    "scrolled": true
   },
   "outputs": [
    {
     "data": {
      "image/png": "[encoded data removed]",
      "text/plain": [
       "<Figure size 432x288 with 1 Axes>"
      ]
     },
     "metadata": {
      "needs_background": "light"
     },
     "output_type": "display_data"
    }
   ],
   "source": [
    "feature_importances = pd.Series(best_rf.feature_importances_, index=X_train.columns).sort_values(ascending=False)\n",
    "feature_importances.plot.bar();"
   ]
  }
 ],
 "metadata": {
  "kernelspec": {
   "display_name": "Python 3 (ipykernel)",
   "language": "python",
   "name": "python3"
  },
  "language_info": {
   "codemirror_mode": {
    "name": "ipython",
    "version": 3
   },
   "file_extension": ".py",
   "mimetype": "text/x-python",
   "name": "python",
   "nbconvert_exporter": "python",
   "pygments_lexer": "ipython3",
   "version": "3.9.12"
  }
 },
 "nbformat": 4,
 "nbformat_minor": 5
}
