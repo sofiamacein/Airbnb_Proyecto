{
 "cells": [
  {
   "cell_type": "markdown",
   "id": "d7419b51",
   "metadata": {},
   "source": [
    "<h1><center>Práctica Aprendizaje: Airbnb.</center></h1>"
   ]
  },
  {
   "cell_type": "markdown",
   "id": "b130932d",
   "metadata": {},
   "source": [
    "<h1><center>Análisis Exploratorio de los datos</center></h1>"
   ]
  },
  {
   "cell_type": "markdown",
   "id": "75aaba2d",
   "metadata": {},
   "source": [
    "# Introducción"
   ]
  },
  {
   "cell_type": "markdown",
   "id": "89dd17e5",
   "metadata": {},
   "source": [
    "- Conjunto de datos: El conjunto de datos escogido es éste, extraído de Airbnb mediante técnicas de scraping. Dentro de las opciones recomiendo utilizar el extract (“Only the 14780 selected records”), ya que minimiza el tiempo de ejecución y evita problemas de memoria en equipos con menos prestaciones. airbnb-listing-extract.csv\n",
    "- Se busca crear un evaluador automático de precios a partir de las carácterísticas de los alojamientos. "
   ]
  },
  {
   "cell_type": "markdown",
   "id": "807a66b7",
   "metadata": {},
   "source": [
    "# 0. Librerías"
   ]
  },
  {
   "cell_type": "code",
   "execution_count": null,
   "id": "32dcaecc",
   "metadata": {},
   "outputs": [],
   "source": [
    "# Paquetes y librerias\n",
    "import numpy as np\n",
    "import pandas as pd\n",
    "import seaborn as sns\n",
    "import matplotlib.pyplot as plt  \n",
    "\n",
    "%matplotlib inline"
   ]
  },
  {
   "cell_type": "code",
   "execution_count": null,
   "id": "cae36579",
   "metadata": {},
   "outputs": [],
   "source": [
    "import warnings\n",
    "warnings.filterwarnings('ignore')"
   ]
  },
  {
   "cell_type": "markdown",
   "id": "84a6bffb",
   "metadata": {},
   "source": [
    "# 1. Análisis exploratorio de los datos"
   ]
  },
  {
   "cell_type": "markdown",
   "id": "cefc1628",
   "metadata": {},
   "source": [
    "## 1.1 Selección de variables"
   ]
  },
  {
   "cell_type": "markdown",
   "id": "777ba48c",
   "metadata": {},
   "source": [
    "Vamos a comenzar con una exploración previa de los datos por si fuera necesario realizar cambios o transformaciones en los mismos."
   ]
  },
  {
   "cell_type": "markdown",
   "id": "076cb2a6",
   "metadata": {},
   "source": [
    "En primer lugar, cargamos los datos y miramos la dimensión y estructura de los mismos."
   ]
  },
  {
   "cell_type": "code",
   "execution_count": null,
   "id": "32133af0",
   "metadata": {
    "scrolled": false
   },
   "outputs": [],
   "source": [
    "# Cargamos los datos\n",
    "df = pd.read_csv(\"airbnb-listings-cleaned.csv\")\n",
    "\n",
    "# Creamos una copia para conservar la base de datos original\n",
    "df_original = df.copy()\n",
    "\n",
    "df.head(5)"
   ]
  },
  {
   "cell_type": "code",
   "execution_count": null,
   "id": "db10c842",
   "metadata": {},
   "outputs": [],
   "source": [
    "# Dimension de los datos\n",
    "df.shape"
   ]
  },
  {
   "cell_type": "markdown",
   "id": "d141d5f8",
   "metadata": {},
   "source": [
    "Tenemos 4837 registros de 82 variables. Estas se explican en el <a href=\"https://github.com/sofiamacein/Airbnb_Proyecto#readme\">README</a>"
   ]
  },
  {
   "cell_type": "markdown",
   "id": "688dcaa6",
   "metadata": {},
   "source": [
    "Vemos el tipo de las variables y si existen valores nulos."
   ]
  },
  {
   "cell_type": "code",
   "execution_count": null,
   "id": "773e43da",
   "metadata": {
    "scrolled": true
   },
   "outputs": [],
   "source": [
    "# Tipo de las variables y valores nulos\n",
    "df.info()"
   ]
  },
  {
   "cell_type": "markdown",
   "id": "0114afad",
   "metadata": {},
   "source": [
    "**Selección de variables**"
   ]
  },
  {
   "cell_type": "markdown",
   "id": "9b11f7da",
   "metadata": {},
   "source": [
    "Para el estudio cualitativo del host, consideramos todas las variables referidas al mismo. \n",
    "\n",
    "- host_id\n",
    "- host_name  \n",
    "- host_since      \n",
    "- host_location\n",
    "- host_response_time\n",
    "- host_response_rate      \n",
    "- host_is_superhost\n",
    "- host_neighbourhood\n",
    "- host_listings_count\n",
    "- host_total_listings_count      \n",
    "- host_has_profile_pic\n",
    "- host_identity_verified\n",
    "\n",
    "Seleccionamos las siguientes variables para el modelo:\n",
    "\n",
    "- latitude\n",
    "- longitude\n",
    "- room_type\n",
    "- accommodates\n",
    "- bathrooms\n",
    "- bedrooms\n",
    "- beds\n",
    "- price\n",
    "- security_deposit\n",
    "- cleaning_fee\n",
    "- guests_inclueded\n",
    "- extra_people\n",
    "- minimum_nights\n",
    "- maximum_nights\n",
    "- number_of_reviews\n",
    "- review_scores_accuracy                  \n",
    "- review_scores_cleanliness                   \n",
    "- review_scores_checkin                  \n",
    "- review_scores_communication        \n",
    "- review_scores_location          "
   ]
  },
  {
   "cell_type": "markdown",
   "id": "d052b120",
   "metadata": {},
   "source": [
    "En primer lugar, creamos el dataframe para el estudio cualitativo del host"
   ]
  },
  {
   "cell_type": "code",
   "execution_count": null,
   "id": "ee5c2d24",
   "metadata": {},
   "outputs": [],
   "source": [
    "# Comprobamos que la variables 'id' conforme un indice valido\n",
    "print(\"Valores nulos id: \" + str(df['id'].isnull().sum()))\n",
    "print(\"Valores duplicados id: \" + str(df['id'].duplicated().sum()))"
   ]
  },
  {
   "cell_type": "code",
   "execution_count": null,
   "id": "cc35c9e2",
   "metadata": {},
   "outputs": [],
   "source": [
    "# Creamos un dataframe para el estudio cualitativo del host\n",
    "col_host = [0,2,3,4,5,6,7,9,10,11,12,13,14]\n",
    "df_host = df.iloc[:,col_host]\n",
    "\n",
    "# Cambiamos el indice\n",
    "df_host = df_host.set_index('id')\n",
    "\n",
    "df_host.head(1)"
   ]
  },
  {
   "cell_type": "markdown",
   "id": "2af445bc",
   "metadata": {},
   "source": [
    "Por otro lado, creamos el dataframe con el que se trabajará para la construcción de los modelos"
   ]
  },
  {
   "cell_type": "code",
   "execution_count": null,
   "id": "d7a52f94",
   "metadata": {
    "scrolled": false
   },
   "outputs": [],
   "source": [
    "# Dataframe para el estudio\n",
    "col_tasa = [0,26,27,30,31,32,33,34,37,40,41,42,43,44,45,59,64,65,66,67,68]\n",
    "df = df.iloc[:,col_tasa]\n",
    "\n",
    "# Cambiamos el indice\n",
    "df = df.set_index('id')\n",
    "df_original = df_original.set_index('id')\n",
    "\n",
    "df.head(1)"
   ]
  },
  {
   "cell_type": "markdown",
   "id": "2b5baace",
   "metadata": {},
   "source": [
    "## 1.2 Transformación de variables"
   ]
  },
  {
   "cell_type": "markdown",
   "id": "a4e622c1",
   "metadata": {},
   "source": [
    "Realizamos algunas transformaciones sobre las variables"
   ]
  },
  {
   "cell_type": "markdown",
   "id": "9eaaa836",
   "metadata": {},
   "source": [
    "### 1.2.1 Tranformaciones en el dataframe del host"
   ]
  },
  {
   "cell_type": "markdown",
   "id": "33b333ef",
   "metadata": {},
   "source": [
    "En primer lugar, a partir de la variables _host_since_, creamos una variable que denominamos _host_for_ cuántos años lleva siendo host."
   ]
  },
  {
   "cell_type": "code",
   "execution_count": null,
   "id": "0cce08ff",
   "metadata": {},
   "outputs": [],
   "source": [
    "# Nos quedamos solo con el año de host_since \n",
    "df_host['host_since'] = pd.to_datetime(df_host['host_since'], errors='coerce')\n",
    "df_host['host_since'] = df_host['host_since'].dt.year\n",
    "df_host['host_since'] = 2019 - df_host['host_since'].values\n",
    "df_host = df_host.rename(columns={'host_since': 'host_for'})"
   ]
  },
  {
   "cell_type": "markdown",
   "id": "ccb83e2d",
   "metadata": {},
   "source": [
    "Por otro lado, binarizamos las variables que toman valores *t* y *f*"
   ]
  },
  {
   "cell_type": "code",
   "execution_count": null,
   "id": "3a6bba19",
   "metadata": {},
   "outputs": [],
   "source": [
    "# Cambiamos variables dicotomicas a binario 1:t y 0:f\n",
    "df_host['host_is_superhost'] = df_host['host_is_superhost'].map({\"t\":1, \"f\":0})\n",
    "df_host['host_has_profile_pic'] = df_host['host_has_profile_pic'].map({\"t\":1, \"f\":0})\n",
    "df_host['host_identity_verified'] = df_host['host_identity_verified'].map({\"t\":1, \"f\":0})"
   ]
  },
  {
   "cell_type": "markdown",
   "id": "a4a40821",
   "metadata": {},
   "source": [
    "Por último, convertimos los valores de la variable _host_response_time_ a valores entre $0$ y $1$."
   ]
  },
  {
   "cell_type": "code",
   "execution_count": null,
   "id": "703e5bfa",
   "metadata": {},
   "outputs": [],
   "source": [
    "# Cambiamos host_response_time a tasa\n",
    "df_host['host_response_rate'] = df_host['host_response_rate'].str.replace('%','').astype('float64')\n",
    "df_host['host_response_rate'] = df_host['host_response_rate']/100"
   ]
  },
  {
   "cell_type": "markdown",
   "id": "8dda0974",
   "metadata": {},
   "source": [
    "Obtenemos el siguiente dataframe"
   ]
  },
  {
   "cell_type": "code",
   "execution_count": null,
   "id": "16197509",
   "metadata": {
    "scrolled": true
   },
   "outputs": [],
   "source": [
    "df_host.head(2)"
   ]
  },
  {
   "cell_type": "markdown",
   "id": "1098d8a6",
   "metadata": {},
   "source": [
    "### 1.2.2 Transformaciones en el dataframe de estudio"
   ]
  },
  {
   "cell_type": "markdown",
   "id": "bba61a8a",
   "metadata": {},
   "source": [
    "Continuamos con el dataframe para el estudio.\n",
    "\n",
    "En primer lugar, como la variable _room_type_ toma 3 valores, *Entire homre/apt*, *Private room* y *Shared room*, obtenemos variables dummies para estas."
   ]
  },
  {
   "cell_type": "code",
   "execution_count": null,
   "id": "e2784b24",
   "metadata": {},
   "outputs": [],
   "source": [
    "# Cambiamos la variable room_type a dummies segun las 3 categorias\n",
    "df['room_type'].value_counts()\n",
    "df_rooms = pd.get_dummies(df[['room_type']], prefix = \"\", prefix_sep = \"\")\n",
    "df = pd.concat([df,df_rooms], axis=1)\n",
    "df.drop(['room_type'], axis = 1, inplace = True)"
   ]
  },
  {
   "cell_type": "markdown",
   "id": "6f189a89",
   "metadata": {},
   "source": [
    "Procedemos a cambiar la variable _extra_people_ a una variable de tipo numérico (float)."
   ]
  },
  {
   "cell_type": "code",
   "execution_count": null,
   "id": "d3e3ad5c",
   "metadata": {},
   "outputs": [],
   "source": [
    "# Cambiamos extra_people a dtype=float64\n",
    "df['extra_people'] = df['extra_people'].str.replace('$','').astype('float64')"
   ]
  },
  {
   "cell_type": "markdown",
   "id": "5df64253",
   "metadata": {},
   "source": [
    "Al observar el dataframe, parece que hay entradas donde la variable _accommodates_ toma valores inferiores a la variable _beds_. Si esto es así, habría ofertas donde hay más camas disposibles que gente admitida. En ese caso, decidimos cambiar la variable _accommodates_ al número mínimo de personas necesarias para cubirir todas las camas; es decir,\n",
    "\n",
    "_accomodates_ = _beds_ - _guests_included_"
   ]
  },
  {
   "cell_type": "code",
   "execution_count": null,
   "id": "73f5c4b3",
   "metadata": {},
   "outputs": [],
   "source": [
    "# Comprobar que existen ofertas donde hay mas camas que gente admitida\n",
    "df[df['beds']>df['accommodates']+df['guests_included']][['accommodates','beds','guests_included']]"
   ]
  },
  {
   "cell_type": "code",
   "execution_count": null,
   "id": "3a5b70d5",
   "metadata": {},
   "outputs": [],
   "source": [
    "# Reemplazamos 'accommodates' por el numero minimo de personas necesarias para cubrir las camas\n",
    "df['accommodates'] = np.where(df['beds'] > df['accommodates']+df['guests_included'], df['beds']-df['guests_included'], df['accommodates'])"
   ]
  },
  {
   "cell_type": "markdown",
   "id": "012b1b56",
   "metadata": {},
   "source": [
    "Por último, estudiamos cuántos casos existen donde hay más invitados que personas que pueden alojarse y el tipo de alojamientos donde esto sucede."
   ]
  },
  {
   "cell_type": "code",
   "execution_count": null,
   "id": "a4ec1005",
   "metadata": {
    "scrolled": true
   },
   "outputs": [],
   "source": [
    "# Vemos tipo de alojamiento cuando hay mas invitados que personas que pueden alojarse\n",
    "indices = df[df['guests_included']>df['accommodates']].index\n",
    "df_original.loc[indices,:]['property_type'].value_counts()"
   ]
  },
  {
   "cell_type": "markdown",
   "id": "23671ec4",
   "metadata": {},
   "source": [
    "En la mayoría de casos se trata de alojamientos de grandes dimensiones. Más adelante se realizará un estudio más exhaustivo."
   ]
  },
  {
   "cell_type": "markdown",
   "id": "e3b1a690",
   "metadata": {},
   "source": [
    "## 1.3  Análisis descriptivo"
   ]
  },
  {
   "cell_type": "markdown",
   "id": "aca502a8",
   "metadata": {},
   "source": [
    "**Estudio cualitativo del host**"
   ]
  },
  {
   "cell_type": "markdown",
   "id": "6d10cffd",
   "metadata": {},
   "source": [
    "Podemos estudiar:\n",
    "- ¿Existen variables influyentes que determinen si un host es superhost?\n",
    "- Mapa de localización de los host"
   ]
  },
  {
   "cell_type": "markdown",
   "id": "fba78b3d",
   "metadata": {},
   "source": [
    "**Estudio de las variables para los modelos de machine learning**"
   ]
  },
  {
   "cell_type": "markdown",
   "id": "9dbd83a5",
   "metadata": {},
   "source": [
    "Vemos algunos estadísticos de los datos y estudiamos la distribución de las variables mediante los histogramas."
   ]
  },
  {
   "cell_type": "code",
   "execution_count": null,
   "id": "f65e0711",
   "metadata": {
    "scrolled": true
   },
   "outputs": [],
   "source": [
    "# Estadisticos descriptivos\n",
    "df.drop(columns=['latitude', 'longitude']).iloc[:,0:12].describe()"
   ]
  },
  {
   "cell_type": "code",
   "execution_count": null,
   "id": "ac268954",
   "metadata": {},
   "outputs": [],
   "source": [
    "# Estadisticos descriptivos\n",
    "df.drop(columns=['latitude', 'longitude']).iloc[:,12:].describe()"
   ]
  },
  {
   "cell_type": "code",
   "execution_count": null,
   "id": "153fb468",
   "metadata": {
    "scrolled": true
   },
   "outputs": [],
   "source": [
    "# Histograma de las variables\n",
    "df.drop(columns=['latitude', 'longitude']).hist(figsize=(20,15))\n",
    "plt.show()"
   ]
  },
  {
   "cell_type": "markdown",
   "id": "8fd39461",
   "metadata": {},
   "source": [
    "Podemos observar una gran asimetría por la derecha en las variables. Por tanto, tras realizar la imputación de missings y el estudio de los outliers, se estudiará el coeficiente de asimetría realizando las trasnformaciones necesarias."
   ]
  },
  {
   "cell_type": "markdown",
   "id": "c200e8ce",
   "metadata": {},
   "source": [
    "## 1.3 Imputación de missings"
   ]
  },
  {
   "cell_type": "code",
   "execution_count": null,
   "id": "1ab590f1",
   "metadata": {
    "scrolled": true
   },
   "outputs": [],
   "source": [
    "# Valores missing\n",
    "df.isnull().sum()"
   ]
  },
  {
   "cell_type": "markdown",
   "id": "80b7bb7f",
   "metadata": {},
   "source": [
    "### 1.3.1 Variables 'bedrooms' y 'beds'"
   ]
  },
  {
   "cell_type": "markdown",
   "id": "a26bd3c4",
   "metadata": {},
   "source": [
    "Para imputar los missing de las variables *bedrooms* y *beds* empleamos un modelo de regresión lineal donde las variables regresoras son *accommodates* y *bathrooms*."
   ]
  },
  {
   "cell_type": "code",
   "execution_count": null,
   "id": "8485a8c7",
   "metadata": {},
   "outputs": [],
   "source": [
    "# Librerias\n",
    "from sklearn.linear_model import LinearRegression"
   ]
  },
  {
   "cell_type": "markdown",
   "id": "7c2cbc21",
   "metadata": {},
   "source": [
    "En primer lugar, imputamos la variable **_bedrooms_**"
   ]
  },
  {
   "cell_type": "code",
   "execution_count": null,
   "id": "43484c9a",
   "metadata": {},
   "outputs": [],
   "source": [
    "# Separamos las variables\n",
    "target = 'bedrooms'\n",
    "regresoras = ['accommodates', 'bathrooms']\n",
    "\n",
    "# Creamos un dataframe con las variables seleccionadas\n",
    "df_imp = df[[target] + regresoras]\n",
    "\n",
    "# Separamos los datos en dos dataframe, uno con los valores missing y otro sin valores missing\n",
    "df_missing = df_imp[df_imp.isnull().any(axis=1)]\n",
    "df_no_missing = df_imp.dropna()\n",
    "\n",
    "# Ajustamos el modelo a los datos sin missing\n",
    "reg = LinearRegression()\n",
    "reg.fit(df_no_missing[regresoras], df_no_missing[target])\n",
    "\n",
    "# Realizamos la imputacion de los valores missing y almacenamos los valores obtenidos en el dataframe \n",
    "pred = reg.predict(df_missing[regresoras])\n",
    "df.loc[df[target].isnull(), target]= pred"
   ]
  },
  {
   "cell_type": "markdown",
   "id": "7df8b1ce",
   "metadata": {},
   "source": [
    "Imputamos los missing en la variable **_beds_**"
   ]
  },
  {
   "cell_type": "code",
   "execution_count": null,
   "id": "d985348c",
   "metadata": {},
   "outputs": [],
   "source": [
    "# Separamos las variables\n",
    "target = 'beds'\n",
    "regresoras = ['accommodates', 'bathrooms']\n",
    "\n",
    "# Creamos un dataframe con las variables seleccionadas\n",
    "df_imp = df[[target] + regresoras]\n",
    "\n",
    "# Separamos los datos en dos dataframe, uno con los valores missing y otro sin valores missing\n",
    "df_missing = df_imp[df_imp.isnull().any(axis=1)]\n",
    "df_no_missing = df_imp.dropna()\n",
    "\n",
    "# Ajustamos el modelo a los datos sin missing\n",
    "reg = LinearRegression()\n",
    "reg.fit(df_no_missing[regresoras], df_no_missing[target])\n",
    "\n",
    "# Realizamos la imputacion de los valores missing y almacenamos los valores obtenidos en el dataframe \n",
    "pred = reg.predict(df_missing[regresoras])\n",
    "df.loc[df[target].isnull(), target]= pred"
   ]
  },
  {
   "cell_type": "markdown",
   "id": "012ebc4c",
   "metadata": {},
   "source": [
    "### 1.3.2 Variables 'security_deposit' y 'cleaning_fee '"
   ]
  },
  {
   "cell_type": "markdown",
   "id": "a8beb8bc",
   "metadata": {},
   "source": [
    "Consideramos que los valores NaN son $0$, es decir, indican que no se paga depósito ni tasas de limpieza. "
   ]
  },
  {
   "cell_type": "code",
   "execution_count": null,
   "id": "857a7f74",
   "metadata": {},
   "outputs": [],
   "source": [
    "# Reemplazamos los valores missing por 0\n",
    "df['security_deposit'] = df['security_deposit'].replace(np.nan, 0)\n",
    "df['cleaning_fee'] = df['cleaning_fee'].replace(np.nan, 0)"
   ]
  },
  {
   "cell_type": "markdown",
   "id": "2c4732b1",
   "metadata": {},
   "source": [
    "### 1.3.3 Variables tipo 'review_scores_'"
   ]
  },
  {
   "cell_type": "markdown",
   "id": "7e62a067",
   "metadata": {},
   "source": [
    "Vemos el dataframe donde al menos una de las variables correspondientes con reseñas tiene un valor missing"
   ]
  },
  {
   "cell_type": "code",
   "execution_count": null,
   "id": "fe870d37",
   "metadata": {
    "scrolled": true
   },
   "outputs": [],
   "source": [
    "# Dataframe reseñas\n",
    "review_score = ['review_scores_accuracy','review_scores_cleanliness', 'review_scores_checkin',\n",
    "                  'review_scores_communication','review_scores_location']\n",
    "\n",
    "df[df[review_score].isna().any(axis=1)][review_score]"
   ]
  },
  {
   "cell_type": "markdown",
   "id": "a02211ce",
   "metadata": {},
   "source": [
    "Así, decidimos eliminar las observaciones"
   ]
  },
  {
   "cell_type": "code",
   "execution_count": null,
   "id": "a09796e3",
   "metadata": {
    "scrolled": false
   },
   "outputs": [],
   "source": [
    "# Eliminamos las observaciones\n",
    "df = df.dropna(subset=review_score)"
   ]
  },
  {
   "cell_type": "markdown",
   "id": "1b489bea",
   "metadata": {},
   "source": [
    "## 1.4 Outliers"
   ]
  },
  {
   "cell_type": "markdown",
   "id": "12f8f711",
   "metadata": {},
   "source": [
    "En primer lugar, mostramos los boxplot de cada una de las variables."
   ]
  },
  {
   "cell_type": "code",
   "execution_count": null,
   "id": "4a273aae",
   "metadata": {},
   "outputs": [],
   "source": [
    "# Numero de filas y columnas necesarias para dibujar todos los boxplots\n",
    "n_rows = 6\n",
    "n_cols = 3\n",
    "columnas = ['accommodates', 'bathrooms', 'bedrooms', 'beds', 'price', 'security_deposit', 'cleaning_fee','guests_included', 'extra_people', 'minimum_nights',\n",
    "       'maximum_nights', 'number_of_reviews', 'review_scores_accuracy','review_scores_cleanliness', 'review_scores_checkin','review_scores_communication', 'review_scores_location']\n",
    "\n",
    "# Matriz de subgraficos\n",
    "fig, axs = plt.subplots(nrows=n_rows, ncols=n_cols, figsize=(10, 8))\n",
    "\n",
    "# Boxplot de cada variable\n",
    "for i, columna in enumerate(columnas):\n",
    "    ax = axs[i // n_cols][i % n_cols]\n",
    "    ax.boxplot(df[columna],vert=False,patch_artist=True) # boxplot de la variable\n",
    "    ax.set_title(columna)\n",
    "\n",
    "# Ajuste de espacios entre subgraficos\n",
    "fig.tight_layout()\n",
    "\n",
    "# Mostrar la figura\n",
    "plt.show()"
   ]
  },
  {
   "cell_type": "markdown",
   "id": "23db426c",
   "metadata": {},
   "source": [
    "Estudiamos los outliers en conjunto con aquellas variables con las que podrían tener más relación. La relación entre las variables podemos estudiarla mediante la matriz de correlaciones"
   ]
  },
  {
   "cell_type": "code",
   "execution_count": null,
   "id": "1f2635a5",
   "metadata": {},
   "outputs": [],
   "source": [
    "# Correlaciones\n",
    "plt.figure(figsize=(20,10))\n",
    "correlaciones= df.corr()\n",
    "sns.heatmap(correlaciones,cmap=\"GnBu\",annot=True) \n",
    "correlaciones"
   ]
  },
  {
   "cell_type": "markdown",
   "id": "079d46f1",
   "metadata": {},
   "source": [
    "Dividimos las variables en distintos grupos en función de su correlación para analizarlas conjuntamente."
   ]
  },
  {
   "cell_type": "markdown",
   "id": "f3bbd601",
   "metadata": {},
   "source": [
    "### 1.4.1 Variables relacionadas con la disposición del alojamiento"
   ]
  },
  {
   "cell_type": "markdown",
   "id": "e5fe4f7c",
   "metadata": {},
   "source": [
    "**Accommodate, bathrooms,  bedrooms, beds**"
   ]
  },
  {
   "cell_type": "markdown",
   "id": "db6df6b0",
   "metadata": {},
   "source": [
    "Primero vamos a estudiar los outliers en las variables relativas a la disposicion del alojamiento"
   ]
  },
  {
   "cell_type": "code",
   "execution_count": null,
   "id": "5b9a5434",
   "metadata": {},
   "outputs": [],
   "source": [
    "# Boxplot de las habitaciones\n",
    "fig = plt.figure(figsize = (5,5))\n",
    "\n",
    "plt.boxplot(df[['accommodates', 'bathrooms','bedrooms', 'beds']])\n",
    "\n",
    "plt.title('Outliers')\n",
    "plt.xticks([1,2,3,4], ['Accommodates', 'Bathrooms', 'Bedrooms', 'Beds'])\n",
    "\n",
    "plt.show()"
   ]
  },
  {
   "cell_type": "markdown",
   "id": "b3d02984",
   "metadata": {},
   "source": [
    "Estudiamos los outliers en conjunto. Para ello empleamos la librería *PyOD* que posee estrategias para detectar outliers. En este caso, empleamos el algoritmo de KNN"
   ]
  },
  {
   "cell_type": "code",
   "execution_count": null,
   "id": "17ec2bb4",
   "metadata": {},
   "outputs": [],
   "source": [
    "# !pip install pyod"
   ]
  },
  {
   "cell_type": "code",
   "execution_count": null,
   "id": "727815a7",
   "metadata": {},
   "outputs": [],
   "source": [
    "# Librerias\n",
    "from pyod.models.knn import KNN"
   ]
  },
  {
   "cell_type": "code",
   "execution_count": null,
   "id": "e82302c8",
   "metadata": {
    "scrolled": false
   },
   "outputs": [],
   "source": [
    "# Deteccion de outliers\n",
    "A = df[['accommodates','bathrooms','bedrooms', 'beds', 'Entire home/apt', 'Private room']]\n",
    "clf = KNN(contamination=0.01)\n",
    "clf.fit(A)\n",
    "# Outliers\n",
    "y_pred = clf.predict(A)\n",
    "outliers = A[y_pred == 1]\n",
    "# Vemos el tipo de alojamiento\n",
    "indices = outliers.index\n",
    "outliers['property_type'] = df_original.loc[indices,:]['property_type']\n",
    "outliers"
   ]
  },
  {
   "cell_type": "markdown",
   "id": "7096b050",
   "metadata": {},
   "source": [
    "Podríamos considerar outliers los que se trata de un apartamento dado que, por lo general, el número de posibles huéspedes es muy alto y las dimensiones de un apartamento no suelen ser tan grandes."
   ]
  },
  {
   "cell_type": "code",
   "execution_count": null,
   "id": "b7c2f8a6",
   "metadata": {
    "scrolled": false
   },
   "outputs": [],
   "source": [
    "# Dataframe con los outliers correspondientes a apartamentos\n",
    "outliers[outliers['property_type']=='Apartment']"
   ]
  },
  {
   "cell_type": "markdown",
   "id": "517debee",
   "metadata": {},
   "source": [
    "Podemos observar que parece que se trata de datos mal registrados.\n",
    "\n",
    "- En el primer caso, parece que se trata de un apartamente con 10 habitaciones y (posiblemente 1 cama por habitación).\n",
    "- En el segundo caso, parece que se trata de una habitación privada en un apartamento.\n",
    "- En el tercer caso\n",
    "\n",
    "Decidimos eliminar las observaciones."
   ]
  },
  {
   "cell_type": "code",
   "execution_count": null,
   "id": "ab4aaa4f",
   "metadata": {},
   "outputs": [],
   "source": [
    "# Eliminamos las observaciones correspondientes con apartamentos\n",
    "indices_apt = outliers[outliers['property_type']=='Apartment'].index\n",
    "df.drop(indices_apt, inplace = True)"
   ]
  },
  {
   "cell_type": "markdown",
   "id": "b1411e39",
   "metadata": {},
   "source": [
    "### 1.4.2 Variables relacionadas con tasas extra"
   ]
  },
  {
   "cell_type": "markdown",
   "id": "bb9d2695",
   "metadata": {},
   "source": [
    "**Security deposit, cleaning fee, guests included, extra people**"
   ]
  },
  {
   "cell_type": "markdown",
   "id": "61dec8cd",
   "metadata": {},
   "source": [
    "**Security deposit**"
   ]
  },
  {
   "cell_type": "markdown",
   "id": "84678c85",
   "metadata": {},
   "source": [
    "En primer lugar, vemos cómo se distribuye la variable y sus posibles outliers"
   ]
  },
  {
   "cell_type": "code",
   "execution_count": null,
   "id": "8b3ec202",
   "metadata": {
    "scrolled": true
   },
   "outputs": [],
   "source": [
    "# Distribucion y boxplot de security deposit\n",
    "fig, axes = plt.subplots(1, 2, figsize=(12, 5))\n",
    "\n",
    "sns.kdeplot(df['security_deposit'], shade=True, color='blue',ax=axes[0])\n",
    "sns.boxplot(df['security_deposit'], color='blue', ax=axes[1])\n",
    "\n",
    "plt.show()"
   ]
  },
  {
   "cell_type": "code",
   "execution_count": null,
   "id": "7ca5fe23",
   "metadata": {},
   "outputs": [],
   "source": [
    "# Estudiamos los cuantiles de la variable\n",
    "df['security_deposit'].quantile([0.25,0.5, 0.75, 0.95, 0.99])"
   ]
  },
  {
   "cell_type": "markdown",
   "id": "e99005d5",
   "metadata": {},
   "source": [
    "Las fianzas altas suelen estar relacionadas con largas estancias o con lugares de grandes dimensiones. Denominaremos fianza alta a aquellas por encima del percentil 0,95."
   ]
  },
  {
   "cell_type": "code",
   "execution_count": null,
   "id": "7a8372c1",
   "metadata": {
    "scrolled": true
   },
   "outputs": [],
   "source": [
    "# Dataframe con fianzas por encima del percentil 95\n",
    "q95 = df['security_deposit'].quantile(0.95) \n",
    "df_fianza = df[df['security_deposit']>=q95][['minimum_nights','maximum_nights', \n",
    "                                             'price','security_deposit','Entire home/apt', 'Private room', 'Shared room']]\n",
    "indices = df_fianza.index # indices \n",
    "df_fianza['property_type'] = df_original.loc[indices]['property_type'] # tipo de alojamiento\n",
    "\n",
    "df_fianza"
   ]
  },
  {
   "cell_type": "markdown",
   "id": "f13b1158",
   "metadata": {},
   "source": [
    "Podríamos considerar outliers aquellos que no sean larga estancia y/o no correspondan con un alojamiento de grandes dimensiones."
   ]
  },
  {
   "cell_type": "code",
   "execution_count": null,
   "id": "8c8652e2",
   "metadata": {},
   "outputs": [],
   "source": [
    "# Tipos de alojamiento\n",
    "df_fianza['property_type'].value_counts()"
   ]
  },
  {
   "cell_type": "code",
   "execution_count": null,
   "id": "dc056611",
   "metadata": {
    "scrolled": false
   },
   "outputs": [],
   "source": [
    "# No son largas estancias si es menos de 4 meses? y tipo alojamiento pequeño (apartment, loft y other)?\n",
    "df_fianza[(df_fianza['maximum_nights']<(30*4)) & \n",
    "          ((df_fianza['property_type']=='Apartment') | (df_fianza['property_type']=='Loft') | (df_fianza['property_type']=='Other'))]"
   ]
  },
  {
   "cell_type": "markdown",
   "id": "6be6974b",
   "metadata": {},
   "source": [
    "Este dataframe muestra aquellas observaciones que no corresponden a largas estancias (menos de 4 meses) y además el alojamiento es \"pequeño\" (apartamento, loft y otros). Consideramos que son outliers y los eliminamos."
   ]
  },
  {
   "cell_type": "code",
   "execution_count": null,
   "id": "8d15a14b",
   "metadata": {},
   "outputs": [],
   "source": [
    "# Eliminamos las observaciones \n",
    "indices_est = df_fianza[(df_fianza['maximum_nights']<(30*4)) & \n",
    "                        ((df_fianza['property_type']=='Apartment') | (df_fianza['property_type']=='Loft') | (df_fianza['property_type']=='Other'))].index\n",
    "df.drop(indices_est, inplace = True)"
   ]
  },
  {
   "cell_type": "markdown",
   "id": "bec53bcc",
   "metadata": {},
   "source": [
    "**Cleaning fee**"
   ]
  },
  {
   "cell_type": "markdown",
   "id": "6a01fbc9",
   "metadata": {},
   "source": [
    "En primer lugar, vemos la distribución de _cleaning_fee_ y sus posibles valores atípicos"
   ]
  },
  {
   "cell_type": "code",
   "execution_count": null,
   "id": "456db009",
   "metadata": {
    "scrolled": false
   },
   "outputs": [],
   "source": [
    "# Distribucion y boxplot de cleaning fee\n",
    "fig, axes = plt.subplots(1, 2, figsize=(12, 5))\n",
    "\n",
    "sns.kdeplot(df['cleaning_fee'], shade=True, color='blue',ax=axes[0])\n",
    "sns.boxplot(df['cleaning_fee'], color='blue', ax=axes[1])\n",
    "\n",
    "plt.show()"
   ]
  },
  {
   "cell_type": "markdown",
   "id": "b4923ac6",
   "metadata": {},
   "source": [
    "En el siguiente gráfico, representamos las tasas de limpieza para los distintos tipos de alojamiento."
   ]
  },
  {
   "cell_type": "code",
   "execution_count": null,
   "id": "555c4655",
   "metadata": {},
   "outputs": [],
   "source": [
    "# Crear la figura y los ejes\n",
    "fig, axs = plt.subplots()\n",
    "\n",
    "# Tramar el gráfico de dispersión con diferentes categorías\n",
    "axs.scatter(df[df['Entire home/apt'] == 1]['cleaning_fee'], [1] * len(df[df['Entire home/apt'] == 1]), label='Entire home/apt')\n",
    "axs.scatter(df[df['Private room'] == 1]['cleaning_fee'], [2] * len(df[df['Private room'] == 1]), label='Private room')\n",
    "axs.scatter(df[df['Shared room'] == 1]['cleaning_fee'], [3] * len(df[df['Shared room'] == 1]), label='Shared room')\n",
    "\n",
    "# Añadir etiquetas a los ejes\n",
    "axs.set_xlabel('Cleaning Fee')\n",
    "axs.set_yticks([1, 2, 3])\n",
    "axs.set_yticklabels(['Entire home/apt', 'Private room', 'Shared room'])\n",
    "\n",
    "# Mostrar la leyenda\n",
    "axs.legend()\n",
    "\n",
    "# Mostrar el gráfico\n",
    "plt.show()"
   ]
  },
  {
   "cell_type": "markdown",
   "id": "b3d72c39",
   "metadata": {},
   "source": [
    "Estudiamos la relación entre 'cleaning_fee' y 'review_scores_cleanliness'."
   ]
  },
  {
   "cell_type": "code",
   "execution_count": null,
   "id": "4febdf05",
   "metadata": {
    "scrolled": true
   },
   "outputs": [],
   "source": [
    "# Relacion cleaning_fee y review_score_cleanliness\n",
    "plt.scatter(df['cleaning_fee'],df['review_scores_cleanliness'])\n",
    "plt.plot( [0, 500],  [0, 10] , color='red')\n",
    "\n",
    "plt.xlabel('Cleaning Fee')\n",
    "plt.ylabel('Review Scores Cleanliness')\n",
    "\n",
    "plt.show()"
   ]
  },
  {
   "cell_type": "markdown",
   "id": "2d4ff8d3",
   "metadata": {},
   "source": [
    "Consideramos que todos los datos que están por debajo de la línea son outliers. Decidimos eliminarlos."
   ]
  },
  {
   "cell_type": "code",
   "execution_count": null,
   "id": "47f2344d",
   "metadata": {},
   "outputs": [],
   "source": [
    "# Eliminamos las observaciones\n",
    "indices = df[(df['cleaning_fee']>100)&(df['review_scores_cleanliness']<3)].index\n",
    "df.drop(indices, inplace=True)"
   ]
  },
  {
   "cell_type": "markdown",
   "id": "55383a28",
   "metadata": {},
   "source": [
    "**Guests included**"
   ]
  },
  {
   "cell_type": "markdown",
   "id": "05b49619",
   "metadata": {},
   "source": [
    "Podemos estudiar esta variable en conjunto de con número de huéspedes y el número de camas/habitaciones"
   ]
  },
  {
   "cell_type": "code",
   "execution_count": null,
   "id": "36e93282",
   "metadata": {
    "scrolled": false
   },
   "outputs": [],
   "source": [
    "# Distribucion y boxplot de guests_included\n",
    "fig, axes = plt.subplots(1, 2, figsize=(12, 5))\n",
    "\n",
    "sns.histplot(df['guests_included'], bins=30, alpha=0.5, color='blue', ax=axes[0])\n",
    "sns.boxplot(df['guests_included'], color='blue', ax=axes[1])\n",
    "\n",
    "plt.show()"
   ]
  },
  {
   "cell_type": "markdown",
   "id": "161e0ab1",
   "metadata": {},
   "source": [
    "Consideramos outliers aquellos donde los invitados son más del doble de los posibles huéspedes."
   ]
  },
  {
   "cell_type": "code",
   "execution_count": null,
   "id": "0428ec5e",
   "metadata": {},
   "outputs": [],
   "source": [
    "# Dataframe con posibles valores atipicos de guests_included\n",
    "outliers_guests = df[df['guests_included']>2*df['accommodates']][['accommodates', 'bathrooms', 'bedrooms', 'beds', 'price',\n",
    "                                               'guests_included', 'Entire home/apt', 'Private room']]\n",
    "outliers_guests"
   ]
  },
  {
   "cell_type": "markdown",
   "id": "d2b54331",
   "metadata": {},
   "source": [
    "Decidimos eliminar las observaciones."
   ]
  },
  {
   "cell_type": "code",
   "execution_count": null,
   "id": "a9e3fa00",
   "metadata": {},
   "outputs": [],
   "source": [
    "# Eliminamos las observaciones\n",
    "df.drop(outliers_guests.index, inplace=True)"
   ]
  },
  {
   "cell_type": "markdown",
   "id": "8e72097f",
   "metadata": {},
   "source": [
    "**Extra people**"
   ]
  },
  {
   "cell_type": "markdown",
   "id": "c27bc0b3",
   "metadata": {},
   "source": [
    "Podemos estudiar esta variable en conjunto con el tipo de alojamiento y 'guests_included'. En primer lugar, observamos su distribución y los posibles valores atípicos."
   ]
  },
  {
   "cell_type": "code",
   "execution_count": null,
   "id": "24387738",
   "metadata": {
    "scrolled": false
   },
   "outputs": [],
   "source": [
    "# Distribucion y boxplot de extra_people\n",
    "fig, axes = plt.subplots(1, 2, figsize=(12, 5))\n",
    "\n",
    "sns.kdeplot(df['extra_people'], shade=True, color='blue',ax=axes[0])\n",
    "sns.boxplot(df['extra_people'], color='blue', ax=axes[1])\n",
    "\n",
    "plt.show()"
   ]
  },
  {
   "cell_type": "code",
   "execution_count": null,
   "id": "e61d6d55",
   "metadata": {},
   "outputs": [],
   "source": [
    "# Estudiamos los cuantiles de la variable\n",
    "df['extra_people'].quantile([0.25,0.5, 0.75, 0.95, 0.99])"
   ]
  },
  {
   "cell_type": "markdown",
   "id": "24ed01a0",
   "metadata": {},
   "source": [
    "Consideramos posibles outliers aquellos por encima del percentil 0,99"
   ]
  },
  {
   "cell_type": "code",
   "execution_count": null,
   "id": "75cc5fac",
   "metadata": {
    "scrolled": false
   },
   "outputs": [],
   "source": [
    "# Dataframe con posibles outliers extra_people\n",
    "q99 = df['extra_people'].quantile(0.99)\n",
    "outliers_extra = df[df['extra_people']>q99][['accommodates', 'bathrooms', 'bedrooms', 'beds', 'price', 'guests_included', 'extra_people', \n",
    "                            'Entire home/apt', 'Private room', 'Shared room']]\n",
    "outliers_extra"
   ]
  },
  {
   "cell_type": "code",
   "execution_count": null,
   "id": "019e8b05",
   "metadata": {},
   "outputs": [],
   "source": []
  },
  {
   "cell_type": "markdown",
   "id": "1e00392b",
   "metadata": {},
   "source": [
    "No consideramos que ninguna de las observaciones sean outliers."
   ]
  },
  {
   "cell_type": "markdown",
   "id": "b7ad9211",
   "metadata": {},
   "source": [
    "### 1.4.3 Variables relacionadas las reseñas"
   ]
  },
  {
   "cell_type": "markdown",
   "id": "a20becdd",
   "metadata": {},
   "source": [
    "Las reseñas son muy subjetivas y pueden presentar mucha variabilidad. Por ejemplo, puede darse el caso de un alojamiento situado en una muy buena ubicación pero con pésimas condiciones de limpieza. "
   ]
  },
  {
   "cell_type": "markdown",
   "id": "4cd7aef0",
   "metadata": {},
   "source": [
    "**Variables de tipo review_score_**"
   ]
  },
  {
   "cell_type": "markdown",
   "id": "aedd042b",
   "metadata": {},
   "source": [
    "Calculamos la puntuación media según el tipo de habitación"
   ]
  },
  {
   "cell_type": "code",
   "execution_count": null,
   "id": "67583daa",
   "metadata": {
    "scrolled": false
   },
   "outputs": [],
   "source": [
    "reviews = df[['number_of_reviews','review_scores_accuracy', 'review_scores_cleanliness', 'review_scores_checkin', \n",
    "              'review_scores_communication', 'review_scores_location']]\n",
    "\n",
    "indices_reviews = reviews.index\n",
    "reviews['room_type'] = df_original.loc[indices_reviews,:]['room_type']\n",
    "\n",
    "# Valoraciones media segun el tipo de habitacion    \n",
    "df_media = reviews.groupby(['room_type']).mean()\n",
    "df_media.drop('number_of_reviews', axis=1, inplace=True)"
   ]
  },
  {
   "cell_type": "code",
   "execution_count": null,
   "id": "3abe3f8c",
   "metadata": {
    "scrolled": true
   },
   "outputs": [],
   "source": [
    "# Grafico puntuaciones medias\n",
    "plt.figure(figsize=(12, 5))\n",
    "\n",
    "df_media.plot(kind='bar')\n",
    "\n",
    "plt.xlabel('Tipo de habitacion')\n",
    "plt.ylabel('Puntuaciones medias')\n",
    "plt.title('Puntuacion media por tipo de habitacion')\n",
    "plt.legend(loc='best') # buscar mejor ubicacion\n",
    "\n",
    "plt.show()"
   ]
  },
  {
   "cell_type": "markdown",
   "id": "4bc4077a",
   "metadata": {},
   "source": [
    "**idea**: Puntuación media por zonas"
   ]
  },
  {
   "cell_type": "markdown",
   "id": "0695c99c",
   "metadata": {},
   "source": [
    "### 1.4.4 Variables relacionadas con las noches"
   ]
  },
  {
   "cell_type": "markdown",
   "id": "a8201ce5",
   "metadata": {},
   "source": [
    "**minimum**"
   ]
  },
  {
   "cell_type": "markdown",
   "id": "73d369c8",
   "metadata": {},
   "source": [
    "En primer lugar, sacamos los estadísticos de esta variable"
   ]
  },
  {
   "cell_type": "code",
   "execution_count": null,
   "id": "9f645232",
   "metadata": {
    "scrolled": true
   },
   "outputs": [],
   "source": [
    "# Estadisticos descriptivos\n",
    "df['minimum_nights'].describe()"
   ]
  },
  {
   "cell_type": "markdown",
   "id": "bdcfd328",
   "metadata": {},
   "source": [
    "También podemos ver que existen algunos casos extraños donde la duración de la estancia es muy particular "
   ]
  },
  {
   "cell_type": "code",
   "execution_count": null,
   "id": "e6289a50",
   "metadata": {
    "scrolled": true
   },
   "outputs": [],
   "source": [
    "# Intervalos de un dia entre min y max\n",
    "df[df['maximum_nights']-df['minimum_nights']<2][['minimum_nights', 'maximum_nights']]"
   ]
  },
  {
   "cell_type": "markdown",
   "id": "dcf60364",
   "metadata": {},
   "source": [
    "Decidimos borrar estos últimos "
   ]
  },
  {
   "cell_type": "code",
   "execution_count": null,
   "id": "37fe8e7a",
   "metadata": {},
   "outputs": [],
   "source": [
    "outliers_min = df[df['maximum_nights']-df['minimum_nights']<2][['minimum_nights', 'maximum_nights']]\n",
    "indices_min = [1191143, 7787575, 11949456, 12434489, 13771205, 15819364, 15840160,\n",
    "17438123, 18638835, 19101912, 25011581, 25750741, 25887824, 26424386,\n",
    "28765752]\n",
    "\n",
    "# Eliminamos las observaciones\n",
    "df.drop(indices_min, inplace = True)"
   ]
  },
  {
   "cell_type": "markdown",
   "id": "437bdfbd",
   "metadata": {},
   "source": [
    "Procedemos a estudiar el resto de los casos. \n",
    "\n",
    "Observamos la distribución del número mínimo de noches"
   ]
  },
  {
   "cell_type": "code",
   "execution_count": null,
   "id": "f263ab06",
   "metadata": {
    "scrolled": false
   },
   "outputs": [],
   "source": [
    "# Distribucion de minimum_nights\n",
    "fig, axes = plt.subplots(1, 2, figsize=(12, 5))\n",
    "\n",
    "sns.kdeplot(df['minimum_nights'], shade=True, color='blue', ax=axes[0])\n",
    "sns.histplot(df['minimum_nights'], color='blue', bins = 30, ax=axes[1])\n",
    "\n",
    "plt.show()"
   ]
  },
  {
   "cell_type": "markdown",
   "id": "2326dc3e",
   "metadata": {},
   "source": [
    "Hay dos picos, uno para alquileres por noche (min 1 noche) y otro para alquieres por meses (min 30 noche). \n",
    "\n",
    "Se considera que pueden existir alquileres que exijan ciertos meses de permanencia. Por tanto, no se considera outlier ninguno de los anteriores casos"
   ]
  },
  {
   "cell_type": "markdown",
   "id": "8b4d73b2",
   "metadata": {},
   "source": [
    "**maximum**"
   ]
  },
  {
   "cell_type": "markdown",
   "id": "e3b4b732",
   "metadata": {},
   "source": [
    "Estudiamos nuevamente los estadísticos de la variable"
   ]
  },
  {
   "cell_type": "code",
   "execution_count": null,
   "id": "60f3b877",
   "metadata": {
    "scrolled": false
   },
   "outputs": [],
   "source": [
    "# Estadisticos descriptivos\n",
    "df['maximum_nights'].describe()"
   ]
  },
  {
   "cell_type": "markdown",
   "id": "d444d9bd",
   "metadata": {},
   "source": [
    "Se puede observar que hay muchas observaciones concentradas en el valor 1125 (posiblemente sea un valor por defecto).\n",
    "Por tanto, imputamos este valor como cota máxima del número máximo de noches."
   ]
  },
  {
   "cell_type": "code",
   "execution_count": null,
   "id": "f044ecf6",
   "metadata": {},
   "outputs": [],
   "source": [
    "# Imputacion de cota maxima\n",
    "df.loc[df['maximum_nights'] > 1125, 'maximum_nights'] = 1125"
   ]
  },
  {
   "cell_type": "markdown",
   "id": "89de34ff",
   "metadata": {},
   "source": [
    "Procedemos a estudiar la distribución del número máximo de noches."
   ]
  },
  {
   "cell_type": "code",
   "execution_count": null,
   "id": "c64aeec9",
   "metadata": {
    "scrolled": true
   },
   "outputs": [],
   "source": [
    "# Distribucion de maximum_nights\n",
    "fig, axes = plt.subplots(1, 2, figsize=(12, 5))\n",
    "\n",
    "sns.kdeplot(df['maximum_nights'], shade=True, color='blue', ax=axes[0])\n",
    "sns.histplot(df['maximum_nights'], color='blue', bins = 30, ax=axes[1])\n",
    "\n",
    "plt.show()"
   ]
  },
  {
   "cell_type": "markdown",
   "id": "0d2adb24",
   "metadata": {},
   "source": [
    "Nuevamente vemos como existen 2 picos. El primero que hace referencia a estancias de corta duración y otro que hace referencia estancias de larga duracion."
   ]
  },
  {
   "cell_type": "markdown",
   "id": "c7941c2a",
   "metadata": {},
   "source": [
    "## 1. 5 Transformaciones "
   ]
  },
  {
   "cell_type": "markdown",
   "id": "25adc862",
   "metadata": {},
   "source": [
    "Como habíamos comentado, las variables presentan asimetría, lo cual no es favorable para los modelos de regresión. Podemos estudiar esto mediante el coeficiente de asimetria de Fisher, que mida la centralidad de los datos. Si el coeficiente es 0, los datos están centrados entrorno a la media, si es postivo presentan asimetría por la derecha, y si es negativo asimetría por la izquierda."
   ]
  },
  {
   "cell_type": "code",
   "execution_count": null,
   "id": "2cccb19c",
   "metadata": {
    "scrolled": false
   },
   "outputs": [],
   "source": [
    "# Simetria\n",
    "df.skew(axis=0)"
   ]
  },
  {
   "cell_type": "markdown",
   "id": "bbeaa042",
   "metadata": {},
   "source": [
    "Así, aplicamos transformaciones logarítmicas a las variables continuas que no presentan simetría con sesgo positivo."
   ]
  },
  {
   "cell_type": "code",
   "execution_count": null,
   "id": "42c9fbf1",
   "metadata": {},
   "outputs": [],
   "source": [
    "df_log = df.copy()\n",
    "cols = ['accommodates', 'bathrooms', 'bedrooms', 'beds', 'price', 'security_deposit','cleaning_fee', 'guests_included', \n",
    "        'extra_people','number_of_reviews']"
   ]
  },
  {
   "cell_type": "code",
   "execution_count": null,
   "id": "86630ab4",
   "metadata": {},
   "outputs": [],
   "source": [
    "# Transfomacion\n",
    "cols = ['accommodates', 'bathrooms', 'bedrooms', 'beds', 'price', \n",
    "        'security_deposit','cleaning_fee', 'guests_included', \n",
    "        'extra_people','number_of_reviews']\n",
    "\n",
    "for col in cols:\n",
    "    df_log[col] = df_log[col].astype('float64').replace(0.0, 0.01)\n",
    "    df_log[col] = np.log(df_log[col])"
   ]
  },
  {
   "cell_type": "markdown",
   "id": "a4b1e25a",
   "metadata": {},
   "source": [
    "## 1.6 Análisis de correlaciones"
   ]
  },
  {
   "cell_type": "markdown",
   "id": "2447a4d0",
   "metadata": {},
   "source": [
    "Para finalizar, estudiamos las correlaciones entre las variables. Así, podemos decidir qué variables usar para el modelo y estudiar posibles relaciones existentes entre ellas."
   ]
  },
  {
   "cell_type": "code",
   "execution_count": null,
   "id": "97a76304",
   "metadata": {
    "scrolled": false
   },
   "outputs": [],
   "source": [
    "plt.figure(figsize=(20,10))\n",
    "correlaciones= df_log.corr()\n",
    "sns.heatmap(correlaciones,cmap=\"GnBu\",annot=True) \n",
    "correlaciones"
   ]
  },
  {
   "cell_type": "markdown",
   "id": "4b2d893f",
   "metadata": {},
   "source": [
    "Así, seleccionamos las siguientes variables para el modelo:\n",
    "\n",
    "Las variables de modelización:\n",
    "* latitude\n",
    "* longitude\n",
    "* bathrooms\n",
    "* beds\n",
    "* security_deposit\n",
    "* cleaning_fee\n",
    "* extra_people\n",
    "* number_of_reviews\n",
    "* review_scores_accuracy\n",
    "* Entire home/apt\n",
    "* Private room\n",
    "* Shared room\n",
    "\n",
    "Y la varibale de etiqueta:\n",
    "* price"
   ]
  },
  {
   "cell_type": "markdown",
   "id": "157badf2",
   "metadata": {},
   "source": [
    "Creamos una nueva variable _review_ de la siguiente forma:\n",
    "\n",
    "$$\\text{review} = \\text{review_scores_accuracy} \\cdot 100\\cdot \\frac{\\text{number_of_reviews}}{\\sum \\text{number_of_reviews}}$$\n",
    "\n",
    "Esta sustituirá a las variables _number_of_reviews_ y _review_scores_accuracy_"
   ]
  },
  {
   "cell_type": "code",
   "execution_count": null,
   "id": "a0a5e8fc",
   "metadata": {},
   "outputs": [],
   "source": [
    "review = df['review_scores_accuracy']*(df['number_of_reviews']/sum(df['number_of_reviews'])*100)"
   ]
  },
  {
   "cell_type": "markdown",
   "id": "24209aea",
   "metadata": {},
   "source": [
    "# 2. División de los datos"
   ]
  },
  {
   "cell_type": "code",
   "execution_count": null,
   "id": "52360406",
   "metadata": {},
   "outputs": [],
   "source": [
    "# Paquetes y liberias\n",
    "from sklearn.preprocessing import StandardScaler\n",
    "from sklearn.model_selection import train_test_split"
   ]
  },
  {
   "cell_type": "markdown",
   "id": "c43898cf",
   "metadata": {},
   "source": [
    "En primer lugar, creamos la matriz de observaciones y el vector etiqueta con los que trabajaremos para ajustar el modelo de regresión lineal."
   ]
  },
  {
   "cell_type": "code",
   "execution_count": null,
   "id": "dc1c7351",
   "metadata": {
    "scrolled": false
   },
   "outputs": [],
   "source": [
    "# Vector etiqueta\n",
    "y = df['price']\n",
    "\n",
    "# Matriz de observaciones\n",
    "X = df_log[['latitude', 'longitude','bathrooms', 'beds',  'security_deposit', 'cleaning_fee', 'extra_people',\n",
    "            'Entire home/apt', 'Private room', 'Shared room']]\n",
    "X.insert(7, 'review', review)"
   ]
  },
  {
   "cell_type": "code",
   "execution_count": null,
   "id": "ceb4eb4b",
   "metadata": {
    "scrolled": false
   },
   "outputs": [],
   "source": [
    "# Estandarizamos los datos\n",
    "objeto = StandardScaler()\n",
    "X_ss = pd.DataFrame(objeto.fit_transform(X.iloc[:,0:8]), columns=list(X.iloc[:,0:8].columns))\n",
    "# Concatenamos los datos\n",
    "X = pd.concat([X_ss, X.loc[:,'Entire home/apt':'Shared room'].reset_index()], axis=1)\n",
    "X.drop('index', axis=1, inplace=True)\n",
    "X.head(5)"
   ]
  },
  {
   "cell_type": "markdown",
   "id": "d8ce272e",
   "metadata": {},
   "source": [
    "Separamos los datos en train y test"
   ]
  },
  {
   "cell_type": "code",
   "execution_count": null,
   "id": "eff933ce",
   "metadata": {
    "scrolled": true
   },
   "outputs": [],
   "source": [
    "X_train, X_test, y_train, y_test = train_test_split(X, y, test_size=0.3, random_state=0)"
   ]
  },
  {
   "cell_type": "markdown",
   "id": "05582acb",
   "metadata": {},
   "source": [
    "Para finalizar, exportamos los datos."
   ]
  },
  {
   "cell_type": "code",
   "execution_count": null,
   "id": "e019fe4c",
   "metadata": {},
   "outputs": [],
   "source": [
    "# Librerias\n",
    "import os\n",
    "\n",
    "# Carpeta con datos\n",
    "if not os.path.exists('Datos'):\n",
    "    os.makedirs('Datos')\n",
    "    \n",
    "# Guardamos los datos\n",
    "X_train.to_csv('Datos/X_train.csv', index=False)\n",
    "X_test.to_csv('Datos/X_test.csv', index=False)\n",
    "y_train.to_csv('Datos/y_train.csv', index=False)\n",
    "y_test.to_csv('Datos/y_test.csv', index=False)"
   ]
  }
 ],
 "metadata": {
  "kernelspec": {
   "display_name": "Python 3 (ipykernel)",
   "language": "python",
   "name": "python3"
  },
  "language_info": {
   "codemirror_mode": {
    "name": "ipython",
    "version": 3
   },
   "file_extension": ".py",
   "mimetype": "text/x-python",
   "name": "python",
   "nbconvert_exporter": "python",
   "pygments_lexer": "ipython3",
   "version": "3.9.12"
  }
 },
 "nbformat": 4,
 "nbformat_minor": 5
}
